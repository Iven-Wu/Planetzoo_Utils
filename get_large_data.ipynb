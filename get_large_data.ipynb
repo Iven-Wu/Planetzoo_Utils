{
 "cells": [
  {
   "cell_type": "code",
   "execution_count": 14,
   "id": "408ac9ac",
   "metadata": {},
   "outputs": [],
   "source": [
    "import os\n",
    "from tqdm import tqdm"
   ]
  },
  {
   "cell_type": "code",
   "execution_count": 10,
   "id": "209c550d",
   "metadata": {},
   "outputs": [],
   "source": [
    "in_dir = '/media/ivenwu/My_Disk/video_dataset'\n",
    "out_dir = '/media/ivenwu/My_Disk/large_dataset'\n",
    "texture_dir = '/media/ivenwu/My_Disk/planetzoo/'"
   ]
  },
  {
   "cell_type": "code",
   "execution_count": 11,
   "id": "f1dcb351",
   "metadata": {},
   "outputs": [
    {
     "name": "stderr",
     "output_type": "stream",
     "text": [
      "cp: 无法获取'/media/ivenwu/My_Disk/video_dataset/grey_seal_male/frame_000001.obj' 的文件状态(stat): 没有那个文件或目录\n"
     ]
    }
   ],
   "source": [
    "for animal in os.listdir(in_dir):\n",
    "    obj_path = os.path.join(in_dir,animal,'frame_000001.obj')\n",
    "    outpath = os.path.join(out_dir,animal)\n",
    "    if not os.path.exists(outpath):\n",
    "        os.makedirs(outpath)\n",
    "    command = 'cp {} {}'.format(obj_path,os.path.join(outpath,'{}.obj'.format(animal)))\n",
    "    os.system(command)\n",
    "    "
   ]
  },
  {
   "cell_type": "code",
   "execution_count": 16,
   "id": "c5ce7490",
   "metadata": {},
   "outputs": [
    {
     "name": "stderr",
     "output_type": "stream",
     "text": [
      "100%|█████████████████████████████████████████| 155/155 [00:12<00:00, 12.11it/s]\n"
     ]
    }
   ],
   "source": [
    "name_list= []\n",
    "for animal in tqdm(os.listdir(out_dir)):\n",
    "    name_list.append(animal)\n",
    "    flag = 0\n",
    "    for single_path in os.walk(texture_dir):\n",
    "        i,j,k = single_path\n",
    "        for t in k:\n",
    "            if animal in t and '_fur.pbasecolourandmasktexture.PNG' in t:\n",
    "                filepath = i+'/'+t\n",
    "                command = 'cp {} {}'.format(filepath,os.path.join(out_dir,animal,t))\n",
    "                os.system(command)\n",
    "                flag = 1\n",
    "                break\n",
    "        if flag==1:\n",
    "            break"
   ]
  },
  {
   "cell_type": "code",
   "execution_count": null,
   "id": "973044c9",
   "metadata": {},
   "outputs": [],
   "source": []
  }
 ],
 "metadata": {
  "kernelspec": {
   "display_name": "Python 3 (ipykernel)",
   "language": "python",
   "name": "python3"
  },
  "language_info": {
   "codemirror_mode": {
    "name": "ipython",
    "version": 3
   },
   "file_extension": ".py",
   "mimetype": "text/x-python",
   "name": "python",
   "nbconvert_exporter": "python",
   "pygments_lexer": "ipython3",
   "version": "3.8.10"
  }
 },
 "nbformat": 4,
 "nbformat_minor": 5
}
