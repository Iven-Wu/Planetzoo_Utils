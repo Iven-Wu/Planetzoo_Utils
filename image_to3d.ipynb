{
 "cells": [
  {
   "cell_type": "code",
   "execution_count": 1,
   "id": "095b45af",
   "metadata": {},
   "outputs": [],
   "source": [
    "from PIL import Image\n",
    "import numpy as np\n",
    "import open3d as o3d\n",
    "from pdb import set_trace as bp\n",
    "import random"
   ]
  },
  {
   "cell_type": "code",
   "execution_count": 2,
   "id": "b50a77b8",
   "metadata": {},
   "outputs": [],
   "source": [
    "info_file = '/media/ivenwu/My_Disk/video_obj_sample/african_elephant_female/info/0001.npz'\n",
    "image_path = '/media/ivenwu/My_Disk/video_obj_sample/african_elephant_female/0001.png'"
   ]
  },
  {
   "cell_type": "code",
   "execution_count": 3,
   "id": "b15b79be",
   "metadata": {},
   "outputs": [],
   "source": [
    "info = np.load(info_file)\n",
    "image = Image.open(image_path)"
   ]
  },
  {
   "cell_type": "code",
   "execution_count": 4,
   "id": "cd19f9e5",
   "metadata": {},
   "outputs": [],
   "source": [
    "intrin = info['intrinsic_mat']\n",
    "extrin = info['extrinsic_mat']"
   ]
  },
  {
   "cell_type": "code",
   "execution_count": 5,
   "id": "7107136d",
   "metadata": {},
   "outputs": [],
   "source": [
    "intrin = np.eye(4)\n",
    "intrin[:-1,:-1] = info['intrinsic_mat']\n",
    "extrin = np.concatenate([extrin,np.array([0,0,0,1]).reshape(1,-1)],axis=0)\n",
    "recover_mat = np.linalg.pinv(intrin.dot(extrin))"
   ]
  },
  {
   "cell_type": "markdown",
   "id": "02920b83",
   "metadata": {},
   "source": [
    "现在需要的是，把depth对应，因为从projection得到的depth和数据里面的depth不是一个东西(其实是一个东西）"
   ]
  },
  {
   "cell_type": "code",
   "execution_count": 6,
   "id": "77ea37ac",
   "metadata": {},
   "outputs": [],
   "source": [
    "depth = info['depth_map']\n",
    "seg = info['segmentation_masks']\n"
   ]
  },
  {
   "cell_type": "code",
   "execution_count": 7,
   "id": "13a18a9c",
   "metadata": {},
   "outputs": [
    {
     "data": {
      "text/plain": [
       "(84277, 3)"
      ]
     },
     "execution_count": 7,
     "metadata": {},
     "output_type": "execute_result"
    }
   ],
   "source": [
    "x,y = np.where(seg!=0)\n",
    "co = np.concatenate([x.reshape(1,-1),y.reshape(1,-1)]).T\n",
    "# random.sample(range(co.shape[0]),3)\n",
    "select_co = co\n",
    "z = [depth[c[0],c[1]] for c in select_co]\n",
    "z = np.array(z).reshape(-1,1)\n",
    "\n",
    "xyz = np.concatenate([select_co,z],axis=1)\n",
    "xyz.shape"
   ]
  },
  {
   "cell_type": "code",
   "execution_count": 8,
   "id": "7b99ac27",
   "metadata": {},
   "outputs": [
    {
     "data": {
      "text/plain": [
       "(84277, 3)"
      ]
     },
     "execution_count": 8,
     "metadata": {},
     "output_type": "execute_result"
    }
   ],
   "source": [
    "xyzw = np.concatenate([xyz,np.ones((xyz.shape[0],1))],axis=1)\n",
    "recon = recover_mat.dot(xyzw.T).T\n",
    "recon = recon[:,:-1]\n",
    "recon.shape"
   ]
  },
  {
   "cell_type": "code",
   "execution_count": 14,
   "id": "b6feaf72",
   "metadata": {},
   "outputs": [],
   "source": [
    "recon[:,-1] = 0"
   ]
  },
  {
   "cell_type": "code",
   "execution_count": 36,
   "id": "c3c67b9a",
   "metadata": {},
   "outputs": [],
   "source": [
    "# xyz[:,:-1] = xyz[:,:-1]/xyz[:,[2]]\n",
    "xyz[:,:-1] = (xyz[:,:-1]-512)/512\n",
    "xyz[:,-1] = (xyz[:,-1]-xyz[:,-1].min())/(xyz[:,-1].max()-xyz[:,-1].min())"
   ]
  },
  {
   "cell_type": "code",
   "execution_count": 15,
   "id": "6267395d",
   "metadata": {},
   "outputs": [],
   "source": [
    "vis = o3d.visualization.Visualizer()\n",
    "pcd = o3d.geometry.PointCloud()\n",
    "pcd.points = o3d.utility.Vector3dVector(recon)\n",
    "\n",
    "o3d.visualization.draw_geometries([pcd])"
   ]
  },
  {
   "cell_type": "code",
   "execution_count": 25,
   "id": "28cac95d",
   "metadata": {},
   "outputs": [],
   "source": [
    "def recover_depth(image,info):\n",
    "    INVALID_POINT = -1\n",
    "    if type(image) !=np.ndarray:\n",
    "        image = np.array(image)\n",
    "    depth_ori = info['depth_map']\n",
    "    intrin = info['intrinsic_mat']\n",
    "    \n",
    "    depth_new = np.zeros(depth_ori.shape)\n",
    "    fx,fy,cx,cy = intrin[0,0],intrin[1,1],intrin[0,-1],intrin[1,-1]\n",
    "    for x in range(image.shape[0]):\n",
    "        a = (cx-x)/fx\n",
    "        for y in range(image.shape[1]):\n",
    "            b = (cy-y)/fy\n",
    "            if depth_ori[x,y]!=INVALID_POINT:\n",
    "                depth_new[x,y] = depth_ori[x,y] * np.linalg.norm([1,a,b])\n",
    "    return depth_new        "
   ]
  },
  {
   "cell_type": "code",
   "execution_count": 26,
   "id": "f70942d0",
   "metadata": {},
   "outputs": [],
   "source": [
    "depth_new = recover_depth(image,info)"
   ]
  },
  {
   "cell_type": "code",
   "execution_count": 28,
   "id": "ea29b011",
   "metadata": {},
   "outputs": [
    {
     "data": {
      "text/plain": [
       "array([[ 0.        ,  0.        ,  0.        , ...,  0.        ,\n",
       "         0.        ,  0.        ],\n",
       "       [ 0.        ,  0.        ,  0.        , ...,  0.        ,\n",
       "         0.        ,  0.        ],\n",
       "       [ 0.        ,  0.        ,  0.        , ...,  0.        ,\n",
       "         0.        ,  0.        ],\n",
       "       ...,\n",
       "       [15.90887458, 15.90887553, 15.9088757 , ..., 15.90887271,\n",
       "        15.90887255, 15.90887458],\n",
       "       [15.89251302, 15.8925136 , 15.89251339, ..., 15.89251339,\n",
       "        15.89251261, 15.89251302],\n",
       "       [15.87618586, 15.87618807, 15.87618748, ..., 15.87618748,\n",
       "        15.87618608, 15.87618686]])"
      ]
     },
     "execution_count": 28,
     "metadata": {},
     "output_type": "execute_result"
    }
   ],
   "source": [
    "depth_new"
   ]
  },
  {
   "cell_type": "code",
   "execution_count": 58,
   "id": "05d6dda7",
   "metadata": {},
   "outputs": [
    {
     "data": {
      "text/plain": [
       "23.806984"
      ]
     },
     "execution_count": 58,
     "metadata": {},
     "output_type": "execute_result"
    }
   ],
   "source": [
    "dep = info['depth_map']\n",
    "dep[np.where(info['segmentation_masks']==0)]=255\n",
    "dep[dep!=255].min()"
   ]
  },
  {
   "cell_type": "code",
   "execution_count": 34,
   "id": "93be540f",
   "metadata": {},
   "outputs": [
    {
     "data": {
      "image/png": "[encoded data removed]",
      "text/plain": [
       "<PIL.Image.Image image mode=L size=1024x1024 at 0x7F1A8E3ABB50>"
      ]
     },
     "execution_count": 34,
     "metadata": {},
     "output_type": "execute_result"
    }
   ],
   "source": [
    "depth_ori = info['depth_map'].astype(np.uint8)\n",
    "depth = Image.fromarray(depth_ori)\n",
    "depth"
   ]
  },
  {
   "cell_type": "code",
   "execution_count": 52,
   "id": "1466f289",
   "metadata": {},
   "outputs": [
    {
     "data": {
      "image/png": "[encoded data removed]",
      "text/plain": [
       "<PIL.Image.Image image mode=L size=1024x1024 at 0x7F1A8DF5DD90>"
      ]
     },
     "execution_count": 52,
     "metadata": {},
     "output_type": "execute_result"
    }
   ],
   "source": [
    "seg = info['segmentation_masks']\n",
    "Image.fromarray(seg.astype(np.uint8))"
   ]
  },
  {
   "cell_type": "code",
   "execution_count": null,
   "id": "e4cda276",
   "metadata": {},
   "outputs": [],
   "source": [
    "info"
   ]
  }
 ],
 "metadata": {
  "interpreter": {
   "hash": "8a360e2995680950975d36a45b60b20d9a198001a598edb717a97b0fd15e7c59"
  },
  "kernelspec": {
   "display_name": "Python 3 (ipykernel)",
   "language": "python",
   "name": "python3"
  },
  "language_info": {
   "codemirror_mode": {
    "name": "ipython",
    "version": 3
   },
   "file_extension": ".py",
   "mimetype": "text/x-python",
   "name": "python",
   "nbconvert_exporter": "python",
   "pygments_lexer": "ipython3",
   "version": "3.8.10"
  }
 },
 "nbformat": 4,
 "nbformat_minor": 5
}
