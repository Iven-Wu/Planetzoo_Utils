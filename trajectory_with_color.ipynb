{
 "cells": [
  {
   "cell_type": "code",
   "execution_count": 1,
   "metadata": {},
   "outputs": [
    {
     "name": "stdout",
     "output_type": "stream",
     "text": [
      "Jupyter environment detected. Enabling Open3D WebVisualizer.\n",
      "[Open3D INFO] WebRTC GUI backend enabled.\n",
      "[Open3D INFO] WebRTCWindowSystem: HTTP handshake server disabled.\n"
     ]
    }
   ],
   "source": [
    "import os\n",
    "import open3d as o3d\n",
    "import numpy as np\n",
    "from PIL import Image\n",
    "from tqdm import tqdm\n",
    "import random\n",
    "import pdb\n",
    "from pdb import set_trace as bp"
   ]
  },
  {
   "cell_type": "code",
   "execution_count": 2,
   "metadata": {},
   "outputs": [],
   "source": [
    "def read_obj(obj_path):\n",
    "    with open(obj_path) as file:\n",
    "        points = []\n",
    "        while 1:\n",
    "            line = file.readline()\n",
    "            if not line:\n",
    "                break\n",
    "            strs = line.split(\" \")\n",
    "            if strs[0] =='v':\n",
    "                points.append((float(strs[1]),float(strs[2]),float(strs[3])))\n",
    "\n",
    "    points = np.array(points)\n",
    "\n",
    "    return points"
   ]
  },
  {
   "cell_type": "code",
   "execution_count": 3,
   "metadata": {},
   "outputs": [],
   "source": [
    "def change(pos_array):\n",
    "    p = pos_array\n",
    "    p_new = np.zeros(p.shape)\n",
    "    for i in range(len(p)):\n",
    "        p_new[i] = np.array([p[i,0],-p[i,2],-p[i,1]])\n",
    "    return p_new"
   ]
  },
  {
   "cell_type": "code",
   "execution_count": 4,
   "metadata": {},
   "outputs": [],
   "source": [
    "if not os.path.exists('./traj'):\n",
    "    os.makedirs('./traj')"
   ]
  },
  {
   "cell_type": "code",
   "execution_count": 5,
   "metadata": {},
   "outputs": [],
   "source": [
    "file_dir = 'F:/mesh_file8'\n",
    "file_number = len(os.listdir(file_dir))\n",
    "animal_name = file_dir.split('/')[-1]"
   ]
  },
  {
   "cell_type": "code",
   "execution_count": 6,
   "metadata": {
    "scrolled": true
   },
   "outputs": [],
   "source": [
    "# pic = os.path.join(file_dir,'{:04d}.png'.format(1))\n",
    "# H,W = np.array(Image.open(pic)).shape[:-1]"
   ]
  },
  {
   "cell_type": "code",
   "execution_count": 7,
   "metadata": {},
   "outputs": [
    {
     "name": "stderr",
     "output_type": "stream",
     "text": [
      "100%|████████████████████████████████████████████████████████████████████████████████| 100/100 [00:01<00:00, 56.27it/s]\n"
     ]
    }
   ],
   "source": [
    "point_array = np.array([])\n",
    "for i in tqdm(range(file_number)):\n",
    "    points = change(read_obj(os.path.join(file_dir,'Frame{}.obj'.format(i+1))))\n",
    "    points = points.reshape(1,-1,3)\n",
    "#     point_list.append(points)\n",
    "    if len(point_array)==0:\n",
    "        point_array = points\n",
    "    else:\n",
    "        point_array = np.concatenate((point_array,points),axis=0)\n"
   ]
  },
  {
   "cell_type": "code",
   "execution_count": 8,
   "metadata": {},
   "outputs": [],
   "source": [
    "select_index = np.array(random.sample(range(point_array.shape[1]), 100))"
   ]
  },
  {
   "cell_type": "code",
   "execution_count": 9,
   "metadata": {},
   "outputs": [
    {
     "name": "stderr",
     "output_type": "stream",
     "text": [
      "100%|███████████████████████████████████████████████████████████████████████████████| 100/100 [00:00<00:00, 992.75it/s]\n"
     ]
    }
   ],
   "source": [
    "for i in tqdm(range(file_number)):\n",
    "    previous = max(0,i+1-15)\n",
    "    tmp  = point_array[previous:(i+1),select_index]\n",
    "    # tmp[:, 1] *= -1\n",
    "    np.save('./traj/{}.npy'.format(i+1),tmp)"
   ]
  },
  {
   "cell_type": "code",
   "execution_count": 10,
   "metadata": {},
   "outputs": [],
   "source": [
    "color_array = np.random.random((40,3))\n",
    "W1 = np.load(os.path.join('F:/GOOGLEDOWNLOAD','W1 (3).npy'))\n",
    "# (W1@color_array).shape\n",
    "color_matrix = W1@color_array"
   ]
  },
  {
   "cell_type": "code",
   "execution_count": 11,
   "metadata": {},
   "outputs": [],
   "source": [
    "W = H = 1024"
   ]
  },
  {
   "cell_type": "code",
   "execution_count": 12,
   "metadata": {},
   "outputs": [
    {
     "data": {
      "text/plain": [
       "(2, 100, 3)"
      ]
     },
     "execution_count": 12,
     "metadata": {},
     "output_type": "execute_result"
    }
   ],
   "source": [
    "info_index = 2\n",
    "line_info = np.load('traj/{}.npy'.format(info_index))\n",
    "line_info.shape"
   ]
  },
  {
   "cell_type": "code",
   "execution_count": 13,
   "metadata": {},
   "outputs": [],
   "source": [
    "def test_show(info_index):\n",
    "    \n",
    "    line_info = np.load('traj/{}.npy'.format(info_index))\n",
    "    vis = o3d.visualization.Visualizer()\n",
    "    vis.create_window(width=W,height=H)\n",
    "    \n",
    "    ctr = vis.get_view_control()\n",
    "    \n",
    "    mesh = o3d.io.read_triangle_mesh(os.path.join(file_dir,'Frame{}.obj'.format(info_index)))\n",
    "    \n",
    "    ########## Transformation ##########\n",
    "    points = np.array(mesh.vertices)\n",
    "    points = points[:, [0, 2, 1]]\n",
    "    points[:, 1] *= -1\n",
    "    mesh.vertices = o3d.utility.Vector3dVector(points)\n",
    "    ####################################\n",
    "    \n",
    "#     mesh.paint_uniform_color([1, 0.706, 0])\n",
    "    mesh.vertex_colors = o3d.utility.Vector3dVector(W1@color_array)\n",
    "    vis.add_geometry(mesh)\n",
    "    vis.update_geometry(mesh)\n",
    "    for index in range(line_info.shape[1]):\n",
    "        points = line_info[:,index]\n",
    "        lines = np.array([[i,i+1] for i in range(len(points)-1)])\n",
    "        points[:, 2] *= -1\n",
    "#         colors = [[1, 0, 0] for i in range(len(lines))]\n",
    "        colors = [color_matrix[select_index[index]] for i in range(len(lines))]\n",
    "        line_set = o3d.geometry.LineSet(\n",
    "            points=o3d.utility.Vector3dVector(points),\n",
    "            lines=o3d.utility.Vector2iVector(lines),\n",
    "        )\n",
    "        line_set.colors = o3d.utility.Vector3dVector(colors)\n",
    "    \n",
    "        vis.add_geometry(line_set)\n",
    "        vis.update_geometry(line_set)\n",
    "    \n",
    "    information = np.load(os.path.join('F:/info','{:04d}.npz'.format(info_index)))\n",
    "    intrin = information['intrinsic_mat']\n",
    "    extrin = np.concatenate( (information['extrinsic_mat'],np.array([0,0,0,1]).reshape((1,4))))\n",
    "                              \n",
    "    init_param = ctr.convert_to_pinhole_camera_parameters()\n",
    "    w, h = W,H\n",
    "    fx = intrin[0,0]\n",
    "    fy = intrin[1,1]\n",
    "    cx = intrin[0,2]\n",
    "    cy = intrin[1,2]\n",
    "    init_param.intrinsic.width = w\n",
    "    init_param.intrinsic.height = h\n",
    "    \n",
    "    init_param.intrinsic.set_intrinsics(init_param.intrinsic.width, init_param.intrinsic.height, fx, fy, cx, cy)\n",
    "    init_param.extrinsic = extrin\n",
    "    ctr.convert_from_pinhole_camera_parameters(init_param)\n",
    "    \n",
    "#     vis.poll_events()\n",
    "#     vis.update_renderer()\n",
    "    \n",
    "    image = vis.capture_screen_float_buffer(do_render=True)\n",
    "\n",
    "    ####\n",
    "    # vis.run()\n",
    "    ####\n",
    "    # vis.destroy_window()\n",
    "    \n",
    "    image = np.array(image) * 255\n",
    "    image = image.astype(np.uint8)\n",
    "    \n",
    "    return image\n"
   ]
  },
  {
   "cell_type": "code",
   "execution_count": 14,
   "metadata": {},
   "outputs": [
    {
     "name": "stderr",
     "output_type": "stream",
     "text": [
      "\r",
      "  0%|                                                                                          | 0/100 [00:00<?, ?it/s]"
     ]
    },
    {
     "name": "stdout",
     "output_type": "stream",
     "text": [
      "[Open3D WARNING] [SimpleShaderForLineSet] Binding failed with empty geometry::LineSet.\n",
      "[Open3D WARNING] [SimpleShaderForLineSet] Binding failed when preparing data.\n",
      "[Open3D WARNING] [SimpleShaderForLineSet] Something is wrong in compiling or binding.\n",
      "[Open3D WARNING] [SimpleShaderForLineSet] Binding failed with empty geometry::LineSet.\n",
      "[Open3D WARNING] [SimpleShaderForLineSet] Binding failed when preparing data.\n",
      "[Open3D WARNING] [SimpleShaderForLineSet] Something is wrong in compiling or binding.\n",
      "[Open3D WARNING] [SimpleShaderForLineSet] Binding failed with empty geometry::LineSet.\n",
      "[Open3D WARNING] [SimpleShaderForLineSet] Binding failed when preparing data.\n",
      "[Open3D WARNING] [SimpleShaderForLineSet] Something is wrong in compiling or binding.\n",
      "[Open3D WARNING] [SimpleShaderForLineSet] Binding failed with empty geometry::LineSet.\n",
      "[Open3D WARNING] [SimpleShaderForLineSet] Binding failed when preparing data.\n",
      "[Open3D WARNING] [SimpleShaderForLineSet] Something is wrong in compiling or binding.\n",
      "[Open3D WARNING] [SimpleShaderForLineSet] Binding failed with empty geometry::LineSet.\n",
      "[Open3D WARNING] [SimpleShaderForLineSet] Binding failed when preparing data.\n",
      "[Open3D WARNING] [SimpleShaderForLineSet] Something is wrong in compiling or binding.\n",
      "[Open3D WARNING] [SimpleShaderForLineSet] Binding failed with empty geometry::LineSet.\n",
      "[Open3D WARNING] [SimpleShaderForLineSet] Binding failed when preparing data.\n",
      "[Open3D WARNING] [SimpleShaderForLineSet] Something is wrong in compiling or binding.\n",
      "[Open3D WARNING] [SimpleShaderForLineSet] Binding failed with empty geometry::LineSet.\n",
      "[Open3D WARNING] [SimpleShaderForLineSet] Binding failed when preparing data.\n",
      "[Open3D WARNING] [SimpleShaderForLineSet] Something is wrong in compiling or binding.\n",
      "[Open3D WARNING] [SimpleShaderForLineSet] Binding failed with empty geometry::LineSet.\n",
      "[Open3D WARNING] [SimpleShaderForLineSet] Binding failed when preparing data.\n",
      "[Open3D WARNING] [SimpleShaderForLineSet] Something is wrong in compiling or binding.\n",
      "[Open3D WARNING] [SimpleShaderForLineSet] Binding failed with empty geometry::LineSet.\n",
      "[Open3D WARNING] [SimpleShaderForLineSet] Binding failed when preparing data.\n",
      "[Open3D WARNING] [SimpleShaderForLineSet] Something is wrong in compiling or binding.\n",
      "[Open3D WARNING] [SimpleShaderForLineSet] Binding failed with empty geometry::LineSet.\n",
      "[Open3D WARNING] [SimpleShaderForLineSet] Binding failed when preparing data.\n",
      "[Open3D WARNING] [SimpleShaderForLineSet] Something is wrong in compiling or binding.\n",
      "[Open3D WARNING] [SimpleShaderForLineSet] Binding failed with empty geometry::LineSet.\n",
      "[Open3D WARNING] [SimpleShaderForLineSet] Binding failed when preparing data.\n",
      "[Open3D WARNING] [SimpleShaderForLineSet] Something is wrong in compiling or binding.\n",
      "[Open3D WARNING] [SimpleShaderForLineSet] Binding failed with empty geometry::LineSet.\n",
      "[Open3D WARNING] [SimpleShaderForLineSet] Binding failed when preparing data.\n",
      "[Open3D WARNING] [SimpleShaderForLineSet] Something is wrong in compiling or binding.\n",
      "[Open3D WARNING] [SimpleShaderForLineSet] Binding failed with empty geometry::LineSet.\n",
      "[Open3D WARNING] [SimpleShaderForLineSet] Binding failed when preparing data.\n",
      "[Open3D WARNING] [SimpleShaderForLineSet] Something is wrong in compiling or binding.\n",
      "[Open3D WARNING] [SimpleShaderForLineSet] Binding failed with empty geometry::LineSet.\n",
      "[Open3D WARNING] [SimpleShaderForLineSet] Binding failed when preparing data.\n",
      "[Open3D WARNING] [SimpleShaderForLineSet] Something is wrong in compiling or binding.\n",
      "[Open3D WARNING] [SimpleShaderForLineSet] Binding failed with empty geometry::LineSet.\n",
      "[Open3D WARNING] [SimpleShaderForLineSet] Binding failed when preparing data.\n",
      "[Open3D WARNING] [SimpleShaderForLineSet] Something is wrong in compiling or binding.\n",
      "[Open3D WARNING] [SimpleShaderForLineSet] Binding failed with empty geometry::LineSet.\n",
      "[Open3D WARNING] [SimpleShaderForLineSet] Binding failed when preparing data.\n",
      "[Open3D WARNING] [SimpleShaderForLineSet] Something is wrong in compiling or binding.\n",
      "[Open3D WARNING] [SimpleShaderForLineSet] Binding failed with empty geometry::LineSet.\n",
      "[Open3D WARNING] [SimpleShaderForLineSet] Binding failed when preparing data.\n",
      "[Open3D WARNING] [SimpleShaderForLineSet] Something is wrong in compiling or binding.\n",
      "[Open3D WARNING] [SimpleShaderForLineSet] Binding failed with empty geometry::LineSet.\n",
      "[Open3D WARNING] [SimpleShaderForLineSet] Binding failed when preparing data.\n",
      "[Open3D WARNING] [SimpleShaderForLineSet] Something is wrong in compiling or binding.\n",
      "[Open3D WARNING] [SimpleShaderForLineSet] Binding failed with empty geometry::LineSet.\n",
      "[Open3D WARNING] [SimpleShaderForLineSet] Binding failed when preparing data.\n",
      "[Open3D WARNING] [SimpleShaderForLineSet] Something is wrong in compiling or binding.\n",
      "[Open3D WARNING] [SimpleShaderForLineSet] Binding failed with empty geometry::LineSet.\n",
      "[Open3D WARNING] [SimpleShaderForLineSet] Binding failed when preparing data.\n",
      "[Open3D WARNING] [SimpleShaderForLineSet] Something is wrong in compiling or binding.\n",
      "[Open3D WARNING] [SimpleShaderForLineSet] Binding failed with empty geometry::LineSet.\n",
      "[Open3D WARNING] [SimpleShaderForLineSet] Binding failed when preparing data.\n",
      "[Open3D WARNING] [SimpleShaderForLineSet] Something is wrong in compiling or binding.\n",
      "[Open3D WARNING] [SimpleShaderForLineSet] Binding failed with empty geometry::LineSet.\n",
      "[Open3D WARNING] [SimpleShaderForLineSet] Binding failed when preparing data.\n",
      "[Open3D WARNING] [SimpleShaderForLineSet] Something is wrong in compiling or binding.\n",
      "[Open3D WARNING] [SimpleShaderForLineSet] Binding failed with empty geometry::LineSet.\n",
      "[Open3D WARNING] [SimpleShaderForLineSet] Binding failed when preparing data.\n",
      "[Open3D WARNING] [SimpleShaderForLineSet] Something is wrong in compiling or binding.\n",
      "[Open3D WARNING] [SimpleShaderForLineSet] Binding failed with empty geometry::LineSet.\n",
      "[Open3D WARNING] [SimpleShaderForLineSet] Binding failed when preparing data.\n",
      "[Open3D WARNING] [SimpleShaderForLineSet] Something is wrong in compiling or binding.\n",
      "[Open3D WARNING] [SimpleShaderForLineSet] Binding failed with empty geometry::LineSet.\n",
      "[Open3D WARNING] [SimpleShaderForLineSet] Binding failed when preparing data.\n",
      "[Open3D WARNING] [SimpleShaderForLineSet] Something is wrong in compiling or binding.\n",
      "[Open3D WARNING] [SimpleShaderForLineSet] Binding failed with empty geometry::LineSet.\n",
      "[Open3D WARNING] [SimpleShaderForLineSet] Binding failed when preparing data.\n",
      "[Open3D WARNING] [SimpleShaderForLineSet] Something is wrong in compiling or binding.\n",
      "[Open3D WARNING] [SimpleShaderForLineSet] Binding failed with empty geometry::LineSet.\n",
      "[Open3D WARNING] [SimpleShaderForLineSet] Binding failed when preparing data.\n",
      "[Open3D WARNING] [SimpleShaderForLineSet] Something is wrong in compiling or binding.\n",
      "[Open3D WARNING] [SimpleShaderForLineSet] Binding failed with empty geometry::LineSet.\n",
      "[Open3D WARNING] [SimpleShaderForLineSet] Binding failed when preparing data.\n",
      "[Open3D WARNING] [SimpleShaderForLineSet] Something is wrong in compiling or binding.\n",
      "[Open3D WARNING] [SimpleShaderForLineSet] Binding failed with empty geometry::LineSet.\n",
      "[Open3D WARNING] [SimpleShaderForLineSet] Binding failed when preparing data.\n",
      "[Open3D WARNING] [SimpleShaderForLineSet] Something is wrong in compiling or binding.\n",
      "[Open3D WARNING] [SimpleShaderForLineSet] Binding failed with empty geometry::LineSet.\n",
      "[Open3D WARNING] [SimpleShaderForLineSet] Binding failed when preparing data.\n",
      "[Open3D WARNING] [SimpleShaderForLineSet] Something is wrong in compiling or binding.\n",
      "[Open3D WARNING] [SimpleShaderForLineSet] Binding failed with empty geometry::LineSet.\n",
      "[Open3D WARNING] [SimpleShaderForLineSet] Binding failed when preparing data.\n",
      "[Open3D WARNING] [SimpleShaderForLineSet] Something is wrong in compiling or binding.\n",
      "[Open3D WARNING] [SimpleShaderForLineSet] Binding failed with empty geometry::LineSet.\n",
      "[Open3D WARNING] [SimpleShaderForLineSet] Binding failed when preparing data.\n",
      "[Open3D WARNING] [SimpleShaderForLineSet] Something is wrong in compiling or binding.\n",
      "[Open3D WARNING] [SimpleShaderForLineSet] Binding failed with empty geometry::LineSet.\n",
      "[Open3D WARNING] [SimpleShaderForLineSet] Binding failed when preparing data.\n",
      "[Open3D WARNING] [SimpleShaderForLineSet] Something is wrong in compiling or binding.\n",
      "[Open3D WARNING] [SimpleShaderForLineSet] Binding failed with empty geometry::LineSet.\n",
      "[Open3D WARNING] [SimpleShaderForLineSet] Binding failed when preparing data.\n",
      "[Open3D WARNING] [SimpleShaderForLineSet] Something is wrong in compiling or binding.\n",
      "[Open3D WARNING] [SimpleShaderForLineSet] Binding failed with empty geometry::LineSet.\n",
      "[Open3D WARNING] [SimpleShaderForLineSet] Binding failed when preparing data.\n",
      "[Open3D WARNING] [SimpleShaderForLineSet] Something is wrong in compiling or binding.\n",
      "[Open3D WARNING] [SimpleShaderForLineSet] Binding failed with empty geometry::LineSet.\n",
      "[Open3D WARNING] [SimpleShaderForLineSet] Binding failed when preparing data.\n",
      "[Open3D WARNING] [SimpleShaderForLineSet] Something is wrong in compiling or binding.\n",
      "[Open3D WARNING] [SimpleShaderForLineSet] Binding failed with empty geometry::LineSet.\n",
      "[Open3D WARNING] [SimpleShaderForLineSet] Binding failed when preparing data.\n",
      "[Open3D WARNING] [SimpleShaderForLineSet] Something is wrong in compiling or binding.\n",
      "[Open3D WARNING] [SimpleShaderForLineSet] Binding failed with empty geometry::LineSet.\n",
      "[Open3D WARNING] [SimpleShaderForLineSet] Binding failed when preparing data.\n",
      "[Open3D WARNING] [SimpleShaderForLineSet] Something is wrong in compiling or binding.\n",
      "[Open3D WARNING] [SimpleShaderForLineSet] Binding failed with empty geometry::LineSet.\n",
      "[Open3D WARNING] [SimpleShaderForLineSet] Binding failed when preparing data.\n",
      "[Open3D WARNING] [SimpleShaderForLineSet] Something is wrong in compiling or binding.\n",
      "[Open3D WARNING] [SimpleShaderForLineSet] Binding failed with empty geometry::LineSet.\n",
      "[Open3D WARNING] [SimpleShaderForLineSet] Binding failed when preparing data.\n",
      "[Open3D WARNING] [SimpleShaderForLineSet] Something is wrong in compiling or binding.\n",
      "[Open3D WARNING] [SimpleShaderForLineSet] Binding failed with empty geometry::LineSet.\n",
      "[Open3D WARNING] [SimpleShaderForLineSet] Binding failed when preparing data.\n",
      "[Open3D WARNING] [SimpleShaderForLineSet] Something is wrong in compiling or binding.\n",
      "[Open3D WARNING] [SimpleShaderForLineSet] Binding failed with empty geometry::LineSet.\n",
      "[Open3D WARNING] [SimpleShaderForLineSet] Binding failed when preparing data.\n",
      "[Open3D WARNING] [SimpleShaderForLineSet] Something is wrong in compiling or binding.\n",
      "[Open3D WARNING] [SimpleShaderForLineSet] Binding failed with empty geometry::LineSet.\n",
      "[Open3D WARNING] [SimpleShaderForLineSet] Binding failed when preparing data.\n",
      "[Open3D WARNING] [SimpleShaderForLineSet] Something is wrong in compiling or binding.\n",
      "[Open3D WARNING] [SimpleShaderForLineSet] Binding failed with empty geometry::LineSet.\n",
      "[Open3D WARNING] [SimpleShaderForLineSet] Binding failed when preparing data.\n",
      "[Open3D WARNING] [SimpleShaderForLineSet] Something is wrong in compiling or binding.\n",
      "[Open3D WARNING] [SimpleShaderForLineSet] Binding failed with empty geometry::LineSet.\n",
      "[Open3D WARNING] [SimpleShaderForLineSet] Binding failed when preparing data.\n",
      "[Open3D WARNING] [SimpleShaderForLineSet] Something is wrong in compiling or binding.\n",
      "[Open3D WARNING] [SimpleShaderForLineSet] Binding failed with empty geometry::LineSet.\n",
      "[Open3D WARNING] [SimpleShaderForLineSet] Binding failed when preparing data.\n",
      "[Open3D WARNING] [SimpleShaderForLineSet] Something is wrong in compiling or binding.\n",
      "[Open3D WARNING] [SimpleShaderForLineSet] Binding failed with empty geometry::LineSet.\n",
      "[Open3D WARNING] [SimpleShaderForLineSet] Binding failed when preparing data.\n",
      "[Open3D WARNING] [SimpleShaderForLineSet] Something is wrong in compiling or binding.\n",
      "[Open3D WARNING] [SimpleShaderForLineSet] Binding failed with empty geometry::LineSet.\n",
      "[Open3D WARNING] [SimpleShaderForLineSet] Binding failed when preparing data.\n",
      "[Open3D WARNING] [SimpleShaderForLineSet] Something is wrong in compiling or binding.\n",
      "[Open3D WARNING] [SimpleShaderForLineSet] Binding failed with empty geometry::LineSet.\n",
      "[Open3D WARNING] [SimpleShaderForLineSet] Binding failed when preparing data.\n",
      "[Open3D WARNING] [SimpleShaderForLineSet] Something is wrong in compiling or binding.\n",
      "[Open3D WARNING] [SimpleShaderForLineSet] Binding failed with empty geometry::LineSet.\n",
      "[Open3D WARNING] [SimpleShaderForLineSet] Binding failed when preparing data.\n",
      "[Open3D WARNING] [SimpleShaderForLineSet] Something is wrong in compiling or binding.\n",
      "[Open3D WARNING] [SimpleShaderForLineSet] Binding failed with empty geometry::LineSet.\n",
      "[Open3D WARNING] [SimpleShaderForLineSet] Binding failed when preparing data.\n",
      "[Open3D WARNING] [SimpleShaderForLineSet] Something is wrong in compiling or binding.\n",
      "[Open3D WARNING] [SimpleShaderForLineSet] Binding failed with empty geometry::LineSet.\n",
      "[Open3D WARNING] [SimpleShaderForLineSet] Binding failed when preparing data.\n",
      "[Open3D WARNING] [SimpleShaderForLineSet] Something is wrong in compiling or binding.\n",
      "[Open3D WARNING] [SimpleShaderForLineSet] Binding failed with empty geometry::LineSet.\n",
      "[Open3D WARNING] [SimpleShaderForLineSet] Binding failed when preparing data.\n",
      "[Open3D WARNING] [SimpleShaderForLineSet] Something is wrong in compiling or binding.\n",
      "[Open3D WARNING] [SimpleShaderForLineSet] Binding failed with empty geometry::LineSet.\n",
      "[Open3D WARNING] [SimpleShaderForLineSet] Binding failed when preparing data.\n",
      "[Open3D WARNING] [SimpleShaderForLineSet] Something is wrong in compiling or binding.\n",
      "[Open3D WARNING] [SimpleShaderForLineSet] Binding failed with empty geometry::LineSet.\n",
      "[Open3D WARNING] [SimpleShaderForLineSet] Binding failed when preparing data.\n",
      "[Open3D WARNING] [SimpleShaderForLineSet] Something is wrong in compiling or binding.\n",
      "[Open3D WARNING] [SimpleShaderForLineSet] Binding failed with empty geometry::LineSet.\n",
      "[Open3D WARNING] [SimpleShaderForLineSet] Binding failed when preparing data.\n",
      "[Open3D WARNING] [SimpleShaderForLineSet] Something is wrong in compiling or binding.\n",
      "[Open3D WARNING] [SimpleShaderForLineSet] Binding failed with empty geometry::LineSet.\n",
      "[Open3D WARNING] [SimpleShaderForLineSet] Binding failed when preparing data.\n",
      "[Open3D WARNING] [SimpleShaderForLineSet] Something is wrong in compiling or binding.\n",
      "[Open3D WARNING] [SimpleShaderForLineSet] Binding failed with empty geometry::LineSet.\n",
      "[Open3D WARNING] [SimpleShaderForLineSet] Binding failed when preparing data.\n",
      "[Open3D WARNING] [SimpleShaderForLineSet] Something is wrong in compiling or binding.\n",
      "[Open3D WARNING] [SimpleShaderForLineSet] Binding failed with empty geometry::LineSet.\n",
      "[Open3D WARNING] [SimpleShaderForLineSet] Binding failed when preparing data.\n",
      "[Open3D WARNING] [SimpleShaderForLineSet] Something is wrong in compiling or binding.\n",
      "[Open3D WARNING] [SimpleShaderForLineSet] Binding failed with empty geometry::LineSet.\n",
      "[Open3D WARNING] [SimpleShaderForLineSet] Binding failed when preparing data.\n",
      "[Open3D WARNING] [SimpleShaderForLineSet] Something is wrong in compiling or binding.\n",
      "[Open3D WARNING] [SimpleShaderForLineSet] Binding failed with empty geometry::LineSet.\n",
      "[Open3D WARNING] [SimpleShaderForLineSet] Binding failed when preparing data.\n",
      "[Open3D WARNING] [SimpleShaderForLineSet] Something is wrong in compiling or binding.\n",
      "[Open3D WARNING] [SimpleShaderForLineSet] Binding failed with empty geometry::LineSet.\n",
      "[Open3D WARNING] [SimpleShaderForLineSet] Binding failed when preparing data.\n",
      "[Open3D WARNING] [SimpleShaderForLineSet] Something is wrong in compiling or binding.\n",
      "[Open3D WARNING] [SimpleShaderForLineSet] Binding failed with empty geometry::LineSet.\n",
      "[Open3D WARNING] [SimpleShaderForLineSet] Binding failed when preparing data.\n",
      "[Open3D WARNING] [SimpleShaderForLineSet] Something is wrong in compiling or binding.\n",
      "[Open3D WARNING] [SimpleShaderForLineSet] Binding failed with empty geometry::LineSet.\n",
      "[Open3D WARNING] [SimpleShaderForLineSet] Binding failed when preparing data.\n",
      "[Open3D WARNING] [SimpleShaderForLineSet] Something is wrong in compiling or binding.\n",
      "[Open3D WARNING] [SimpleShaderForLineSet] Binding failed with empty geometry::LineSet.\n",
      "[Open3D WARNING] [SimpleShaderForLineSet] Binding failed when preparing data.\n",
      "[Open3D WARNING] [SimpleShaderForLineSet] Something is wrong in compiling or binding.\n",
      "[Open3D WARNING] [SimpleShaderForLineSet] Binding failed with empty geometry::LineSet.\n",
      "[Open3D WARNING] [SimpleShaderForLineSet] Binding failed when preparing data.\n",
      "[Open3D WARNING] [SimpleShaderForLineSet] Something is wrong in compiling or binding.\n",
      "[Open3D WARNING] [SimpleShaderForLineSet] Binding failed with empty geometry::LineSet.\n",
      "[Open3D WARNING] [SimpleShaderForLineSet] Binding failed when preparing data.\n",
      "[Open3D WARNING] [SimpleShaderForLineSet] Something is wrong in compiling or binding.\n",
      "[Open3D WARNING] [SimpleShaderForLineSet] Binding failed with empty geometry::LineSet.\n",
      "[Open3D WARNING] [SimpleShaderForLineSet] Binding failed when preparing data.\n",
      "[Open3D WARNING] [SimpleShaderForLineSet] Something is wrong in compiling or binding.\n",
      "[Open3D WARNING] [SimpleShaderForLineSet] Binding failed with empty geometry::LineSet.\n",
      "[Open3D WARNING] [SimpleShaderForLineSet] Binding failed when preparing data.\n",
      "[Open3D WARNING] [SimpleShaderForLineSet] Something is wrong in compiling or binding.\n",
      "[Open3D WARNING] [SimpleShaderForLineSet] Binding failed with empty geometry::LineSet.\n",
      "[Open3D WARNING] [SimpleShaderForLineSet] Binding failed when preparing data.\n",
      "[Open3D WARNING] [SimpleShaderForLineSet] Something is wrong in compiling or binding.\n",
      "[Open3D WARNING] [SimpleShaderForLineSet] Binding failed with empty geometry::LineSet.\n",
      "[Open3D WARNING] [SimpleShaderForLineSet] Binding failed when preparing data.\n",
      "[Open3D WARNING] [SimpleShaderForLineSet] Something is wrong in compiling or binding.\n",
      "[Open3D WARNING] [SimpleShaderForLineSet] Binding failed with empty geometry::LineSet.\n",
      "[Open3D WARNING] [SimpleShaderForLineSet] Binding failed when preparing data.\n",
      "[Open3D WARNING] [SimpleShaderForLineSet] Something is wrong in compiling or binding.\n",
      "[Open3D WARNING] [SimpleShaderForLineSet] Binding failed with empty geometry::LineSet.\n",
      "[Open3D WARNING] [SimpleShaderForLineSet] Binding failed when preparing data.\n",
      "[Open3D WARNING] [SimpleShaderForLineSet] Something is wrong in compiling or binding.\n",
      "[Open3D WARNING] [SimpleShaderForLineSet] Binding failed with empty geometry::LineSet.\n",
      "[Open3D WARNING] [SimpleShaderForLineSet] Binding failed when preparing data.\n",
      "[Open3D WARNING] [SimpleShaderForLineSet] Something is wrong in compiling or binding.\n",
      "[Open3D WARNING] [SimpleShaderForLineSet] Binding failed with empty geometry::LineSet.\n",
      "[Open3D WARNING] [SimpleShaderForLineSet] Binding failed when preparing data.\n",
      "[Open3D WARNING] [SimpleShaderForLineSet] Something is wrong in compiling or binding.\n",
      "[Open3D WARNING] [SimpleShaderForLineSet] Binding failed with empty geometry::LineSet.\n",
      "[Open3D WARNING] [SimpleShaderForLineSet] Binding failed when preparing data.\n",
      "[Open3D WARNING] [SimpleShaderForLineSet] Something is wrong in compiling or binding.\n",
      "[Open3D WARNING] [SimpleShaderForLineSet] Binding failed with empty geometry::LineSet.\n",
      "[Open3D WARNING] [SimpleShaderForLineSet] Binding failed when preparing data.\n",
      "[Open3D WARNING] [SimpleShaderForLineSet] Something is wrong in compiling or binding.\n",
      "[Open3D WARNING] [SimpleShaderForLineSet] Binding failed with empty geometry::LineSet.\n",
      "[Open3D WARNING] [SimpleShaderForLineSet] Binding failed when preparing data.\n",
      "[Open3D WARNING] [SimpleShaderForLineSet] Something is wrong in compiling or binding.\n",
      "[Open3D WARNING] [SimpleShaderForLineSet] Binding failed with empty geometry::LineSet.\n",
      "[Open3D WARNING] [SimpleShaderForLineSet] Binding failed when preparing data.\n",
      "[Open3D WARNING] [SimpleShaderForLineSet] Something is wrong in compiling or binding.\n",
      "[Open3D WARNING] [SimpleShaderForLineSet] Binding failed with empty geometry::LineSet.\n",
      "[Open3D WARNING] [SimpleShaderForLineSet] Binding failed when preparing data.\n",
      "[Open3D WARNING] [SimpleShaderForLineSet] Something is wrong in compiling or binding.\n",
      "[Open3D WARNING] [SimpleShaderForLineSet] Binding failed with empty geometry::LineSet.\n",
      "[Open3D WARNING] [SimpleShaderForLineSet] Binding failed when preparing data.\n",
      "[Open3D WARNING] [SimpleShaderForLineSet] Something is wrong in compiling or binding.\n",
      "[Open3D WARNING] [SimpleShaderForLineSet] Binding failed with empty geometry::LineSet.\n",
      "[Open3D WARNING] [SimpleShaderForLineSet] Binding failed when preparing data.\n",
      "[Open3D WARNING] [SimpleShaderForLineSet] Something is wrong in compiling or binding.\n",
      "[Open3D WARNING] [SimpleShaderForLineSet] Binding failed with empty geometry::LineSet.\n",
      "[Open3D WARNING] [SimpleShaderForLineSet] Binding failed when preparing data.\n",
      "[Open3D WARNING] [SimpleShaderForLineSet] Something is wrong in compiling or binding.\n",
      "[Open3D WARNING] [SimpleShaderForLineSet] Binding failed with empty geometry::LineSet.\n",
      "[Open3D WARNING] [SimpleShaderForLineSet] Binding failed when preparing data.\n",
      "[Open3D WARNING] [SimpleShaderForLineSet] Something is wrong in compiling or binding.\n",
      "[Open3D WARNING] [SimpleShaderForLineSet] Binding failed with empty geometry::LineSet.\n",
      "[Open3D WARNING] [SimpleShaderForLineSet] Binding failed when preparing data.\n",
      "[Open3D WARNING] [SimpleShaderForLineSet] Something is wrong in compiling or binding.\n",
      "[Open3D WARNING] [SimpleShaderForLineSet] Binding failed with empty geometry::LineSet.\n",
      "[Open3D WARNING] [SimpleShaderForLineSet] Binding failed when preparing data.\n",
      "[Open3D WARNING] [SimpleShaderForLineSet] Something is wrong in compiling or binding.\n",
      "[Open3D WARNING] [SimpleShaderForLineSet] Binding failed with empty geometry::LineSet.\n",
      "[Open3D WARNING] [SimpleShaderForLineSet] Binding failed when preparing data.\n",
      "[Open3D WARNING] [SimpleShaderForLineSet] Something is wrong in compiling or binding.\n",
      "[Open3D WARNING] [SimpleShaderForLineSet] Binding failed with empty geometry::LineSet.\n",
      "[Open3D WARNING] [SimpleShaderForLineSet] Binding failed when preparing data.\n",
      "[Open3D WARNING] [SimpleShaderForLineSet] Something is wrong in compiling or binding.\n",
      "[Open3D WARNING] [SimpleShaderForLineSet] Binding failed with empty geometry::LineSet.\n",
      "[Open3D WARNING] [SimpleShaderForLineSet] Binding failed when preparing data.\n",
      "[Open3D WARNING] [SimpleShaderForLineSet] Something is wrong in compiling or binding.\n",
      "[Open3D WARNING] [SimpleShaderForLineSet] Binding failed with empty geometry::LineSet.\n",
      "[Open3D WARNING] [SimpleShaderForLineSet] Binding failed when preparing data.\n",
      "[Open3D WARNING] [SimpleShaderForLineSet] Something is wrong in compiling or binding.\n",
      "[Open3D WARNING] [SimpleShaderForLineSet] Binding failed with empty geometry::LineSet.\n",
      "[Open3D WARNING] [SimpleShaderForLineSet] Binding failed when preparing data.\n",
      "[Open3D WARNING] [SimpleShaderForLineSet] Something is wrong in compiling or binding.\n",
      "[Open3D WARNING] [SimpleShaderForLineSet] Binding failed with empty geometry::LineSet.\n",
      "[Open3D WARNING] [SimpleShaderForLineSet] Binding failed when preparing data.\n",
      "[Open3D WARNING] [SimpleShaderForLineSet] Something is wrong in compiling or binding.\n",
      "[Open3D WARNING] [SimpleShaderForLineSet] Binding failed with empty geometry::LineSet.\n",
      "[Open3D WARNING] [SimpleShaderForLineSet] Binding failed when preparing data.\n",
      "[Open3D WARNING] [SimpleShaderForLineSet] Something is wrong in compiling or binding.\n",
      "[Open3D WARNING] [SimpleShaderForLineSet] Binding failed with empty geometry::LineSet.\n",
      "[Open3D WARNING] [SimpleShaderForLineSet] Binding failed when preparing data.\n",
      "[Open3D WARNING] [SimpleShaderForLineSet] Something is wrong in compiling or binding.\n",
      "[Open3D WARNING] [SimpleShaderForLineSet] Binding failed with empty geometry::LineSet.\n",
      "[Open3D WARNING] [SimpleShaderForLineSet] Binding failed when preparing data.\n",
      "[Open3D WARNING] [SimpleShaderForLineSet] Something is wrong in compiling or binding.\n",
      "[Open3D WARNING] [SimpleShaderForLineSet] Binding failed with empty geometry::LineSet.\n",
      "[Open3D WARNING] [SimpleShaderForLineSet] Binding failed when preparing data.\n",
      "[Open3D WARNING] [SimpleShaderForLineSet] Something is wrong in compiling or binding.\n",
      "[Open3D WARNING] [SimpleShaderForLineSet] Binding failed with empty geometry::LineSet.\n",
      "[Open3D WARNING] [SimpleShaderForLineSet] Binding failed when preparing data.\n",
      "[Open3D WARNING] [SimpleShaderForLineSet] Something is wrong in compiling or binding.\n",
      "[Open3D WARNING] [SimpleShaderForLineSet] Binding failed with empty geometry::LineSet.\n",
      "[Open3D WARNING] [SimpleShaderForLineSet] Binding failed when preparing data.\n",
      "[Open3D WARNING] [SimpleShaderForLineSet] Something is wrong in compiling or binding.\n",
      "[Open3D WARNING] [SimpleShaderForLineSet] Binding failed with empty geometry::LineSet.\n",
      "[Open3D WARNING] [SimpleShaderForLineSet] Binding failed when preparing data.\n",
      "[Open3D WARNING] [SimpleShaderForLineSet] Something is wrong in compiling or binding.\n",
      "[Open3D WARNING] [SimpleShaderForLineSet] Binding failed with empty geometry::LineSet.\n",
      "[Open3D WARNING] [SimpleShaderForLineSet] Binding failed when preparing data.\n",
      "[Open3D WARNING] [SimpleShaderForLineSet] Something is wrong in compiling or binding.\n"
     ]
    },
    {
     "name": "stderr",
     "output_type": "stream",
     "text": [
      "100%|████████████████████████████████████████████████████████████████████████████████| 100/100 [00:49<00:00,  2.04it/s]\n"
     ]
    }
   ],
   "source": [
    "for i in tqdm(range(file_number)):\n",
    "    image = test_show(i+1)\n",
    "    img = Image.fromarray(image)\n",
    "    img.save('D:/imagerepo4/{}.png'.format(i+1))"
   ]
  },
  {
   "cell_type": "code",
   "execution_count": 111,
   "metadata": {},
   "outputs": [],
   "source": [
    "import numpy as np"
   ]
  },
  {
   "cell_type": "code",
   "execution_count": 113,
   "metadata": {},
   "outputs": [],
   "source": [
    "occ = np.random.randint"
   ]
  },
  {
   "cell_type": "code",
   "execution_count": 114,
   "metadata": {},
   "outputs": [
    {
     "data": {
      "text/plain": [
       "(3,)"
      ]
     },
     "execution_count": 114,
     "metadata": {},
     "output_type": "execute_result"
    }
   ],
   "source": [
    "occ.shape"
   ]
  },
  {
   "cell_type": "code",
   "execution_count": 17,
   "metadata": {},
   "outputs": [
    {
     "data": {
      "text/plain": [
       "array([1.        , 1.        , 0.9999999 , ..., 0.9999999 , 0.99999994,\n",
       "       1.        ], dtype=float32)"
      ]
     },
     "execution_count": 17,
     "metadata": {},
     "output_type": "execute_result"
    }
   ],
   "source": [
    "W1.sum(1)"
   ]
  },
  {
   "cell_type": "code",
   "execution_count": null,
   "metadata": {},
   "outputs": [],
   "source": []
  },
  {
   "cell_type": "code",
   "execution_count": null,
   "metadata": {},
   "outputs": [],
   "source": []
  },
  {
   "cell_type": "code",
   "execution_count": null,
   "metadata": {},
   "outputs": [],
   "source": []
  }
 ],
 "metadata": {
  "interpreter": {
   "hash": "e72e4651659ee74c456ed58d60eb41d782e0860a47f05e8e225d334f58c03108"
  },
  "kernelspec": {
   "display_name": "Python 3",
   "language": "python",
   "name": "python3"
  },
  "language_info": {
   "codemirror_mode": {
    "name": "ipython",
    "version": 3
   },
   "file_extension": ".py",
   "mimetype": "text/x-python",
   "name": "python",
   "nbconvert_exporter": "python",
   "pygments_lexer": "ipython3",
   "version": "3.7.3"
  }
 },
 "nbformat": 4,
 "nbformat_minor": 5
}
