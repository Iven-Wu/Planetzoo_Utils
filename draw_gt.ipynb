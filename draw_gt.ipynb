{
 "cells": [
  {
   "cell_type": "code",
   "execution_count": 4,
   "id": "a2e1f711",
   "metadata": {},
   "outputs": [],
   "source": [
    "import open3d as o3d\n",
    "import numpy as np\n",
    "import pandas as pd\n",
    "from pdb import set_trace as bp\n",
    "from PIL import Image"
   ]
  },
  {
   "cell_type": "code",
   "execution_count": 53,
   "id": "6900c133",
   "metadata": {},
   "outputs": [
    {
     "name": "stdout",
     "output_type": "stream",
     "text": [
      "\u001b[1;33m[Open3D WARNING] Read OBJ failed: Material file [ frame_000001.mtl ] not found.\n",
      "Failed to load material file(s). Use default material.\n",
      "\u001b[0;m\n"
     ]
    }
   ],
   "source": [
    "mesh_file = 'frame_000001.obj'\n",
    "mesh = o3d.io.read_triangle_mesh(mesh_file)"
   ]
  },
  {
   "cell_type": "code",
   "execution_count": 55,
   "id": "15cb785b",
   "metadata": {},
   "outputs": [],
   "source": [
    "def normalize_obj(mesh_v):\n",
    "    dims = [max(mesh_v[:, 0]) - min(mesh_v[:, 0]),\n",
    "            max(mesh_v[:, 1]) - min(mesh_v[:, 1]),\n",
    "            max(mesh_v[:, 2]) - min(mesh_v[:, 2])]\n",
    "    scale = 1.0 / max(dims)\n",
    "    pivot = np.array([(min(mesh_v[:, 0]) + max(mesh_v[:, 0])) / 2, min(mesh_v[:, 1]),\n",
    "                      (min(mesh_v[:, 2]) + max(mesh_v[:, 2])) / 2])\n",
    "    mesh_v[:, 0] -= pivot[0]\n",
    "    mesh_v[:, 1] -= pivot[1]\n",
    "    mesh_v[:, 2] -= pivot[2]\n",
    "    mesh_v *= scale\n",
    "    return mesh_v, pivot, scale"
   ]
  },
  {
   "cell_type": "code",
   "execution_count": 56,
   "id": "c3cebb88",
   "metadata": {},
   "outputs": [],
   "source": [
    "def drawSphere(center, radius, color=[0.0,0.0,0.0]):\n",
    "    mesh_sphere = o3d.geometry.TriangleMesh.create_sphere(radius=radius)\n",
    "    transform_mat = np.eye(4)\n",
    "    transform_mat[0:3, -1] = center\n",
    "    mesh_sphere.transform(transform_mat)\n",
    "    mesh_sphere.paint_uniform_color(color)\n",
    "    return mesh_sphere\n",
    "\n",
    "\n",
    "def drawCone(bottom_center, top_position, color=[0.6, 0.6, 0.9]):\n",
    "    cone = o3d.geometry.TriangleMesh.create_cone(radius=0.007, height=np.linalg.norm(top_position - bottom_center)+1e-6)\n",
    "    line1 = np.array([0.0, 0.0, 1.0])\n",
    "    line2 = (top_position - bottom_center) / (np.linalg.norm(top_position - bottom_center)+1e-6)\n",
    "    v = np.cross(line1, line2)\n",
    "    c = np.dot(line1, line2) + 1e-8\n",
    "    k = np.array([[0, -v[2], v[1]], [v[2], 0, -v[0]], [-v[1], v[0], 0]])\n",
    "    R = np.eye(3) + k + np.matmul(k, k) * (1 / (1 + c))\n",
    "    if np.abs(c + 1.0) < 1e-4: # the above formula doesn't apply when cos(∠(𝑎,𝑏))=−1\n",
    "        R = np.array([[-1, 0, 0], [0, 1, 0], [0, 0, -1]])\n",
    "    T = bottom_center + 5e-3 * line2\n",
    "    #print(R)\n",
    "    cone.transform(np.concatenate((np.concatenate((R, T[:, np.newaxis]), axis=1), np.array([[0.0, 0.0, 0.0, 1.0]])), axis=0))\n",
    "    cone.paint_uniform_color(color)\n",
    "    return cone"
   ]
  },
  {
   "cell_type": "code",
   "execution_count": 57,
   "id": "fe17bfbb",
   "metadata": {},
   "outputs": [],
   "source": [
    "info = np.load('african_buffalo_female.npy',allow_pickle=True)"
   ]
  },
  {
   "cell_type": "code",
   "execution_count": 60,
   "id": "0d469b1c",
   "metadata": {},
   "outputs": [],
   "source": [
    "info = info.item()"
   ]
  },
  {
   "cell_type": "code",
   "execution_count": 61,
   "id": "ecf731f8",
   "metadata": {},
   "outputs": [],
   "source": [
    "def change(pos_array):\n",
    "    p = pos_array\n",
    "    return (p[0],p[2],-p[1]+0.2)"
   ]
  },
  {
   "cell_type": "code",
   "execution_count": 63,
   "id": "17e976e2",
   "metadata": {},
   "outputs": [],
   "source": [
    "vis = o3d.visualization.Visualizer()\n",
    "vis.create_window()\n",
    "mesh_ls = o3d.geometry.LineSet.create_from_triangle_mesh(mesh)\n",
    "mesh_ls.colors = o3d.utility.Vector3dVector([[0.8, 0.8, 0.8] for i in range(len(mesh_ls.lines))])\n",
    "vis.add_geometry(mesh_ls)\n",
    "this_level = [info['def_c_root_joint']]\n",
    "vis.add_geometry(drawSphere(this_level[0]['head'], 0.008, color=[1.0, 0.0, 0.0]))\n",
    "while this_level:\n",
    "    next_level = []\n",
    "    for p_node in this_level:\n",
    "#         bp()\n",
    "#         print(p_node['head'])\n",
    "        vis.add_geometry(drawSphere(change(p_node['head']), 0.008, color=[1.0, 0.0, 0.0])) # [0.3, 0.1, 0.1]\n",
    "        vis.add_geometry(drawSphere(change(p_node['tail']), 0.008, color=[1.0, 0.0, 0.0]))\n",
    "        vis.add_geometry(drawCone(np.array(change(p_node['head'])), np.array(change(p_node['tail']))))\n",
    "        if p_node['is_leaf']==0:\n",
    "            next_level+=[info[info_index] for info_index in  p_node['children']]\n",
    "        else:\n",
    "            continue\n",
    "    this_level = next_level\n",
    "vis.run()\n",
    "image1 = vis.capture_screen_float_buffer()\n",
    "vis.destroy_window()"
   ]
  }
 ],
 "metadata": {
  "kernelspec": {
   "display_name": "Python 3 (ipykernel)",
   "language": "python",
   "name": "python3"
  },
  "language_info": {
   "codemirror_mode": {
    "name": "ipython",
    "version": 3
   },
   "file_extension": ".py",
   "mimetype": "text/x-python",
   "name": "python",
   "nbconvert_exporter": "python",
   "pygments_lexer": "ipython3",
   "version": "3.8.10"
  }
 },
 "nbformat": 4,
 "nbformat_minor": 5
}
