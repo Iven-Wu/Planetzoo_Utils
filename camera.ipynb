{
 "cells": [
  {
   "cell_type": "code",
   "execution_count": 1,
   "id": "fcf183d5",
   "metadata": {},
   "outputs": [],
   "source": [
    "import open3d as o3d\n",
    "import numpy as np\n",
    "import os\n",
    "from PIL import Image\n",
    "import matplotlib.pyplot as plt"
   ]
  },
  {
   "cell_type": "code",
   "execution_count": 2,
   "id": "2296fc16",
   "metadata": {},
   "outputs": [],
   "source": [
    "# def change(pos_array):\n",
    "#     p = pos_array\n",
    "#     p_new = np.zeros(p.shape)\n",
    "#     for i in range(len(p)):\n",
    "#         p_new[i] = np.array([p[i,0],-p[i,2],-p[i,1]]) \n",
    "#     return p_new"
   ]
  },
  {
   "cell_type": "code",
   "execution_count": 3,
   "id": "6178bcb4",
   "metadata": {},
   "outputs": [],
   "source": [
    "def change(pos_array):\n",
    "    p = pos_array\n",
    "    p_new = np.zeros(p.shape)\n",
    "    for i in range(len(p)):\n",
    "        p_new[i] = np.array([-p[i,0],-p[i,2],p[i,1]]) \n",
    "    return p_new"
   ]
  },
  {
   "cell_type": "code",
   "execution_count": 25,
   "id": "a85ad878",
   "metadata": {},
   "outputs": [
    {
     "name": "stdout",
     "output_type": "stream",
     "text": [
      "\u001b[1;33m[Open3D WARNING] Unable to load file frame_000070.obj with ASSIMP\u001b[0;m\n"
     ]
    }
   ],
   "source": [
    "from pdb import set_trace as bp\n",
    "def show():\n",
    "    vis = o3d.visualization.Visualizer()\n",
    "    vis.create_window()\n",
    "    ctr = vis.get_view_control()\n",
    "    mesh = o3d.io.read_triangle_mesh('frame_000070.obj')\n",
    "    mesh.paint_uniform_color([1, 0.706, 0])\n",
    "    pcd = o3d.geometry.PointCloud()\n",
    "    vertices = change(np.array(mesh.vertices))\n",
    "    # print(np.array(mesh.vertices))\n",
    "    pcd.points = o3d.utility.Vector3dVector(vertices)\n",
    "    vis.add_geometry(pcd)\n",
    "    # vis.add_geometry(mesh)\n",
    "\n",
    "    param = o3d.io.read_pinhole_camera_parameters('sideview.json')\n",
    "    # print(param.extrinsic)\n",
    "    ctr.convert_from_pinhole_camera_parameters(param)\n",
    "    vis.run()\n",
    "    # param = ctr.convert_to_pinhole_camera_parameters()\n",
    "    # o3d.io.write_pinhole_camera_parameters('sideview.json',param)\n",
    "    vis.destroy_window()\n",
    "\n",
    "show()"
   ]
  },
  {
   "cell_type": "code",
   "execution_count": 93,
   "id": "a7207174",
   "metadata": {},
   "outputs": [],
   "source": []
  },
  {
   "cell_type": "code",
   "execution_count": 125,
   "id": "da3fa178",
   "metadata": {},
   "outputs": [],
   "source": []
  },
  {
   "cell_type": "code",
   "execution_count": 69,
   "id": "268d4b88",
   "metadata": {},
   "outputs": [
    {
     "data": {
      "text/plain": [
       "array([[ 7.9426438e-01, -6.0757226e-01, -5.1030739e-08, -5.6946307e-01],\n",
       "       [-1.1685728e-01, -1.5276460e-01, -9.8132938e-01,  1.3398468e+00],\n",
       "       [ 5.9622848e-01,  7.7943498e-01, -1.9233474e-01,  2.5805134e+01]],\n",
       "      dtype=float32)"
      ]
     },
     "execution_count": 69,
     "metadata": {},
     "output_type": "execute_result"
    }
   ],
   "source": [
    "info['extrinsic_mat']"
   ]
  },
  {
   "cell_type": "code",
   "execution_count": 70,
   "id": "d4adc9e0",
   "metadata": {},
   "outputs": [
    {
     "data": {
      "text/plain": [
       "array([[4.5333335e+03, 0.0000000e+00, 9.5950000e+02],\n",
       "       [0.0000000e+00, 4.5333335e+03, 5.3950000e+02],\n",
       "       [0.0000000e+00, 0.0000000e+00, 1.0000000e+00]], dtype=float32)"
      ]
     },
     "execution_count": 70,
     "metadata": {},
     "output_type": "execute_result"
    }
   ],
   "source": [
    "info['intrinsic_mat']"
   ]
  },
  {
   "cell_type": "code",
   "execution_count": 30,
   "id": "9072cb04",
   "metadata": {},
   "outputs": [
    {
     "data": {
      "text/plain": [
       "(52512, 3)"
      ]
     },
     "execution_count": 30,
     "metadata": {},
     "output_type": "execute_result"
    }
   ],
   "source": [
    "vertices.shape"
   ]
  },
  {
   "cell_type": "code",
   "execution_count": 4,
   "id": "78adaf5d",
   "metadata": {},
   "outputs": [],
   "source": [
    "def change1(pos_array):\n",
    "    p = pos_array\n",
    "    p_new = np.zeros(p.shape)\n",
    "    for i in range(len(p)):\n",
    "        p_new[i] = np.array([-p[i,0],p[i,1],p[i,2]]) \n",
    "    return p_new"
   ]
  },
  {
   "cell_type": "code",
   "execution_count": 5,
   "id": "edecb780",
   "metadata": {},
   "outputs": [],
   "source": [
    "trans = np.eye((3))\n",
    "trans[0, 0] = 1\n",
    "trans[1, 1]= 1\n",
    "trans[2, 2] = 1"
   ]
  },
  {
   "cell_type": "code",
   "execution_count": 6,
   "id": "259e4d68",
   "metadata": {},
   "outputs": [
    {
     "ename": "NameError",
     "evalue": "name 'uv' is not defined",
     "output_type": "error",
     "traceback": [
      "\u001b[0;31m---------------------------------------------------------------------------\u001b[0m",
      "\u001b[0;31mNameError\u001b[0m                                 Traceback (most recent call last)",
      "\u001b[0;32m/tmp/ipykernel_22217/4212881174.py\u001b[0m in \u001b[0;36m<module>\u001b[0;34m\u001b[0m\n\u001b[1;32m      3\u001b[0m \u001b[0;34m\u001b[0m\u001b[0m\n\u001b[1;32m      4\u001b[0m \u001b[0mplt\u001b[0m\u001b[0;34m.\u001b[0m\u001b[0mfigure\u001b[0m\u001b[0;34m(\u001b[0m\u001b[0mfigsize\u001b[0m\u001b[0;34m=\u001b[0m\u001b[0;34m(\u001b[0m\u001b[0;36m18\u001b[0m\u001b[0;34m,\u001b[0m\u001b[0;36m12\u001b[0m\u001b[0;34m)\u001b[0m\u001b[0;34m)\u001b[0m\u001b[0;34m\u001b[0m\u001b[0;34m\u001b[0m\u001b[0m\n\u001b[0;32m----> 5\u001b[0;31m \u001b[0mplt\u001b[0m\u001b[0;34m.\u001b[0m\u001b[0mplot\u001b[0m\u001b[0;34m(\u001b[0m\u001b[0muv\u001b[0m\u001b[0;34m[\u001b[0m\u001b[0;34m:\u001b[0m\u001b[0;34m,\u001b[0m \u001b[0;36m0\u001b[0m\u001b[0;34m]\u001b[0m\u001b[0;34m,\u001b[0m \u001b[0muv\u001b[0m\u001b[0;34m[\u001b[0m\u001b[0;34m:\u001b[0m\u001b[0;34m,\u001b[0m \u001b[0;36m1\u001b[0m\u001b[0;34m]\u001b[0m\u001b[0;34m,\u001b[0m \u001b[0;34m'.'\u001b[0m\u001b[0;34m)\u001b[0m\u001b[0;34m\u001b[0m\u001b[0;34m\u001b[0m\u001b[0m\n\u001b[0m\u001b[1;32m      6\u001b[0m \u001b[0max\u001b[0m \u001b[0;34m=\u001b[0m \u001b[0mplt\u001b[0m\u001b[0;34m.\u001b[0m\u001b[0mgca\u001b[0m\u001b[0;34m(\u001b[0m\u001b[0;34m)\u001b[0m                                 \u001b[0;31m#获取到当前坐标轴信息\u001b[0m\u001b[0;34m\u001b[0m\u001b[0;34m\u001b[0m\u001b[0m\n\u001b[1;32m      7\u001b[0m \u001b[0max\u001b[0m\u001b[0;34m.\u001b[0m\u001b[0mxaxis\u001b[0m\u001b[0;34m.\u001b[0m\u001b[0mset_ticks_position\u001b[0m\u001b[0;34m(\u001b[0m\u001b[0;34m'top'\u001b[0m\u001b[0;34m)\u001b[0m   \u001b[0;31m#将X坐标轴移到上面\u001b[0m\u001b[0;34m\u001b[0m\u001b[0;34m\u001b[0m\u001b[0m\n",
      "\u001b[0;31mNameError\u001b[0m: name 'uv' is not defined"
     ]
    },
    {
     "data": {
      "text/plain": [
       "<Figure size 1296x864 with 0 Axes>"
      ]
     },
     "metadata": {},
     "output_type": "display_data"
    }
   ],
   "source": [
    "points_path = '/home/ivenwu/下载/PIFu_bitahub/ele1.npy'\n",
    "points = np.load(points_path)\n",
    "\n",
    "plt.figure(figsize=(18,12))\n",
    "plt.plot(uv[:, 0], uv[:, 1], '.')\n",
    "ax = plt.gca()                                 #获取到当前坐标轴信息\n",
    "ax.xaxis.set_ticks_position('top')   #将X坐标轴移到上面\n",
    "ax.invert_yaxis()                            #反转Y坐标轴\n",
    "\n",
    "plt.xlim((0, 1920))\n",
    "plt.ylim((1080, 0)) "
   ]
  },
  {
   "cell_type": "code",
   "execution_count": 10,
   "id": "fb8fa734",
   "metadata": {},
   "outputs": [
    {
     "data": {
      "text/plain": [
       "array([[25.94391365],\n",
       "       [25.93257221],\n",
       "       [25.97430754],\n",
       "       ...,\n",
       "       [26.62941515],\n",
       "       [26.65711614],\n",
       "       [26.57479624]])"
      ]
     },
     "execution_count": 10,
     "metadata": {},
     "output_type": "execute_result"
    }
   ],
   "source": [
    "z"
   ]
  },
  {
   "cell_type": "code",
   "execution_count": 46,
   "id": "f0a33f40",
   "metadata": {},
   "outputs": [
    {
     "name": "stdout",
     "output_type": "stream",
     "text": [
      "\u001b[1;33m[Open3D WARNING] Read PNG failed: unable to parse header.\u001b[0;m\n",
      "\u001b[1;33m[Open3D WARNING] Read PNG failed: unable to parse header.\u001b[0;m\n"
     ]
    },
    {
     "data": {
      "text/plain": [
       "(1024.0, 0.0)"
      ]
     },
     "execution_count": 46,
     "metadata": {},
     "output_type": "execute_result"
    },
    {
     "data": {
      "image/png": "[encoded data removed]",
      "text/plain": [
       "<Figure size 1296x864 with 1 Axes>"
      ]
     },
     "metadata": {
      "needs_background": "light"
     },
     "output_type": "display_data"
    }
   ],
   "source": [
    "info = np.load('./video_obj_sample/african_elephant_female/info/0050.npz')\n",
    "mesh = o3d.io.read_triangle_mesh('./video_obj_sample/african_elephant_female/frame_000050.obj')\n",
    "vertices =change1(np.array(mesh.vertices))\n",
    "# vertices = np.array(mesh.vertices)\n",
    "\n",
    "ones = np.ones((len(vertices), 1))\n",
    "vertices_h = np.concatenate((change(vertices), ones),1)\n",
    "# extrin = np.concatenate((info['extrinsic_mat'],np.array([0,0,0,1]).reshape((1,4)) ))\n",
    "# print(extrin)\n",
    "\n",
    "intrin = info['intrinsic_mat']\n",
    "intrin[0,:] = intrin[0,:]\n",
    "intrin[1,:] = intrin[1,:]\n",
    "xyz = intrin.dot(trans.dot(info['extrinsic_mat']).dot(vertices_h.transpose(1,0))).transpose(1,0)\n",
    "z = xyz[:, [2]]\n",
    "uv = xyz / z\n",
    "plt.figure(figsize=(18,12))\n",
    "plt.plot(uv[:, 0], uv[:, 1], '.')\n",
    "ax = plt.gca()                                 #获取到当前坐标轴信息\n",
    "ax.xaxis.set_ticks_position('top')   #将X坐标轴移到上面\n",
    "ax.invert_yaxis()                            #反转Y坐标轴\n",
    "\n",
    "plt.xlim((0, 1024))\n",
    "plt.ylim((1024, 0))"
   ]
  },
  {
   "cell_type": "code",
   "execution_count": 47,
   "id": "7fbc5498",
   "metadata": {},
   "outputs": [
    {
     "data": {
      "text/plain": [
       "7905.423295948917"
      ]
     },
     "execution_count": 47,
     "metadata": {},
     "output_type": "execute_result"
    }
   ],
   "source": [
    "xyz[:,:-1].min()"
   ]
  },
  {
   "cell_type": "code",
   "execution_count": 48,
   "id": "4042a86e",
   "metadata": {},
   "outputs": [],
   "source": [
    "xyz[:,:-1] = xyz[:,:-1]/xyz[:,[2]]"
   ]
  },
  {
   "cell_type": "code",
   "execution_count": 49,
   "id": "5e57c875",
   "metadata": {},
   "outputs": [],
   "source": [
    "xyz[:,0] = (xyz[:,0]-512)/512\n",
    "xyz[:,1] = (xyz[:,1]-512)/512"
   ]
  },
  {
   "cell_type": "code",
   "execution_count": 51,
   "id": "6cccb997",
   "metadata": {},
   "outputs": [
    {
     "data": {
      "text/plain": [
       "-0.3749448668754719"
      ]
     },
     "execution_count": 51,
     "metadata": {},
     "output_type": "execute_result"
    }
   ],
   "source": [
    "xyz[:,:-1].min()"
   ]
  },
  {
   "cell_type": "code",
   "execution_count": 52,
   "id": "f580772e",
   "metadata": {},
   "outputs": [],
   "source": [
    "xyz[:,-1] = xyz[:,-1]/xyz[:,-1].min()"
   ]
  },
  {
   "cell_type": "code",
   "execution_count": 56,
   "id": "a9ed02bc",
   "metadata": {},
   "outputs": [],
   "source": [
    "xyz[:,-1] *=250/150"
   ]
  },
  {
   "cell_type": "code",
   "execution_count": 57,
   "id": "79de4183",
   "metadata": {},
   "outputs": [],
   "source": [
    "import open3d as o3d\n",
    "\n",
    "vis = o3d.visualization.Visualizer()\n",
    "pcd = o3d.geometry.PointCloud()\n",
    "pcd.points = o3d.utility.Vector3dVector(xyz)\n",
    "\n",
    "o3d.visualization.draw_geometries([pcd])"
   ]
  },
  {
   "cell_type": "code",
   "execution_count": 120,
   "id": "7ba07c06",
   "metadata": {},
   "outputs": [
    {
     "data": {
      "text/plain": [
       "1274.0412716891437"
      ]
     },
     "execution_count": 120,
     "metadata": {},
     "output_type": "execute_result"
    }
   ],
   "source": [
    "uv.max()"
   ]
  },
  {
   "cell_type": "code",
   "execution_count": 148,
   "id": "f31113aa",
   "metadata": {},
   "outputs": [
    {
     "data": {
      "text/plain": [
       "-2.947495937347412"
      ]
     },
     "execution_count": 148,
     "metadata": {},
     "output_type": "execute_result"
    }
   ],
   "source": [
    "vertices.min()"
   ]
  },
  {
   "cell_type": "code",
   "execution_count": 43,
   "id": "566393b6",
   "metadata": {},
   "outputs": [
    {
     "name": "stdout",
     "output_type": "stream",
     "text": [
      "[Open3D WARNING] Unable to load file 0023.obj with ASSIMP\n"
     ]
    }
   ],
   "source": [
    "mesh = o3d.io.read_triangle_mesh('0023.obj')"
   ]
  },
  {
   "cell_type": "code",
   "execution_count": 19,
   "id": "109d6bf2",
   "metadata": {},
   "outputs": [],
   "source": [
    "extr = info['extrinsic_mat']\n",
    "intr = info['intrinsic_mat']"
   ]
  },
  {
   "cell_type": "code",
   "execution_count": 116,
   "id": "607dd0a2",
   "metadata": {},
   "outputs": [
    {
     "data": {
      "text/plain": [
       "array([[255, 255, 255, ..., 255, 255, 255],\n",
       "       [255, 255, 255, ..., 255, 255, 255],\n",
       "       [255, 255, 255, ..., 255, 255, 255],\n",
       "       ...,\n",
       "       [ 19,  19,  19, ...,  19,  19,  19],\n",
       "       [ 19,  19,  19, ...,  19,  19,  19],\n",
       "       [ 19,  19,  19, ...,  19,  19,  19]], dtype=uint8)"
      ]
     },
     "execution_count": 116,
     "metadata": {},
     "output_type": "execute_result"
    }
   ],
   "source": [
    "depth = info['depth_map']\n",
    "depth.astype(np.uint8)"
   ]
  },
  {
   "cell_type": "code",
   "execution_count": 117,
   "id": "689587ed",
   "metadata": {},
   "outputs": [
    {
     "data": {
      "image/png": "[encoded data removed]",
      "text/plain": [
       "<PIL.Image.Image image mode=L size=1920x1080 at 0x21F80818EF0>"
      ]
     },
     "execution_count": 117,
     "metadata": {},
     "output_type": "execute_result"
    }
   ],
   "source": [
    "from PIL import Image\n",
    "Image.fromarray(depth.astype(np.uint8))"
   ]
  },
  {
   "cell_type": "code",
   "execution_count": 36,
   "id": "bdd1d854",
   "metadata": {},
   "outputs": [
    {
     "data": {
      "text/plain": [
       "array([[ 2.47939348e-01, -9.68775511e-01,  4.59715039e-08,\n",
       "        -3.91302466e-01],\n",
       "       [ 1.81776121e-01,  4.65221554e-02,  9.82238829e-01,\n",
       "        -1.45676947e+00],\n",
       "       [-9.51568961e-01, -2.43535608e-01,  1.87634960e-01,\n",
       "        -2.58329239e+01]])"
      ]
     },
     "execution_count": 36,
     "metadata": {},
     "output_type": "execute_result"
    }
   ],
   "source": [
    "trans.dot(extr)"
   ]
  },
  {
   "cell_type": "code",
   "execution_count": 34,
   "id": "0e4906af",
   "metadata": {},
   "outputs": [
    {
     "data": {
      "text/plain": [
       "array([[ 2.4793935e-01, -9.6877551e-01,  4.5971504e-08, -3.9130247e-01],\n",
       "       [-1.8177612e-01, -4.6522155e-02, -9.8223883e-01,  1.4567695e+00],\n",
       "       [ 9.5156896e-01,  2.4353561e-01, -1.8763496e-01,  2.5832924e+01]],\n",
       "      dtype=float32)"
      ]
     },
     "execution_count": 34,
     "metadata": {},
     "output_type": "execute_result"
    }
   ],
   "source": [
    "extr"
   ]
  },
  {
   "cell_type": "code",
   "execution_count": 52,
   "id": "7089d405",
   "metadata": {},
   "outputs": [
    {
     "data": {
      "text/plain": [
       "(3, 52512)"
      ]
     },
     "execution_count": 52,
     "metadata": {},
     "output_type": "execute_result"
    }
   ],
   "source": [
    "info['intrinsic_mat'].dot(info['extrinsic_mat'].dot(vertices_h.transpose(1,0))).shape"
   ]
  },
  {
   "cell_type": "code",
   "execution_count": 34,
   "id": "16386aa7",
   "metadata": {},
   "outputs": [
    {
     "ename": "TypeError",
     "evalue": "only integer scalar arrays can be converted to a scalar index",
     "output_type": "error",
     "traceback": [
      "\u001b[1;31m---------------------------------------------------------------------------\u001b[0m",
      "\u001b[1;31mTypeError\u001b[0m                                 Traceback (most recent call last)",
      "\u001b[1;32m<ipython-input-34-2e717ef9b6f0>\u001b[0m in \u001b[0;36m<module>\u001b[1;34m\u001b[0m\n\u001b[1;32m----> 1\u001b[1;33m \u001b[0mextrin\u001b[0m \u001b[1;33m=\u001b[0m \u001b[0mnp\u001b[0m\u001b[1;33m.\u001b[0m\u001b[0mconcatenate\u001b[0m\u001b[1;33m(\u001b[0m\u001b[0minfo\u001b[0m\u001b[1;33m[\u001b[0m\u001b[1;34m'extrinsic_mat'\u001b[0m\u001b[1;33m]\u001b[0m\u001b[1;33m,\u001b[0m\u001b[0mnp\u001b[0m\u001b[1;33m.\u001b[0m\u001b[0marray\u001b[0m\u001b[1;33m(\u001b[0m\u001b[1;33m[\u001b[0m\u001b[1;36m0\u001b[0m\u001b[1;33m,\u001b[0m\u001b[1;36m0\u001b[0m\u001b[1;33m,\u001b[0m\u001b[1;36m0\u001b[0m\u001b[1;33m,\u001b[0m\u001b[1;36m1\u001b[0m\u001b[1;33m]\u001b[0m\u001b[1;33m)\u001b[0m\u001b[1;33m.\u001b[0m\u001b[0mreshape\u001b[0m\u001b[1;33m(\u001b[0m\u001b[1;33m(\u001b[0m\u001b[1;36m1\u001b[0m\u001b[1;33m,\u001b[0m\u001b[1;36m4\u001b[0m\u001b[1;33m)\u001b[0m\u001b[1;33m)\u001b[0m\u001b[1;33m,\u001b[0m\u001b[1;36m0\u001b[0m\u001b[1;33m)\u001b[0m\u001b[1;33m\u001b[0m\u001b[1;33m\u001b[0m\u001b[0m\n\u001b[0m\u001b[0;32m      2\u001b[0m \u001b[0mprint\u001b[0m\u001b[1;33m(\u001b[0m\u001b[0mextrin\u001b[0m\u001b[1;33m)\u001b[0m\u001b[1;33m\u001b[0m\u001b[1;33m\u001b[0m\u001b[0m\n",
      "\u001b[1;32m<__array_function__ internals>\u001b[0m in \u001b[0;36mconcatenate\u001b[1;34m(*args, **kwargs)\u001b[0m\n",
      "\u001b[1;31mTypeError\u001b[0m: only integer scalar arrays can be converted to a scalar index"
     ]
    }
   ],
   "source": [
    "extrin = np.concatenate(info['extrinsic_mat'],np.array([0,0,0,1]).reshape((1,4)),0)\n",
    "print(extrin)"
   ]
  },
  {
   "cell_type": "code",
   "execution_count": 39,
   "id": "d38395be",
   "metadata": {},
   "outputs": [
    {
     "data": {
      "text/plain": [
       "array([[ 2.47939348e-01, -9.68775511e-01,  4.59715039e-08,\n",
       "        -3.91302466e-01],\n",
       "       [-1.81776121e-01, -4.65221554e-02, -9.82238829e-01,\n",
       "         1.45676947e+00],\n",
       "       [ 9.51568961e-01,  2.43535608e-01, -1.87634960e-01,\n",
       "         2.58329239e+01],\n",
       "       [ 0.00000000e+00,  0.00000000e+00,  0.00000000e+00,\n",
       "         1.00000000e+00]])"
      ]
     },
     "execution_count": 39,
     "metadata": {},
     "output_type": "execute_result"
    }
   ],
   "source": [
    "np.concatenate((info['extrinsic_mat'],np.array([0,0,0,1]).reshape((1,4)) ) )"
   ]
  },
  {
   "cell_type": "code",
   "execution_count": 36,
   "id": "e34d445f",
   "metadata": {},
   "outputs": [
    {
     "data": {
      "text/plain": [
       "array([[0, 0, 0, 1]])"
      ]
     },
     "execution_count": 36,
     "metadata": {},
     "output_type": "execute_result"
    }
   ],
   "source": [
    "np.array([0,0,0,1]).reshape((1,4))"
   ]
  },
  {
   "cell_type": "code",
   "execution_count": 45,
   "id": "025ac47f",
   "metadata": {},
   "outputs": [
    {
     "data": {
      "text/plain": [
       "array([[ 2.0370221e+03, -4.1581104e+03, -1.8003554e+02,  2.3012787e+04],\n",
       "       [-3.1068030e+02, -7.9512985e+01, -4.5540454e+03,  2.0540885e+04],\n",
       "       [ 9.5156896e-01,  2.4353561e-01, -1.8763496e-01,  2.5832924e+01]],\n",
       "      dtype=float32)"
      ]
     },
     "execution_count": 45,
     "metadata": {},
     "output_type": "execute_result"
    }
   ],
   "source": [
    "info['intrinsic_mat'].dot(info['extrinsic_mat']) "
   ]
  },
  {
   "cell_type": "code",
   "execution_count": null,
   "id": "c77d2b85",
   "metadata": {},
   "outputs": [],
   "source": []
  }
 ],
 "metadata": {
  "interpreter": {
   "hash": "594e81010958d452493a1865fae3c2f29011e64814bb9c83aa46e067c4390676"
  },
  "kernelspec": {
   "display_name": "Python 3 (ipykernel)",
   "language": "python",
   "name": "python3"
  },
  "language_info": {
   "codemirror_mode": {
    "name": "ipython",
    "version": 3
   },
   "file_extension": ".py",
   "mimetype": "text/x-python",
   "name": "python",
   "nbconvert_exporter": "python",
   "pygments_lexer": "ipython3",
   "version": "3.8.10"
  }
 },
 "nbformat": 4,
 "nbformat_minor": 5
}
