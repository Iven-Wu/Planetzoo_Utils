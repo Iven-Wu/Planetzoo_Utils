{
 "cells": [
  {
   "cell_type": "code",
   "execution_count": 1,
   "id": "446286cf",
   "metadata": {},
   "outputs": [],
   "source": [
    "import os\n",
    "import open3d as o3d\n",
    "import numpy as np\n",
    "from PIL import Image\n",
    "from tqdm import tqdm\n",
    "import random"
   ]
  },
  {
   "cell_type": "code",
   "execution_count": 2,
   "id": "e43fac3d",
   "metadata": {},
   "outputs": [],
   "source": [
    "def read_obj(obj_path):\n",
    "    with open(obj_path) as file:\n",
    "        points = []\n",
    "        while 1:\n",
    "            line = file.readline()\n",
    "            if not line:\n",
    "                break\n",
    "            strs = line.split(\" \")\n",
    "            if strs[0] =='v':\n",
    "                points.append((float(strs[1]),float(strs[2]),float(strs[3])))\n",
    "\n",
    "    points = np.array(points)\n",
    "\n",
    "    return points"
   ]
  },
  {
   "cell_type": "code",
   "execution_count": 3,
   "id": "ab9f0d95",
   "metadata": {},
   "outputs": [],
   "source": [
    "def change(pos_array):\n",
    "    p = pos_array\n",
    "    p_new = np.zeros(p.shape)\n",
    "    for i in range(len(p)):\n",
    "        p_new[i] = np.array([-p[i,0],-p[i,2],p[i,1]])\n",
    "    return p_new"
   ]
  },
  {
   "cell_type": "code",
   "execution_count": 4,
   "id": "d3625b84",
   "metadata": {},
   "outputs": [],
   "source": [
    "if not os.path.exists('./traj'):\n",
    "    os.makedirs('./traj')"
   ]
  },
  {
   "cell_type": "code",
   "execution_count": 5,
   "id": "2b2bc9b6",
   "metadata": {},
   "outputs": [],
   "source": [
    "file_dir = '/media/ivenwu/My_Disk/video_obj_sample/african_elephant_female'\n",
    "animal_name = file_dir.split('/')[-1]"
   ]
  },
  {
   "cell_type": "code",
   "execution_count": 6,
   "id": "6f13b9f3",
   "metadata": {
    "scrolled": true
   },
   "outputs": [],
   "source": [
    "pic = os.path.join(file_dir,'{:04d}.png'.format(1))\n",
    "H,W = np.array(Image.open(pic)).shape[:-1]"
   ]
  },
  {
   "cell_type": "code",
   "execution_count": 7,
   "id": "61afd17b",
   "metadata": {},
   "outputs": [
    {
     "name": "stderr",
     "output_type": "stream",
     "text": [
      "100%|█████████████████████████████████████████| 100/100 [00:08<00:00, 11.62it/s]\n"
     ]
    }
   ],
   "source": [
    "point_array = np.array([])\n",
    "for i in tqdm(range(100)):\n",
    "    points = change(read_obj(os.path.join(file_dir,'frame_{:06d}.obj'.format(i+1))))[:8315]\n",
    "    points = points.reshape(1,-1,3)\n",
    "#     point_list.append(points)\n",
    "    if len(point_array)==0:\n",
    "        point_array = points\n",
    "    else:\n",
    "        point_array = np.concatenate((point_array,points),axis=0)\n"
   ]
  },
  {
   "cell_type": "code",
   "execution_count": 8,
   "id": "f5e7c15f",
   "metadata": {},
   "outputs": [],
   "source": [
    "select_index = np.array(random.sample(range(point_array.shape[1]), 100))"
   ]
  },
  {
   "cell_type": "code",
   "execution_count": 9,
   "id": "c0283529",
   "metadata": {},
   "outputs": [
    {
     "name": "stderr",
     "output_type": "stream",
     "text": [
      "100%|███████████████████████████████████████| 100/100 [00:00<00:00, 3149.80it/s]\n"
     ]
    }
   ],
   "source": [
    "for i in tqdm(range(100)):\n",
    "    previous = max(0,i+1-20)\n",
    "    tmp  = point_array[previous:(i+1),select_index]\n",
    "    np.save('./traj/{}.npy'.format(i+1),tmp)"
   ]
  },
  {
   "cell_type": "code",
   "execution_count": 10,
   "id": "4d847795",
   "metadata": {},
   "outputs": [],
   "source": [
    "def test_show(info_index):\n",
    "    \n",
    "    line_info = np.load('traj/{}.npy'.format(info_index))\n",
    "    vis = o3d.visualization.Visualizer()\n",
    "    vis.create_window(width=W,height=H)\n",
    "    \n",
    "    ctr = vis.get_view_control()\n",
    "    \n",
    "    mesh = o3d.io.read_triangle_mesh(os.path.join(file_dir,'frame_{:06d}.obj'.format(info_index)))\n",
    "    ppp = np.array(mesh.vertices)\n",
    "    mesh.vertices = o3d.utility.Vector3dVector(change(ppp))\n",
    "    mesh.paint_uniform_color([1, 0.706, 0])\n",
    "    vis.add_geometry(mesh)\n",
    "    vis.update_geometry(mesh)\n",
    "    for index in range(line_info.shape[1]):\n",
    "        points = line_info[:,index]\n",
    "        lines = np.array([[i,i+1] for i in range(len(points)-1)])\n",
    "        colors = [[1, 0, 0] for i in range(len(lines))]\n",
    "        line_set = o3d.geometry.LineSet(\n",
    "            points=o3d.utility.Vector3dVector(points),\n",
    "            lines=o3d.utility.Vector2iVector(lines),\n",
    "        )\n",
    "        line_set.colors = o3d.utility.Vector3dVector(colors)\n",
    "    \n",
    "        vis.add_geometry(line_set)\n",
    "        vis.update_geometry(line_set)\n",
    "    \n",
    "    information = np.load(os.path.join(file_dir,'info','{:04d}.npz'.format(info_index)))\n",
    "    intrin = information['intrinsic_mat']\n",
    "    extrin = np.concatenate( (information['extrinsic_mat'],np.array([0,0,0,1]).reshape((1,4))))\n",
    "                              \n",
    "    init_param = ctr.convert_to_pinhole_camera_parameters()\n",
    "    w, h = W,H\n",
    "    fx = intrin[0,0]\n",
    "    fy = intrin[1,1]\n",
    "    cx = intrin[0,2]\n",
    "    cy = intrin[1,2]\n",
    "    init_param.intrinsic.width = w\n",
    "    init_param.intrinsic.height = h\n",
    "    \n",
    "    init_param.intrinsic.set_intrinsics(init_param.intrinsic.width, init_param.intrinsic.height, fx, fy, cx, cy)\n",
    "    init_param.extrinsic = extrin\n",
    "    ctr.convert_from_pinhole_camera_parameters(init_param)\n",
    "    \n",
    "    vis.poll_events()\n",
    "    vis.update_renderer()\n",
    "    \n",
    "    image = vis.capture_screen_float_buffer(do_render=True)\n",
    "#     vis.run()\n",
    "    vis.destroy_window()\n",
    "    \n",
    "    image = np.array(image) * 255\n",
    "    image = image.astype(np.uint8)\n",
    "    \n",
    "    return image"
   ]
  },
  {
   "cell_type": "code",
   "execution_count": 11,
   "id": "9a9c2603",
   "metadata": {},
   "outputs": [
    {
     "name": "stderr",
     "output_type": "stream",
     "text": [
      "  1%|▍                                          | 1/100 [00:00<00:36,  2.71it/s]"
     ]
    },
    {
     "name": "stdout",
     "output_type": "stream",
     "text": [
      "\u001b[1;33m[Open3D WARNING] Read PNG failed: unable to parse header.\u001b[0;m\n",
      "\u001b[1;33m[Open3D WARNING] Read PNG failed: unable to parse header.\u001b[0;m\n",
      "\u001b[1;33m[Open3D WARNING] [SimpleShaderForLineSet] Binding failed with empty geometry::LineSet.\u001b[0;m\n",
      "\u001b[1;33m[Open3D WARNING] [SimpleShaderForLineSet] Binding failed when preparing data.\u001b[0;m\n",
      "\u001b[1;33m[Open3D WARNING] [SimpleShaderForLineSet] Something is wrong in compiling or binding.\u001b[0;m\n",
      "\u001b[1;33m[Open3D WARNING] [SimpleShaderForLineSet] Binding failed with empty geometry::LineSet.\u001b[0;m\n",
      "\u001b[1;33m[Open3D WARNING] [SimpleShaderForLineSet] Binding failed when preparing data.\u001b[0;m\n",
      "\u001b[1;33m[Open3D WARNING] [SimpleShaderForLineSet] Something is wrong in compiling or binding.\u001b[0;m\n",
      "\u001b[1;33m[Open3D WARNING] [SimpleShaderForLineSet] Binding failed with empty geometry::LineSet.\u001b[0;m\n",
      "\u001b[1;33m[Open3D WARNING] [SimpleShaderForLineSet] Binding failed when preparing data.\u001b[0;m\n",
      "\u001b[1;33m[Open3D WARNING] [SimpleShaderForLineSet] Something is wrong in compiling or binding.\u001b[0;m\n",
      "\u001b[1;33m[Open3D WARNING] [SimpleShaderForLineSet] Binding failed with empty geometry::LineSet.\u001b[0;m\n",
      "\u001b[1;33m[Open3D WARNING] [SimpleShaderForLineSet] Binding failed when preparing data.\u001b[0;m\n",
      "\u001b[1;33m[Open3D WARNING] [SimpleShaderForLineSet] Something is wrong in compiling or binding.\u001b[0;m\n",
      "\u001b[1;33m[Open3D WARNING] [SimpleShaderForLineSet] Binding failed with empty geometry::LineSet.\u001b[0;m\n",
      "\u001b[1;33m[Open3D WARNING] [SimpleShaderForLineSet] Binding failed when preparing data.\u001b[0;m\n",
      "\u001b[1;33m[Open3D WARNING] [SimpleShaderForLineSet] Something is wrong in compiling or binding.\u001b[0;m\n",
      "\u001b[1;33m[Open3D WARNING] [SimpleShaderForLineSet] Binding failed with empty geometry::LineSet.\u001b[0;m\n",
      "\u001b[1;33m[Open3D WARNING] [SimpleShaderForLineSet] Binding failed when preparing data.\u001b[0;m\n",
      "\u001b[1;33m[Open3D WARNING] [SimpleShaderForLineSet] Something is wrong in compiling or binding.\u001b[0;m\n",
      "\u001b[1;33m[Open3D WARNING] [SimpleShaderForLineSet] Binding failed with empty geometry::LineSet.\u001b[0;m\n",
      "\u001b[1;33m[Open3D WARNING] [SimpleShaderForLineSet] Binding failed when preparing data.\u001b[0;m\n",
      "\u001b[1;33m[Open3D WARNING] [SimpleShaderForLineSet] Something is wrong in compiling or binding.\u001b[0;m\n",
      "\u001b[1;33m[Open3D WARNING] [SimpleShaderForLineSet] Binding failed with empty geometry::LineSet.\u001b[0;m\n",
      "\u001b[1;33m[Open3D WARNING] [SimpleShaderForLineSet] Binding failed when preparing data.\u001b[0;m\n",
      "\u001b[1;33m[Open3D WARNING] [SimpleShaderForLineSet] Something is wrong in compiling or binding.\u001b[0;m\n",
      "\u001b[1;33m[Open3D WARNING] [SimpleShaderForLineSet] Binding failed with empty geometry::LineSet.\u001b[0;m\n",
      "\u001b[1;33m[Open3D WARNING] [SimpleShaderForLineSet] Binding failed when preparing data.\u001b[0;m\n",
      "\u001b[1;33m[Open3D WARNING] [SimpleShaderForLineSet] Something is wrong in compiling or binding.\u001b[0;m\n",
      "\u001b[1;33m[Open3D WARNING] [SimpleShaderForLineSet] Binding failed with empty geometry::LineSet.\u001b[0;m\n",
      "\u001b[1;33m[Open3D WARNING] [SimpleShaderForLineSet] Binding failed when preparing data.\u001b[0;m\n",
      "\u001b[1;33m[Open3D WARNING] [SimpleShaderForLineSet] Something is wrong in compiling or binding.\u001b[0;m\n",
      "\u001b[1;33m[Open3D WARNING] [SimpleShaderForLineSet] Binding failed with empty geometry::LineSet.\u001b[0;m\n",
      "\u001b[1;33m[Open3D WARNING] [SimpleShaderForLineSet] Binding failed when preparing data.\u001b[0;m\n",
      "\u001b[1;33m[Open3D WARNING] [SimpleShaderForLineSet] Something is wrong in compiling or binding.\u001b[0;m\n",
      "\u001b[1;33m[Open3D WARNING] [SimpleShaderForLineSet] Binding failed with empty geometry::LineSet.\u001b[0;m\n",
      "\u001b[1;33m[Open3D WARNING] [SimpleShaderForLineSet] Binding failed when preparing data.\u001b[0;m\n",
      "\u001b[1;33m[Open3D WARNING] [SimpleShaderForLineSet] Something is wrong in compiling or binding.\u001b[0;m\n",
      "\u001b[1;33m[Open3D WARNING] [SimpleShaderForLineSet] Binding failed with empty geometry::LineSet.\u001b[0;m\n",
      "\u001b[1;33m[Open3D WARNING] [SimpleShaderForLineSet] Binding failed when preparing data.\u001b[0;m\n",
      "\u001b[1;33m[Open3D WARNING] [SimpleShaderForLineSet] Something is wrong in compiling or binding.\u001b[0;m\n",
      "\u001b[1;33m[Open3D WARNING] [SimpleShaderForLineSet] Binding failed with empty geometry::LineSet.\u001b[0;m\n",
      "\u001b[1;33m[Open3D WARNING] [SimpleShaderForLineSet] Binding failed when preparing data.\u001b[0;m\n",
      "\u001b[1;33m[Open3D WARNING] [SimpleShaderForLineSet] Something is wrong in compiling or binding.\u001b[0;m\n",
      "\u001b[1;33m[Open3D WARNING] [SimpleShaderForLineSet] Binding failed with empty geometry::LineSet.\u001b[0;m\n",
      "\u001b[1;33m[Open3D WARNING] [SimpleShaderForLineSet] Binding failed when preparing data.\u001b[0;m\n",
      "\u001b[1;33m[Open3D WARNING] [SimpleShaderForLineSet] Something is wrong in compiling or binding.\u001b[0;m\n",
      "\u001b[1;33m[Open3D WARNING] [SimpleShaderForLineSet] Binding failed with empty geometry::LineSet.\u001b[0;m\n",
      "\u001b[1;33m[Open3D WARNING] [SimpleShaderForLineSet] Binding failed when preparing data.\u001b[0;m\n",
      "\u001b[1;33m[Open3D WARNING] [SimpleShaderForLineSet] Something is wrong in compiling or binding.\u001b[0;m\n",
      "\u001b[1;33m[Open3D WARNING] [SimpleShaderForLineSet] Binding failed with empty geometry::LineSet.\u001b[0;m\n",
      "\u001b[1;33m[Open3D WARNING] [SimpleShaderForLineSet] Binding failed when preparing data.\u001b[0;m\n",
      "\u001b[1;33m[Open3D WARNING] [SimpleShaderForLineSet] Something is wrong in compiling or binding.\u001b[0;m\n",
      "\u001b[1;33m[Open3D WARNING] [SimpleShaderForLineSet] Binding failed with empty geometry::LineSet.\u001b[0;m\n",
      "\u001b[1;33m[Open3D WARNING] [SimpleShaderForLineSet] Binding failed when preparing data.\u001b[0;m\n",
      "\u001b[1;33m[Open3D WARNING] [SimpleShaderForLineSet] Something is wrong in compiling or binding.\u001b[0;m\n",
      "\u001b[1;33m[Open3D WARNING] [SimpleShaderForLineSet] Binding failed with empty geometry::LineSet.\u001b[0;m\n",
      "\u001b[1;33m[Open3D WARNING] [SimpleShaderForLineSet] Binding failed when preparing data.\u001b[0;m\n",
      "\u001b[1;33m[Open3D WARNING] [SimpleShaderForLineSet] Something is wrong in compiling or binding.\u001b[0;m\n",
      "\u001b[1;33m[Open3D WARNING] [SimpleShaderForLineSet] Binding failed with empty geometry::LineSet.\u001b[0;m\n",
      "\u001b[1;33m[Open3D WARNING] [SimpleShaderForLineSet] Binding failed when preparing data.\u001b[0;m\n",
      "\u001b[1;33m[Open3D WARNING] [SimpleShaderForLineSet] Something is wrong in compiling or binding.\u001b[0;m\n",
      "\u001b[1;33m[Open3D WARNING] [SimpleShaderForLineSet] Binding failed with empty geometry::LineSet.\u001b[0;m\n",
      "\u001b[1;33m[Open3D WARNING] [SimpleShaderForLineSet] Binding failed when preparing data.\u001b[0;m\n",
      "\u001b[1;33m[Open3D WARNING] [SimpleShaderForLineSet] Something is wrong in compiling or binding.\u001b[0;m\n",
      "\u001b[1;33m[Open3D WARNING] [SimpleShaderForLineSet] Binding failed with empty geometry::LineSet.\u001b[0;m\n",
      "\u001b[1;33m[Open3D WARNING] [SimpleShaderForLineSet] Binding failed when preparing data.\u001b[0;m\n",
      "\u001b[1;33m[Open3D WARNING] [SimpleShaderForLineSet] Something is wrong in compiling or binding.\u001b[0;m\n",
      "\u001b[1;33m[Open3D WARNING] [SimpleShaderForLineSet] Binding failed with empty geometry::LineSet.\u001b[0;m\n",
      "\u001b[1;33m[Open3D WARNING] [SimpleShaderForLineSet] Binding failed when preparing data.\u001b[0;m\n",
      "\u001b[1;33m[Open3D WARNING] [SimpleShaderForLineSet] Something is wrong in compiling or binding.\u001b[0;m\n",
      "\u001b[1;33m[Open3D WARNING] [SimpleShaderForLineSet] Binding failed with empty geometry::LineSet.\u001b[0;m\n",
      "\u001b[1;33m[Open3D WARNING] [SimpleShaderForLineSet] Binding failed when preparing data.\u001b[0;m\n",
      "\u001b[1;33m[Open3D WARNING] [SimpleShaderForLineSet] Something is wrong in compiling or binding.\u001b[0;m\n",
      "\u001b[1;33m[Open3D WARNING] [SimpleShaderForLineSet] Binding failed with empty geometry::LineSet.\u001b[0;m\n",
      "\u001b[1;33m[Open3D WARNING] [SimpleShaderForLineSet] Binding failed when preparing data.\u001b[0;m\n",
      "\u001b[1;33m[Open3D WARNING] [SimpleShaderForLineSet] Something is wrong in compiling or binding.\u001b[0;m\n",
      "\u001b[1;33m[Open3D WARNING] [SimpleShaderForLineSet] Binding failed with empty geometry::LineSet.\u001b[0;m\n",
      "\u001b[1;33m[Open3D WARNING] [SimpleShaderForLineSet] Binding failed when preparing data.\u001b[0;m\n",
      "\u001b[1;33m[Open3D WARNING] [SimpleShaderForLineSet] Something is wrong in compiling or binding.\u001b[0;m\n",
      "\u001b[1;33m[Open3D WARNING] [SimpleShaderForLineSet] Binding failed with empty geometry::LineSet.\u001b[0;m\n",
      "\u001b[1;33m[Open3D WARNING] [SimpleShaderForLineSet] Binding failed when preparing data.\u001b[0;m\n",
      "\u001b[1;33m[Open3D WARNING] [SimpleShaderForLineSet] Something is wrong in compiling or binding.\u001b[0;m\n",
      "\u001b[1;33m[Open3D WARNING] [SimpleShaderForLineSet] Binding failed with empty geometry::LineSet.\u001b[0;m\n",
      "\u001b[1;33m[Open3D WARNING] [SimpleShaderForLineSet] Binding failed when preparing data.\u001b[0;m\n",
      "\u001b[1;33m[Open3D WARNING] [SimpleShaderForLineSet] Something is wrong in compiling or binding.\u001b[0;m\n",
      "\u001b[1;33m[Open3D WARNING] [SimpleShaderForLineSet] Binding failed with empty geometry::LineSet.\u001b[0;m\n",
      "\u001b[1;33m[Open3D WARNING] [SimpleShaderForLineSet] Binding failed when preparing data.\u001b[0;m\n",
      "\u001b[1;33m[Open3D WARNING] [SimpleShaderForLineSet] Something is wrong in compiling or binding.\u001b[0;m\n",
      "\u001b[1;33m[Open3D WARNING] [SimpleShaderForLineSet] Binding failed with empty geometry::LineSet.\u001b[0;m\n",
      "\u001b[1;33m[Open3D WARNING] [SimpleShaderForLineSet] Binding failed when preparing data.\u001b[0;m\n",
      "\u001b[1;33m[Open3D WARNING] [SimpleShaderForLineSet] Something is wrong in compiling or binding.\u001b[0;m\n",
      "\u001b[1;33m[Open3D WARNING] [SimpleShaderForLineSet] Binding failed with empty geometry::LineSet.\u001b[0;m\n",
      "\u001b[1;33m[Open3D WARNING] [SimpleShaderForLineSet] Binding failed when preparing data.\u001b[0;m\n",
      "\u001b[1;33m[Open3D WARNING] [SimpleShaderForLineSet] Something is wrong in compiling or binding.\u001b[0;m\n",
      "\u001b[1;33m[Open3D WARNING] [SimpleShaderForLineSet] Binding failed with empty geometry::LineSet.\u001b[0;m\n",
      "\u001b[1;33m[Open3D WARNING] [SimpleShaderForLineSet] Binding failed when preparing data.\u001b[0;m\n",
      "\u001b[1;33m[Open3D WARNING] [SimpleShaderForLineSet] Something is wrong in compiling or binding.\u001b[0;m\n",
      "\u001b[1;33m[Open3D WARNING] [SimpleShaderForLineSet] Binding failed with empty geometry::LineSet.\u001b[0;m\n",
      "\u001b[1;33m[Open3D WARNING] [SimpleShaderForLineSet] Binding failed when preparing data.\u001b[0;m\n",
      "\u001b[1;33m[Open3D WARNING] [SimpleShaderForLineSet] Something is wrong in compiling or binding.\u001b[0;m\n",
      "\u001b[1;33m[Open3D WARNING] [SimpleShaderForLineSet] Binding failed with empty geometry::LineSet.\u001b[0;m\n",
      "\u001b[1;33m[Open3D WARNING] [SimpleShaderForLineSet] Binding failed when preparing data.\u001b[0;m\n",
      "\u001b[1;33m[Open3D WARNING] [SimpleShaderForLineSet] Something is wrong in compiling or binding.\u001b[0;m\n",
      "\u001b[1;33m[Open3D WARNING] [SimpleShaderForLineSet] Binding failed with empty geometry::LineSet.\u001b[0;m\n",
      "\u001b[1;33m[Open3D WARNING] [SimpleShaderForLineSet] Binding failed when preparing data.\u001b[0;m\n",
      "\u001b[1;33m[Open3D WARNING] [SimpleShaderForLineSet] Something is wrong in compiling or binding.\u001b[0;m\n",
      "\u001b[1;33m[Open3D WARNING] [SimpleShaderForLineSet] Binding failed with empty geometry::LineSet.\u001b[0;m\n",
      "\u001b[1;33m[Open3D WARNING] [SimpleShaderForLineSet] Binding failed when preparing data.\u001b[0;m\n",
      "\u001b[1;33m[Open3D WARNING] [SimpleShaderForLineSet] Something is wrong in compiling or binding.\u001b[0;m\n",
      "\u001b[1;33m[Open3D WARNING] [SimpleShaderForLineSet] Binding failed with empty geometry::LineSet.\u001b[0;m\n",
      "\u001b[1;33m[Open3D WARNING] [SimpleShaderForLineSet] Binding failed when preparing data.\u001b[0;m\n",
      "\u001b[1;33m[Open3D WARNING] [SimpleShaderForLineSet] Something is wrong in compiling or binding.\u001b[0;m\n",
      "\u001b[1;33m[Open3D WARNING] [SimpleShaderForLineSet] Binding failed with empty geometry::LineSet.\u001b[0;m\n",
      "\u001b[1;33m[Open3D WARNING] [SimpleShaderForLineSet] Binding failed when preparing data.\u001b[0;m\n",
      "\u001b[1;33m[Open3D WARNING] [SimpleShaderForLineSet] Something is wrong in compiling or binding.\u001b[0;m\n",
      "\u001b[1;33m[Open3D WARNING] [SimpleShaderForLineSet] Binding failed with empty geometry::LineSet.\u001b[0;m\n",
      "\u001b[1;33m[Open3D WARNING] [SimpleShaderForLineSet] Binding failed when preparing data.\u001b[0;m\n",
      "\u001b[1;33m[Open3D WARNING] [SimpleShaderForLineSet] Something is wrong in compiling or binding.\u001b[0;m\n",
      "\u001b[1;33m[Open3D WARNING] [SimpleShaderForLineSet] Binding failed with empty geometry::LineSet.\u001b[0;m\n",
      "\u001b[1;33m[Open3D WARNING] [SimpleShaderForLineSet] Binding failed when preparing data.\u001b[0;m\n",
      "\u001b[1;33m[Open3D WARNING] [SimpleShaderForLineSet] Something is wrong in compiling or binding.\u001b[0;m\n",
      "\u001b[1;33m[Open3D WARNING] [SimpleShaderForLineSet] Binding failed with empty geometry::LineSet.\u001b[0;m\n",
      "\u001b[1;33m[Open3D WARNING] [SimpleShaderForLineSet] Binding failed when preparing data.\u001b[0;m\n",
      "\u001b[1;33m[Open3D WARNING] [SimpleShaderForLineSet] Something is wrong in compiling or binding.\u001b[0;m\n",
      "\u001b[1;33m[Open3D WARNING] [SimpleShaderForLineSet] Binding failed with empty geometry::LineSet.\u001b[0;m\n",
      "\u001b[1;33m[Open3D WARNING] [SimpleShaderForLineSet] Binding failed when preparing data.\u001b[0;m\n",
      "\u001b[1;33m[Open3D WARNING] [SimpleShaderForLineSet] Something is wrong in compiling or binding.\u001b[0;m\n",
      "\u001b[1;33m[Open3D WARNING] [SimpleShaderForLineSet] Binding failed with empty geometry::LineSet.\u001b[0;m\n",
      "\u001b[1;33m[Open3D WARNING] [SimpleShaderForLineSet] Binding failed when preparing data.\u001b[0;m\n",
      "\u001b[1;33m[Open3D WARNING] [SimpleShaderForLineSet] Something is wrong in compiling or binding.\u001b[0;m\n",
      "\u001b[1;33m[Open3D WARNING] [SimpleShaderForLineSet] Binding failed with empty geometry::LineSet.\u001b[0;m\n",
      "\u001b[1;33m[Open3D WARNING] [SimpleShaderForLineSet] Binding failed when preparing data.\u001b[0;m\n",
      "\u001b[1;33m[Open3D WARNING] [SimpleShaderForLineSet] Something is wrong in compiling or binding.\u001b[0;m\n",
      "\u001b[1;33m[Open3D WARNING] [SimpleShaderForLineSet] Binding failed with empty geometry::LineSet.\u001b[0;m\n",
      "\u001b[1;33m[Open3D WARNING] [SimpleShaderForLineSet] Binding failed when preparing data.\u001b[0;m\n",
      "\u001b[1;33m[Open3D WARNING] [SimpleShaderForLineSet] Something is wrong in compiling or binding.\u001b[0;m\n",
      "\u001b[1;33m[Open3D WARNING] [SimpleShaderForLineSet] Binding failed with empty geometry::LineSet.\u001b[0;m\n",
      "\u001b[1;33m[Open3D WARNING] [SimpleShaderForLineSet] Binding failed when preparing data.\u001b[0;m\n",
      "\u001b[1;33m[Open3D WARNING] [SimpleShaderForLineSet] Something is wrong in compiling or binding.\u001b[0;m\n",
      "\u001b[1;33m[Open3D WARNING] [SimpleShaderForLineSet] Binding failed with empty geometry::LineSet.\u001b[0;m\n",
      "\u001b[1;33m[Open3D WARNING] [SimpleShaderForLineSet] Binding failed when preparing data.\u001b[0;m\n",
      "\u001b[1;33m[Open3D WARNING] [SimpleShaderForLineSet] Something is wrong in compiling or binding.\u001b[0;m\n",
      "\u001b[1;33m[Open3D WARNING] [SimpleShaderForLineSet] Binding failed with empty geometry::LineSet.\u001b[0;m\n",
      "\u001b[1;33m[Open3D WARNING] [SimpleShaderForLineSet] Binding failed when preparing data.\u001b[0;m\n",
      "\u001b[1;33m[Open3D WARNING] [SimpleShaderForLineSet] Something is wrong in compiling or binding.\u001b[0;m\n",
      "\u001b[1;33m[Open3D WARNING] [SimpleShaderForLineSet] Binding failed with empty geometry::LineSet.\u001b[0;m\n",
      "\u001b[1;33m[Open3D WARNING] [SimpleShaderForLineSet] Binding failed when preparing data.\u001b[0;m\n",
      "\u001b[1;33m[Open3D WARNING] [SimpleShaderForLineSet] Something is wrong in compiling or binding.\u001b[0;m\n",
      "\u001b[1;33m[Open3D WARNING] [SimpleShaderForLineSet] Binding failed with empty geometry::LineSet.\u001b[0;m\n",
      "\u001b[1;33m[Open3D WARNING] [SimpleShaderForLineSet] Binding failed when preparing data.\u001b[0;m\n",
      "\u001b[1;33m[Open3D WARNING] [SimpleShaderForLineSet] Something is wrong in compiling or binding.\u001b[0;m\n",
      "\u001b[1;33m[Open3D WARNING] [SimpleShaderForLineSet] Binding failed with empty geometry::LineSet.\u001b[0;m\n",
      "\u001b[1;33m[Open3D WARNING] [SimpleShaderForLineSet] Binding failed when preparing data.\u001b[0;m\n",
      "\u001b[1;33m[Open3D WARNING] [SimpleShaderForLineSet] Something is wrong in compiling or binding.\u001b[0;m\n",
      "\u001b[1;33m[Open3D WARNING] [SimpleShaderForLineSet] Binding failed with empty geometry::LineSet.\u001b[0;m\n",
      "\u001b[1;33m[Open3D WARNING] [SimpleShaderForLineSet] Binding failed when preparing data.\u001b[0;m\n",
      "\u001b[1;33m[Open3D WARNING] [SimpleShaderForLineSet] Something is wrong in compiling or binding.\u001b[0;m\n",
      "\u001b[1;33m[Open3D WARNING] [SimpleShaderForLineSet] Binding failed with empty geometry::LineSet.\u001b[0;m\n",
      "\u001b[1;33m[Open3D WARNING] [SimpleShaderForLineSet] Binding failed when preparing data.\u001b[0;m\n",
      "\u001b[1;33m[Open3D WARNING] [SimpleShaderForLineSet] Something is wrong in compiling or binding.\u001b[0;m\n",
      "\u001b[1;33m[Open3D WARNING] [SimpleShaderForLineSet] Binding failed with empty geometry::LineSet.\u001b[0;m\n",
      "\u001b[1;33m[Open3D WARNING] [SimpleShaderForLineSet] Binding failed when preparing data.\u001b[0;m\n",
      "\u001b[1;33m[Open3D WARNING] [SimpleShaderForLineSet] Something is wrong in compiling or binding.\u001b[0;m\n",
      "\u001b[1;33m[Open3D WARNING] [SimpleShaderForLineSet] Binding failed with empty geometry::LineSet.\u001b[0;m\n",
      "\u001b[1;33m[Open3D WARNING] [SimpleShaderForLineSet] Binding failed when preparing data.\u001b[0;m\n",
      "\u001b[1;33m[Open3D WARNING] [SimpleShaderForLineSet] Something is wrong in compiling or binding.\u001b[0;m\n",
      "\u001b[1;33m[Open3D WARNING] [SimpleShaderForLineSet] Binding failed with empty geometry::LineSet.\u001b[0;m\n",
      "\u001b[1;33m[Open3D WARNING] [SimpleShaderForLineSet] Binding failed when preparing data.\u001b[0;m\n",
      "\u001b[1;33m[Open3D WARNING] [SimpleShaderForLineSet] Something is wrong in compiling or binding.\u001b[0;m\n",
      "\u001b[1;33m[Open3D WARNING] [SimpleShaderForLineSet] Binding failed with empty geometry::LineSet.\u001b[0;m\n",
      "\u001b[1;33m[Open3D WARNING] [SimpleShaderForLineSet] Binding failed when preparing data.\u001b[0;m\n",
      "\u001b[1;33m[Open3D WARNING] [SimpleShaderForLineSet] Something is wrong in compiling or binding.\u001b[0;m\n",
      "\u001b[1;33m[Open3D WARNING] [SimpleShaderForLineSet] Binding failed with empty geometry::LineSet.\u001b[0;m\n",
      "\u001b[1;33m[Open3D WARNING] [SimpleShaderForLineSet] Binding failed when preparing data.\u001b[0;m\n",
      "\u001b[1;33m[Open3D WARNING] [SimpleShaderForLineSet] Something is wrong in compiling or binding.\u001b[0;m\n",
      "\u001b[1;33m[Open3D WARNING] [SimpleShaderForLineSet] Binding failed with empty geometry::LineSet.\u001b[0;m\n",
      "\u001b[1;33m[Open3D WARNING] [SimpleShaderForLineSet] Binding failed when preparing data.\u001b[0;m\n",
      "\u001b[1;33m[Open3D WARNING] [SimpleShaderForLineSet] Something is wrong in compiling or binding.\u001b[0;m\n",
      "\u001b[1;33m[Open3D WARNING] [SimpleShaderForLineSet] Binding failed with empty geometry::LineSet.\u001b[0;m\n",
      "\u001b[1;33m[Open3D WARNING] [SimpleShaderForLineSet] Binding failed when preparing data.\u001b[0;m\n",
      "\u001b[1;33m[Open3D WARNING] [SimpleShaderForLineSet] Something is wrong in compiling or binding.\u001b[0;m\n",
      "\u001b[1;33m[Open3D WARNING] [SimpleShaderForLineSet] Binding failed with empty geometry::LineSet.\u001b[0;m\n",
      "\u001b[1;33m[Open3D WARNING] [SimpleShaderForLineSet] Binding failed when preparing data.\u001b[0;m\n",
      "\u001b[1;33m[Open3D WARNING] [SimpleShaderForLineSet] Something is wrong in compiling or binding.\u001b[0;m\n",
      "\u001b[1;33m[Open3D WARNING] [SimpleShaderForLineSet] Binding failed with empty geometry::LineSet.\u001b[0;m\n",
      "\u001b[1;33m[Open3D WARNING] [SimpleShaderForLineSet] Binding failed when preparing data.\u001b[0;m\n",
      "\u001b[1;33m[Open3D WARNING] [SimpleShaderForLineSet] Something is wrong in compiling or binding.\u001b[0;m\n",
      "\u001b[1;33m[Open3D WARNING] [SimpleShaderForLineSet] Binding failed with empty geometry::LineSet.\u001b[0;m\n",
      "\u001b[1;33m[Open3D WARNING] [SimpleShaderForLineSet] Binding failed when preparing data.\u001b[0;m\n",
      "\u001b[1;33m[Open3D WARNING] [SimpleShaderForLineSet] Something is wrong in compiling or binding.\u001b[0;m\n",
      "\u001b[1;33m[Open3D WARNING] [SimpleShaderForLineSet] Binding failed with empty geometry::LineSet.\u001b[0;m\n",
      "\u001b[1;33m[Open3D WARNING] [SimpleShaderForLineSet] Binding failed when preparing data.\u001b[0;m\n",
      "\u001b[1;33m[Open3D WARNING] [SimpleShaderForLineSet] Something is wrong in compiling or binding.\u001b[0;m\n",
      "\u001b[1;33m[Open3D WARNING] [SimpleShaderForLineSet] Binding failed with empty geometry::LineSet.\u001b[0;m\n",
      "\u001b[1;33m[Open3D WARNING] [SimpleShaderForLineSet] Binding failed when preparing data.\u001b[0;m\n",
      "\u001b[1;33m[Open3D WARNING] [SimpleShaderForLineSet] Something is wrong in compiling or binding.\u001b[0;m\n",
      "\u001b[1;33m[Open3D WARNING] [SimpleShaderForLineSet] Binding failed with empty geometry::LineSet.\u001b[0;m\n",
      "\u001b[1;33m[Open3D WARNING] [SimpleShaderForLineSet] Binding failed when preparing data.\u001b[0;m\n",
      "\u001b[1;33m[Open3D WARNING] [SimpleShaderForLineSet] Something is wrong in compiling or binding.\u001b[0;m\n",
      "\u001b[1;33m[Open3D WARNING] [SimpleShaderForLineSet] Binding failed with empty geometry::LineSet.\u001b[0;m\n",
      "\u001b[1;33m[Open3D WARNING] [SimpleShaderForLineSet] Binding failed when preparing data.\u001b[0;m\n",
      "\u001b[1;33m[Open3D WARNING] [SimpleShaderForLineSet] Something is wrong in compiling or binding.\u001b[0;m\n",
      "\u001b[1;33m[Open3D WARNING] [SimpleShaderForLineSet] Binding failed with empty geometry::LineSet.\u001b[0;m\n",
      "\u001b[1;33m[Open3D WARNING] [SimpleShaderForLineSet] Binding failed when preparing data.\u001b[0;m\n",
      "\u001b[1;33m[Open3D WARNING] [SimpleShaderForLineSet] Something is wrong in compiling or binding.\u001b[0;m\n",
      "\u001b[1;33m[Open3D WARNING] [SimpleShaderForLineSet] Binding failed with empty geometry::LineSet.\u001b[0;m\n",
      "\u001b[1;33m[Open3D WARNING] [SimpleShaderForLineSet] Binding failed when preparing data.\u001b[0;m\n",
      "\u001b[1;33m[Open3D WARNING] [SimpleShaderForLineSet] Something is wrong in compiling or binding.\u001b[0;m\n",
      "\u001b[1;33m[Open3D WARNING] [SimpleShaderForLineSet] Binding failed with empty geometry::LineSet.\u001b[0;m\n",
      "\u001b[1;33m[Open3D WARNING] [SimpleShaderForLineSet] Binding failed when preparing data.\u001b[0;m\n",
      "\u001b[1;33m[Open3D WARNING] [SimpleShaderForLineSet] Something is wrong in compiling or binding.\u001b[0;m\n",
      "\u001b[1;33m[Open3D WARNING] [SimpleShaderForLineSet] Binding failed with empty geometry::LineSet.\u001b[0;m\n",
      "\u001b[1;33m[Open3D WARNING] [SimpleShaderForLineSet] Binding failed when preparing data.\u001b[0;m\n",
      "\u001b[1;33m[Open3D WARNING] [SimpleShaderForLineSet] Something is wrong in compiling or binding.\u001b[0;m\n",
      "\u001b[1;33m[Open3D WARNING] [SimpleShaderForLineSet] Binding failed with empty geometry::LineSet.\u001b[0;m\n",
      "\u001b[1;33m[Open3D WARNING] [SimpleShaderForLineSet] Binding failed when preparing data.\u001b[0;m\n",
      "\u001b[1;33m[Open3D WARNING] [SimpleShaderForLineSet] Something is wrong in compiling or binding.\u001b[0;m\n",
      "\u001b[1;33m[Open3D WARNING] [SimpleShaderForLineSet] Binding failed with empty geometry::LineSet.\u001b[0;m\n",
      "\u001b[1;33m[Open3D WARNING] [SimpleShaderForLineSet] Binding failed when preparing data.\u001b[0;m\n",
      "\u001b[1;33m[Open3D WARNING] [SimpleShaderForLineSet] Something is wrong in compiling or binding.\u001b[0;m\n",
      "\u001b[1;33m[Open3D WARNING] [SimpleShaderForLineSet] Binding failed with empty geometry::LineSet.\u001b[0;m\n",
      "\u001b[1;33m[Open3D WARNING] [SimpleShaderForLineSet] Binding failed when preparing data.\u001b[0;m\n",
      "\u001b[1;33m[Open3D WARNING] [SimpleShaderForLineSet] Something is wrong in compiling or binding.\u001b[0;m\n",
      "\u001b[1;33m[Open3D WARNING] [SimpleShaderForLineSet] Binding failed with empty geometry::LineSet.\u001b[0;m\n",
      "\u001b[1;33m[Open3D WARNING] [SimpleShaderForLineSet] Binding failed when preparing data.\u001b[0;m\n",
      "\u001b[1;33m[Open3D WARNING] [SimpleShaderForLineSet] Something is wrong in compiling or binding.\u001b[0;m\n",
      "\u001b[1;33m[Open3D WARNING] [SimpleShaderForLineSet] Binding failed with empty geometry::LineSet.\u001b[0;m\n",
      "\u001b[1;33m[Open3D WARNING] [SimpleShaderForLineSet] Binding failed when preparing data.\u001b[0;m\n",
      "\u001b[1;33m[Open3D WARNING] [SimpleShaderForLineSet] Something is wrong in compiling or binding.\u001b[0;m\n",
      "\u001b[1;33m[Open3D WARNING] [SimpleShaderForLineSet] Binding failed with empty geometry::LineSet.\u001b[0;m\n",
      "\u001b[1;33m[Open3D WARNING] [SimpleShaderForLineSet] Binding failed when preparing data.\u001b[0;m\n",
      "\u001b[1;33m[Open3D WARNING] [SimpleShaderForLineSet] Something is wrong in compiling or binding.\u001b[0;m\n",
      "\u001b[1;33m[Open3D WARNING] [SimpleShaderForLineSet] Binding failed with empty geometry::LineSet.\u001b[0;m\n",
      "\u001b[1;33m[Open3D WARNING] [SimpleShaderForLineSet] Binding failed when preparing data.\u001b[0;m\n",
      "\u001b[1;33m[Open3D WARNING] [SimpleShaderForLineSet] Something is wrong in compiling or binding.\u001b[0;m\n",
      "\u001b[1;33m[Open3D WARNING] [SimpleShaderForLineSet] Binding failed with empty geometry::LineSet.\u001b[0;m\n",
      "\u001b[1;33m[Open3D WARNING] [SimpleShaderForLineSet] Binding failed when preparing data.\u001b[0;m\n",
      "\u001b[1;33m[Open3D WARNING] [SimpleShaderForLineSet] Something is wrong in compiling or binding.\u001b[0;m\n",
      "\u001b[1;33m[Open3D WARNING] [SimpleShaderForLineSet] Binding failed with empty geometry::LineSet.\u001b[0;m\n",
      "\u001b[1;33m[Open3D WARNING] [SimpleShaderForLineSet] Binding failed when preparing data.\u001b[0;m\n",
      "\u001b[1;33m[Open3D WARNING] [SimpleShaderForLineSet] Something is wrong in compiling or binding.\u001b[0;m\n",
      "\u001b[1;33m[Open3D WARNING] [SimpleShaderForLineSet] Binding failed with empty geometry::LineSet.\u001b[0;m\n",
      "\u001b[1;33m[Open3D WARNING] [SimpleShaderForLineSet] Binding failed when preparing data.\u001b[0;m\n",
      "\u001b[1;33m[Open3D WARNING] [SimpleShaderForLineSet] Something is wrong in compiling or binding.\u001b[0;m\n",
      "\u001b[1;33m[Open3D WARNING] [SimpleShaderForLineSet] Binding failed with empty geometry::LineSet.\u001b[0;m\n",
      "\u001b[1;33m[Open3D WARNING] [SimpleShaderForLineSet] Binding failed when preparing data.\u001b[0;m\n",
      "\u001b[1;33m[Open3D WARNING] [SimpleShaderForLineSet] Something is wrong in compiling or binding.\u001b[0;m\n",
      "\u001b[1;33m[Open3D WARNING] [SimpleShaderForLineSet] Binding failed with empty geometry::LineSet.\u001b[0;m\n",
      "\u001b[1;33m[Open3D WARNING] [SimpleShaderForLineSet] Binding failed when preparing data.\u001b[0;m\n",
      "\u001b[1;33m[Open3D WARNING] [SimpleShaderForLineSet] Something is wrong in compiling or binding.\u001b[0;m\n",
      "\u001b[1;33m[Open3D WARNING] [SimpleShaderForLineSet] Binding failed with empty geometry::LineSet.\u001b[0;m\n",
      "\u001b[1;33m[Open3D WARNING] [SimpleShaderForLineSet] Binding failed when preparing data.\u001b[0;m\n",
      "\u001b[1;33m[Open3D WARNING] [SimpleShaderForLineSet] Something is wrong in compiling or binding.\u001b[0;m\n",
      "\u001b[1;33m[Open3D WARNING] [SimpleShaderForLineSet] Binding failed with empty geometry::LineSet.\u001b[0;m\n",
      "\u001b[1;33m[Open3D WARNING] [SimpleShaderForLineSet] Binding failed when preparing data.\u001b[0;m\n",
      "\u001b[1;33m[Open3D WARNING] [SimpleShaderForLineSet] Something is wrong in compiling or binding.\u001b[0;m\n",
      "\u001b[1;33m[Open3D WARNING] [SimpleShaderForLineSet] Binding failed with empty geometry::LineSet.\u001b[0;m\n",
      "\u001b[1;33m[Open3D WARNING] [SimpleShaderForLineSet] Binding failed when preparing data.\u001b[0;m\n",
      "\u001b[1;33m[Open3D WARNING] [SimpleShaderForLineSet] Something is wrong in compiling or binding.\u001b[0;m\n",
      "\u001b[1;33m[Open3D WARNING] [SimpleShaderForLineSet] Binding failed with empty geometry::LineSet.\u001b[0;m\n",
      "\u001b[1;33m[Open3D WARNING] [SimpleShaderForLineSet] Binding failed when preparing data.\u001b[0;m\n",
      "\u001b[1;33m[Open3D WARNING] [SimpleShaderForLineSet] Something is wrong in compiling or binding.\u001b[0;m\n",
      "\u001b[1;33m[Open3D WARNING] [SimpleShaderForLineSet] Binding failed with empty geometry::LineSet.\u001b[0;m\n",
      "\u001b[1;33m[Open3D WARNING] [SimpleShaderForLineSet] Binding failed when preparing data.\u001b[0;m\n",
      "\u001b[1;33m[Open3D WARNING] [SimpleShaderForLineSet] Something is wrong in compiling or binding.\u001b[0;m\n",
      "\u001b[1;33m[Open3D WARNING] [SimpleShaderForLineSet] Binding failed with empty geometry::LineSet.\u001b[0;m\n",
      "\u001b[1;33m[Open3D WARNING] [SimpleShaderForLineSet] Binding failed when preparing data.\u001b[0;m\n",
      "\u001b[1;33m[Open3D WARNING] [SimpleShaderForLineSet] Something is wrong in compiling or binding.\u001b[0;m\n",
      "\u001b[1;33m[Open3D WARNING] [SimpleShaderForLineSet] Binding failed with empty geometry::LineSet.\u001b[0;m\n",
      "\u001b[1;33m[Open3D WARNING] [SimpleShaderForLineSet] Binding failed when preparing data.\u001b[0;m\n",
      "\u001b[1;33m[Open3D WARNING] [SimpleShaderForLineSet] Something is wrong in compiling or binding.\u001b[0;m\n",
      "\u001b[1;33m[Open3D WARNING] [SimpleShaderForLineSet] Binding failed with empty geometry::LineSet.\u001b[0;m\n",
      "\u001b[1;33m[Open3D WARNING] [SimpleShaderForLineSet] Binding failed when preparing data.\u001b[0;m\n",
      "\u001b[1;33m[Open3D WARNING] [SimpleShaderForLineSet] Something is wrong in compiling or binding.\u001b[0;m\n",
      "\u001b[1;33m[Open3D WARNING] [SimpleShaderForLineSet] Binding failed with empty geometry::LineSet.\u001b[0;m\n",
      "\u001b[1;33m[Open3D WARNING] [SimpleShaderForLineSet] Binding failed when preparing data.\u001b[0;m\n",
      "\u001b[1;33m[Open3D WARNING] [SimpleShaderForLineSet] Something is wrong in compiling or binding.\u001b[0;m\n",
      "\u001b[1;33m[Open3D WARNING] [SimpleShaderForLineSet] Binding failed with empty geometry::LineSet.\u001b[0;m\n",
      "\u001b[1;33m[Open3D WARNING] [SimpleShaderForLineSet] Binding failed when preparing data.\u001b[0;m\n",
      "\u001b[1;33m[Open3D WARNING] [SimpleShaderForLineSet] Something is wrong in compiling or binding.\u001b[0;m\n",
      "\u001b[1;33m[Open3D WARNING] [SimpleShaderForLineSet] Binding failed with empty geometry::LineSet.\u001b[0;m\n",
      "\u001b[1;33m[Open3D WARNING] [SimpleShaderForLineSet] Binding failed when preparing data.\u001b[0;m\n",
      "\u001b[1;33m[Open3D WARNING] [SimpleShaderForLineSet] Something is wrong in compiling or binding.\u001b[0;m\n",
      "\u001b[1;33m[Open3D WARNING] [SimpleShaderForLineSet] Binding failed with empty geometry::LineSet.\u001b[0;m\n",
      "\u001b[1;33m[Open3D WARNING] [SimpleShaderForLineSet] Binding failed when preparing data.\u001b[0;m\n",
      "\u001b[1;33m[Open3D WARNING] [SimpleShaderForLineSet] Something is wrong in compiling or binding.\u001b[0;m\n",
      "\u001b[1;33m[Open3D WARNING] [SimpleShaderForLineSet] Binding failed with empty geometry::LineSet.\u001b[0;m\n",
      "\u001b[1;33m[Open3D WARNING] [SimpleShaderForLineSet] Binding failed when preparing data.\u001b[0;m\n",
      "\u001b[1;33m[Open3D WARNING] [SimpleShaderForLineSet] Something is wrong in compiling or binding.\u001b[0;m\n",
      "\u001b[1;33m[Open3D WARNING] [SimpleShaderForLineSet] Binding failed with empty geometry::LineSet.\u001b[0;m\n",
      "\u001b[1;33m[Open3D WARNING] [SimpleShaderForLineSet] Binding failed when preparing data.\u001b[0;m\n",
      "\u001b[1;33m[Open3D WARNING] [SimpleShaderForLineSet] Something is wrong in compiling or binding.\u001b[0;m\n",
      "\u001b[1;33m[Open3D WARNING] [SimpleShaderForLineSet] Binding failed with empty geometry::LineSet.\u001b[0;m\n",
      "\u001b[1;33m[Open3D WARNING] [SimpleShaderForLineSet] Binding failed when preparing data.\u001b[0;m\n",
      "\u001b[1;33m[Open3D WARNING] [SimpleShaderForLineSet] Something is wrong in compiling or binding.\u001b[0;m\n",
      "\u001b[1;33m[Open3D WARNING] [SimpleShaderForLineSet] Binding failed with empty geometry::LineSet.\u001b[0;m\n",
      "\u001b[1;33m[Open3D WARNING] [SimpleShaderForLineSet] Binding failed when preparing data.\u001b[0;m\n",
      "\u001b[1;33m[Open3D WARNING] [SimpleShaderForLineSet] Something is wrong in compiling or binding.\u001b[0;m\n",
      "\u001b[1;33m[Open3D WARNING] [SimpleShaderForLineSet] Binding failed with empty geometry::LineSet.\u001b[0;m\n",
      "\u001b[1;33m[Open3D WARNING] [SimpleShaderForLineSet] Binding failed when preparing data.\u001b[0;m\n",
      "\u001b[1;33m[Open3D WARNING] [SimpleShaderForLineSet] Something is wrong in compiling or binding.\u001b[0;m\n",
      "\u001b[1;33m[Open3D WARNING] [SimpleShaderForLineSet] Binding failed with empty geometry::LineSet.\u001b[0;m\n",
      "\u001b[1;33m[Open3D WARNING] [SimpleShaderForLineSet] Binding failed when preparing data.\u001b[0;m\n",
      "\u001b[1;33m[Open3D WARNING] [SimpleShaderForLineSet] Something is wrong in compiling or binding.\u001b[0;m\n",
      "\u001b[1;33m[Open3D WARNING] [SimpleShaderForLineSet] Binding failed with empty geometry::LineSet.\u001b[0;m\n",
      "\u001b[1;33m[Open3D WARNING] [SimpleShaderForLineSet] Binding failed when preparing data.\u001b[0;m\n",
      "\u001b[1;33m[Open3D WARNING] [SimpleShaderForLineSet] Something is wrong in compiling or binding.\u001b[0;m\n",
      "\u001b[1;33m[Open3D WARNING] [SimpleShaderForLineSet] Binding failed with empty geometry::LineSet.\u001b[0;m\n",
      "\u001b[1;33m[Open3D WARNING] [SimpleShaderForLineSet] Binding failed when preparing data.\u001b[0;m\n",
      "\u001b[1;33m[Open3D WARNING] [SimpleShaderForLineSet] Something is wrong in compiling or binding.\u001b[0;m\n",
      "\u001b[1;33m[Open3D WARNING] [SimpleShaderForLineSet] Binding failed with empty geometry::LineSet.\u001b[0;m\n",
      "\u001b[1;33m[Open3D WARNING] [SimpleShaderForLineSet] Binding failed when preparing data.\u001b[0;m\n",
      "\u001b[1;33m[Open3D WARNING] [SimpleShaderForLineSet] Something is wrong in compiling or binding.\u001b[0;m\n",
      "\u001b[1;33m[Open3D WARNING] [SimpleShaderForLineSet] Binding failed with empty geometry::LineSet.\u001b[0;m\n",
      "\u001b[1;33m[Open3D WARNING] [SimpleShaderForLineSet] Binding failed when preparing data.\u001b[0;m\n",
      "\u001b[1;33m[Open3D WARNING] [SimpleShaderForLineSet] Something is wrong in compiling or binding.\u001b[0;m\n",
      "\u001b[1;33m[Open3D WARNING] [SimpleShaderForLineSet] Binding failed with empty geometry::LineSet.\u001b[0;m\n",
      "\u001b[1;33m[Open3D WARNING] [SimpleShaderForLineSet] Binding failed when preparing data.\u001b[0;m\n",
      "\u001b[1;33m[Open3D WARNING] [SimpleShaderForLineSet] Something is wrong in compiling or binding.\u001b[0;m\n",
      "\u001b[1;33m[Open3D WARNING] [SimpleShaderForLineSet] Binding failed with empty geometry::LineSet.\u001b[0;m\n",
      "\u001b[1;33m[Open3D WARNING] [SimpleShaderForLineSet] Binding failed when preparing data.\u001b[0;m\n",
      "\u001b[1;33m[Open3D WARNING] [SimpleShaderForLineSet] Something is wrong in compiling or binding.\u001b[0;m\n",
      "\u001b[1;33m[Open3D WARNING] [SimpleShaderForLineSet] Binding failed with empty geometry::LineSet.\u001b[0;m\n",
      "\u001b[1;33m[Open3D WARNING] [SimpleShaderForLineSet] Binding failed when preparing data.\u001b[0;m\n",
      "\u001b[1;33m[Open3D WARNING] [SimpleShaderForLineSet] Something is wrong in compiling or binding.\u001b[0;m\n",
      "\u001b[1;33m[Open3D WARNING] [SimpleShaderForLineSet] Binding failed with empty geometry::LineSet.\u001b[0;m\n",
      "\u001b[1;33m[Open3D WARNING] [SimpleShaderForLineSet] Binding failed when preparing data.\u001b[0;m\n",
      "\u001b[1;33m[Open3D WARNING] [SimpleShaderForLineSet] Something is wrong in compiling or binding.\u001b[0;m\n",
      "\u001b[1;33m[Open3D WARNING] [SimpleShaderForLineSet] Binding failed with empty geometry::LineSet.\u001b[0;m\n",
      "\u001b[1;33m[Open3D WARNING] [SimpleShaderForLineSet] Binding failed when preparing data.\u001b[0;m\n",
      "\u001b[1;33m[Open3D WARNING] [SimpleShaderForLineSet] Something is wrong in compiling or binding.\u001b[0;m\n",
      "\u001b[1;33m[Open3D WARNING] [SimpleShaderForLineSet] Binding failed with empty geometry::LineSet.\u001b[0;m\n",
      "\u001b[1;33m[Open3D WARNING] [SimpleShaderForLineSet] Binding failed when preparing data.\u001b[0;m\n",
      "\u001b[1;33m[Open3D WARNING] [SimpleShaderForLineSet] Something is wrong in compiling or binding.\u001b[0;m\n",
      "\u001b[1;33m[Open3D WARNING] [SimpleShaderForLineSet] Binding failed with empty geometry::LineSet.\u001b[0;m\n",
      "\u001b[1;33m[Open3D WARNING] [SimpleShaderForLineSet] Binding failed when preparing data.\u001b[0;m\n",
      "\u001b[1;33m[Open3D WARNING] [SimpleShaderForLineSet] Something is wrong in compiling or binding.\u001b[0;m\n",
      "\u001b[1;33m[Open3D WARNING] [SimpleShaderForLineSet] Binding failed with empty geometry::LineSet.\u001b[0;m\n",
      "\u001b[1;33m[Open3D WARNING] [SimpleShaderForLineSet] Binding failed when preparing data.\u001b[0;m\n",
      "\u001b[1;33m[Open3D WARNING] [SimpleShaderForLineSet] Something is wrong in compiling or binding.\u001b[0;m\n",
      "\u001b[1;33m[Open3D WARNING] [SimpleShaderForLineSet] Binding failed with empty geometry::LineSet.\u001b[0;m\n",
      "\u001b[1;33m[Open3D WARNING] [SimpleShaderForLineSet] Binding failed when preparing data.\u001b[0;m\n",
      "\u001b[1;33m[Open3D WARNING] [SimpleShaderForLineSet] Something is wrong in compiling or binding.\u001b[0;m\n",
      "\u001b[1;33m[Open3D WARNING] [SimpleShaderForLineSet] Binding failed with empty geometry::LineSet.\u001b[0;m\n",
      "\u001b[1;33m[Open3D WARNING] [SimpleShaderForLineSet] Binding failed when preparing data.\u001b[0;m\n",
      "\u001b[1;33m[Open3D WARNING] [SimpleShaderForLineSet] Something is wrong in compiling or binding.\u001b[0;m\n",
      "\u001b[1;33m[Open3D WARNING] [SimpleShaderForLineSet] Binding failed with empty geometry::LineSet.\u001b[0;m\n",
      "\u001b[1;33m[Open3D WARNING] [SimpleShaderForLineSet] Binding failed when preparing data.\u001b[0;m\n",
      "\u001b[1;33m[Open3D WARNING] [SimpleShaderForLineSet] Something is wrong in compiling or binding.\u001b[0;m\n",
      "\u001b[1;33m[Open3D WARNING] [SimpleShaderForLineSet] Binding failed with empty geometry::LineSet.\u001b[0;m\n",
      "\u001b[1;33m[Open3D WARNING] [SimpleShaderForLineSet] Binding failed when preparing data.\u001b[0;m\n",
      "\u001b[1;33m[Open3D WARNING] [SimpleShaderForLineSet] Something is wrong in compiling or binding.\u001b[0;m\n",
      "\u001b[1;33m[Open3D WARNING] [SimpleShaderForLineSet] Binding failed with empty geometry::LineSet.\u001b[0;m\n",
      "\u001b[1;33m[Open3D WARNING] [SimpleShaderForLineSet] Binding failed when preparing data.\u001b[0;m\n",
      "\u001b[1;33m[Open3D WARNING] [SimpleShaderForLineSet] Something is wrong in compiling or binding.\u001b[0;m\n",
      "\u001b[1;33m[Open3D WARNING] [SimpleShaderForLineSet] Binding failed with empty geometry::LineSet.\u001b[0;m\n",
      "\u001b[1;33m[Open3D WARNING] [SimpleShaderForLineSet] Binding failed when preparing data.\u001b[0;m\n",
      "\u001b[1;33m[Open3D WARNING] [SimpleShaderForLineSet] Something is wrong in compiling or binding.\u001b[0;m\n",
      "\u001b[1;33m[Open3D WARNING] [SimpleShaderForLineSet] Binding failed with empty geometry::LineSet.\u001b[0;m\n",
      "\u001b[1;33m[Open3D WARNING] [SimpleShaderForLineSet] Binding failed when preparing data.\u001b[0;m\n",
      "\u001b[1;33m[Open3D WARNING] [SimpleShaderForLineSet] Something is wrong in compiling or binding.\u001b[0;m\n",
      "\u001b[1;33m[Open3D WARNING] [SimpleShaderForLineSet] Binding failed with empty geometry::LineSet.\u001b[0;m\n",
      "\u001b[1;33m[Open3D WARNING] [SimpleShaderForLineSet] Binding failed when preparing data.\u001b[0;m\n",
      "\u001b[1;33m[Open3D WARNING] [SimpleShaderForLineSet] Something is wrong in compiling or binding.\u001b[0;m\n",
      "\u001b[1;33m[Open3D WARNING] [SimpleShaderForLineSet] Binding failed with empty geometry::LineSet.\u001b[0;m\n",
      "\u001b[1;33m[Open3D WARNING] [SimpleShaderForLineSet] Binding failed when preparing data.\u001b[0;m\n",
      "\u001b[1;33m[Open3D WARNING] [SimpleShaderForLineSet] Something is wrong in compiling or binding.\u001b[0;m\n",
      "\u001b[1;33m[Open3D WARNING] [SimpleShaderForLineSet] Binding failed with empty geometry::LineSet.\u001b[0;m\n",
      "\u001b[1;33m[Open3D WARNING] [SimpleShaderForLineSet] Binding failed when preparing data.\u001b[0;m\n",
      "\u001b[1;33m[Open3D WARNING] [SimpleShaderForLineSet] Something is wrong in compiling or binding.\u001b[0;m\n",
      "\u001b[1;33m[Open3D WARNING] [SimpleShaderForLineSet] Binding failed with empty geometry::LineSet.\u001b[0;m\n",
      "\u001b[1;33m[Open3D WARNING] [SimpleShaderForLineSet] Binding failed when preparing data.\u001b[0;m\n",
      "\u001b[1;33m[Open3D WARNING] [SimpleShaderForLineSet] Something is wrong in compiling or binding.\u001b[0;m\n",
      "\u001b[1;33m[Open3D WARNING] [SimpleShaderForLineSet] Binding failed with empty geometry::LineSet.\u001b[0;m\n",
      "\u001b[1;33m[Open3D WARNING] [SimpleShaderForLineSet] Binding failed when preparing data.\u001b[0;m\n",
      "\u001b[1;33m[Open3D WARNING] [SimpleShaderForLineSet] Something is wrong in compiling or binding.\u001b[0;m\n",
      "\u001b[1;33m[Open3D WARNING] [SimpleShaderForLineSet] Binding failed with empty geometry::LineSet.\u001b[0;m\n",
      "\u001b[1;33m[Open3D WARNING] [SimpleShaderForLineSet] Binding failed when preparing data.\u001b[0;m\n",
      "\u001b[1;33m[Open3D WARNING] [SimpleShaderForLineSet] Something is wrong in compiling or binding.\u001b[0;m\n",
      "\u001b[1;33m[Open3D WARNING] [SimpleShaderForLineSet] Binding failed with empty geometry::LineSet.\u001b[0;m\n",
      "\u001b[1;33m[Open3D WARNING] [SimpleShaderForLineSet] Binding failed when preparing data.\u001b[0;m\n",
      "\u001b[1;33m[Open3D WARNING] [SimpleShaderForLineSet] Something is wrong in compiling or binding.\u001b[0;m\n",
      "\u001b[1;33m[Open3D WARNING] [SimpleShaderForLineSet] Binding failed with empty geometry::LineSet.\u001b[0;m\n",
      "\u001b[1;33m[Open3D WARNING] [SimpleShaderForLineSet] Binding failed when preparing data.\u001b[0;m\n",
      "\u001b[1;33m[Open3D WARNING] [SimpleShaderForLineSet] Something is wrong in compiling or binding.\u001b[0;m\n",
      "\u001b[1;33m[Open3D WARNING] [SimpleShaderForLineSet] Binding failed with empty geometry::LineSet.\u001b[0;m\n",
      "\u001b[1;33m[Open3D WARNING] [SimpleShaderForLineSet] Binding failed when preparing data.\u001b[0;m\n",
      "\u001b[1;33m[Open3D WARNING] [SimpleShaderForLineSet] Something is wrong in compiling or binding.\u001b[0;m\n",
      "\u001b[1;33m[Open3D WARNING] [SimpleShaderForLineSet] Binding failed with empty geometry::LineSet.\u001b[0;m\n",
      "\u001b[1;33m[Open3D WARNING] [SimpleShaderForLineSet] Binding failed when preparing data.\u001b[0;m\n",
      "\u001b[1;33m[Open3D WARNING] [SimpleShaderForLineSet] Something is wrong in compiling or binding.\u001b[0;m\n",
      "\u001b[1;33m[Open3D WARNING] [SimpleShaderForLineSet] Binding failed with empty geometry::LineSet.\u001b[0;m\n",
      "\u001b[1;33m[Open3D WARNING] [SimpleShaderForLineSet] Binding failed when preparing data.\u001b[0;m\n",
      "\u001b[1;33m[Open3D WARNING] [SimpleShaderForLineSet] Something is wrong in compiling or binding.\u001b[0;m\n",
      "\u001b[1;33m[Open3D WARNING] [SimpleShaderForLineSet] Binding failed with empty geometry::LineSet.\u001b[0;m\n",
      "\u001b[1;33m[Open3D WARNING] [SimpleShaderForLineSet] Binding failed when preparing data.\u001b[0;m\n",
      "\u001b[1;33m[Open3D WARNING] [SimpleShaderForLineSet] Something is wrong in compiling or binding.\u001b[0;m\n",
      "\u001b[1;33m[Open3D WARNING] [SimpleShaderForLineSet] Binding failed with empty geometry::LineSet.\u001b[0;m\n",
      "\u001b[1;33m[Open3D WARNING] [SimpleShaderForLineSet] Binding failed when preparing data.\u001b[0;m\n",
      "\u001b[1;33m[Open3D WARNING] [SimpleShaderForLineSet] Something is wrong in compiling or binding.\u001b[0;m\n",
      "\u001b[1;33m[Open3D WARNING] [SimpleShaderForLineSet] Binding failed with empty geometry::LineSet.\u001b[0;m\n",
      "\u001b[1;33m[Open3D WARNING] [SimpleShaderForLineSet] Binding failed when preparing data.\u001b[0;m\n",
      "\u001b[1;33m[Open3D WARNING] [SimpleShaderForLineSet] Something is wrong in compiling or binding.\u001b[0;m\n",
      "\u001b[1;33m[Open3D WARNING] [SimpleShaderForLineSet] Binding failed with empty geometry::LineSet.\u001b[0;m\n",
      "\u001b[1;33m[Open3D WARNING] [SimpleShaderForLineSet] Binding failed when preparing data.\u001b[0;m\n",
      "\u001b[1;33m[Open3D WARNING] [SimpleShaderForLineSet] Something is wrong in compiling or binding.\u001b[0;m\n",
      "\u001b[1;33m[Open3D WARNING] [SimpleShaderForLineSet] Binding failed with empty geometry::LineSet.\u001b[0;m\n",
      "\u001b[1;33m[Open3D WARNING] [SimpleShaderForLineSet] Binding failed when preparing data.\u001b[0;m\n",
      "\u001b[1;33m[Open3D WARNING] [SimpleShaderForLineSet] Something is wrong in compiling or binding.\u001b[0;m\n",
      "\u001b[1;33m[Open3D WARNING] [SimpleShaderForLineSet] Binding failed with empty geometry::LineSet.\u001b[0;m\n",
      "\u001b[1;33m[Open3D WARNING] [SimpleShaderForLineSet] Binding failed when preparing data.\u001b[0;m\n",
      "\u001b[1;33m[Open3D WARNING] [SimpleShaderForLineSet] Something is wrong in compiling or binding.\u001b[0;m\n",
      "\u001b[1;33m[Open3D WARNING] [SimpleShaderForLineSet] Binding failed with empty geometry::LineSet.\u001b[0;m\n",
      "\u001b[1;33m[Open3D WARNING] [SimpleShaderForLineSet] Binding failed when preparing data.\u001b[0;m\n",
      "\u001b[1;33m[Open3D WARNING] [SimpleShaderForLineSet] Something is wrong in compiling or binding.\u001b[0;m\n",
      "\u001b[1;33m[Open3D WARNING] [SimpleShaderForLineSet] Binding failed with empty geometry::LineSet.\u001b[0;m\n",
      "\u001b[1;33m[Open3D WARNING] [SimpleShaderForLineSet] Binding failed when preparing data.\u001b[0;m\n",
      "\u001b[1;33m[Open3D WARNING] [SimpleShaderForLineSet] Something is wrong in compiling or binding.\u001b[0;m\n",
      "\u001b[1;33m[Open3D WARNING] [SimpleShaderForLineSet] Binding failed with empty geometry::LineSet.\u001b[0;m\n",
      "\u001b[1;33m[Open3D WARNING] [SimpleShaderForLineSet] Binding failed when preparing data.\u001b[0;m\n",
      "\u001b[1;33m[Open3D WARNING] [SimpleShaderForLineSet] Something is wrong in compiling or binding.\u001b[0;m\n",
      "\u001b[1;33m[Open3D WARNING] [SimpleShaderForLineSet] Binding failed with empty geometry::LineSet.\u001b[0;m\n",
      "\u001b[1;33m[Open3D WARNING] [SimpleShaderForLineSet] Binding failed when preparing data.\u001b[0;m\n",
      "\u001b[1;33m[Open3D WARNING] [SimpleShaderForLineSet] Something is wrong in compiling or binding.\u001b[0;m\n",
      "\u001b[1;33m[Open3D WARNING] [SimpleShaderForLineSet] Binding failed with empty geometry::LineSet.\u001b[0;m\n",
      "\u001b[1;33m[Open3D WARNING] [SimpleShaderForLineSet] Binding failed when preparing data.\u001b[0;m\n",
      "\u001b[1;33m[Open3D WARNING] [SimpleShaderForLineSet] Something is wrong in compiling or binding.\u001b[0;m\n",
      "\u001b[1;33m[Open3D WARNING] [SimpleShaderForLineSet] Binding failed with empty geometry::LineSet.\u001b[0;m\n",
      "\u001b[1;33m[Open3D WARNING] [SimpleShaderForLineSet] Binding failed when preparing data.\u001b[0;m\n",
      "\u001b[1;33m[Open3D WARNING] [SimpleShaderForLineSet] Something is wrong in compiling or binding.\u001b[0;m\n",
      "\u001b[1;33m[Open3D WARNING] [SimpleShaderForLineSet] Binding failed with empty geometry::LineSet.\u001b[0;m\n",
      "\u001b[1;33m[Open3D WARNING] [SimpleShaderForLineSet] Binding failed when preparing data.\u001b[0;m\n",
      "\u001b[1;33m[Open3D WARNING] [SimpleShaderForLineSet] Something is wrong in compiling or binding.\u001b[0;m\n",
      "\u001b[1;33m[Open3D WARNING] [SimpleShaderForLineSet] Binding failed with empty geometry::LineSet.\u001b[0;m\n",
      "\u001b[1;33m[Open3D WARNING] [SimpleShaderForLineSet] Binding failed when preparing data.\u001b[0;m\n",
      "\u001b[1;33m[Open3D WARNING] [SimpleShaderForLineSet] Something is wrong in compiling or binding.\u001b[0;m\n",
      "\u001b[1;33m[Open3D WARNING] [SimpleShaderForLineSet] Binding failed with empty geometry::LineSet.\u001b[0;m\n",
      "\u001b[1;33m[Open3D WARNING] [SimpleShaderForLineSet] Binding failed when preparing data.\u001b[0;m\n",
      "\u001b[1;33m[Open3D WARNING] [SimpleShaderForLineSet] Something is wrong in compiling or binding.\u001b[0;m\n",
      "\u001b[1;33m[Open3D WARNING] [SimpleShaderForLineSet] Binding failed with empty geometry::LineSet.\u001b[0;m\n",
      "\u001b[1;33m[Open3D WARNING] [SimpleShaderForLineSet] Binding failed when preparing data.\u001b[0;m\n",
      "\u001b[1;33m[Open3D WARNING] [SimpleShaderForLineSet] Something is wrong in compiling or binding.\u001b[0;m\n",
      "\u001b[1;33m[Open3D WARNING] [SimpleShaderForLineSet] Binding failed with empty geometry::LineSet.\u001b[0;m\n",
      "\u001b[1;33m[Open3D WARNING] [SimpleShaderForLineSet] Binding failed when preparing data.\u001b[0;m\n",
      "\u001b[1;33m[Open3D WARNING] [SimpleShaderForLineSet] Something is wrong in compiling or binding.\u001b[0;m\n",
      "\u001b[1;33m[Open3D WARNING] [SimpleShaderForLineSet] Binding failed with empty geometry::LineSet.\u001b[0;m\n",
      "\u001b[1;33m[Open3D WARNING] [SimpleShaderForLineSet] Binding failed when preparing data.\u001b[0;m\n",
      "\u001b[1;33m[Open3D WARNING] [SimpleShaderForLineSet] Something is wrong in compiling or binding.\u001b[0;m\n",
      "\u001b[1;33m[Open3D WARNING] [SimpleShaderForLineSet] Binding failed with empty geometry::LineSet.\u001b[0;m\n",
      "\u001b[1;33m[Open3D WARNING] [SimpleShaderForLineSet] Binding failed when preparing data.\u001b[0;m\n",
      "\u001b[1;33m[Open3D WARNING] [SimpleShaderForLineSet] Something is wrong in compiling or binding.\u001b[0;m\n",
      "\u001b[1;33m[Open3D WARNING] [SimpleShaderForLineSet] Binding failed with empty geometry::LineSet.\u001b[0;m\n",
      "\u001b[1;33m[Open3D WARNING] [SimpleShaderForLineSet] Binding failed when preparing data.\u001b[0;m\n",
      "\u001b[1;33m[Open3D WARNING] [SimpleShaderForLineSet] Something is wrong in compiling or binding.\u001b[0;m\n",
      "\u001b[1;33m[Open3D WARNING] [SimpleShaderForLineSet] Binding failed with empty geometry::LineSet.\u001b[0;m\n",
      "\u001b[1;33m[Open3D WARNING] [SimpleShaderForLineSet] Binding failed when preparing data.\u001b[0;m\n",
      "\u001b[1;33m[Open3D WARNING] [SimpleShaderForLineSet] Something is wrong in compiling or binding.\u001b[0;m\n",
      "\u001b[1;33m[Open3D WARNING] [SimpleShaderForLineSet] Binding failed with empty geometry::LineSet.\u001b[0;m\n",
      "\u001b[1;33m[Open3D WARNING] [SimpleShaderForLineSet] Binding failed when preparing data.\u001b[0;m\n",
      "\u001b[1;33m[Open3D WARNING] [SimpleShaderForLineSet] Something is wrong in compiling or binding.\u001b[0;m\n",
      "\u001b[1;33m[Open3D WARNING] [SimpleShaderForLineSet] Binding failed with empty geometry::LineSet.\u001b[0;m\n",
      "\u001b[1;33m[Open3D WARNING] [SimpleShaderForLineSet] Binding failed when preparing data.\u001b[0;m\n",
      "\u001b[1;33m[Open3D WARNING] [SimpleShaderForLineSet] Something is wrong in compiling or binding.\u001b[0;m\n",
      "\u001b[1;33m[Open3D WARNING] [SimpleShaderForLineSet] Binding failed with empty geometry::LineSet.\u001b[0;m\n",
      "\u001b[1;33m[Open3D WARNING] [SimpleShaderForLineSet] Binding failed when preparing data.\u001b[0;m\n",
      "\u001b[1;33m[Open3D WARNING] [SimpleShaderForLineSet] Something is wrong in compiling or binding.\u001b[0;m\n",
      "\u001b[1;33m[Open3D WARNING] [SimpleShaderForLineSet] Binding failed with empty geometry::LineSet.\u001b[0;m\n",
      "\u001b[1;33m[Open3D WARNING] [SimpleShaderForLineSet] Binding failed when preparing data.\u001b[0;m\n",
      "\u001b[1;33m[Open3D WARNING] [SimpleShaderForLineSet] Something is wrong in compiling or binding.\u001b[0;m\n",
      "\u001b[1;33m[Open3D WARNING] [SimpleShaderForLineSet] Binding failed with empty geometry::LineSet.\u001b[0;m\n",
      "\u001b[1;33m[Open3D WARNING] [SimpleShaderForLineSet] Binding failed when preparing data.\u001b[0;m\n",
      "\u001b[1;33m[Open3D WARNING] [SimpleShaderForLineSet] Something is wrong in compiling or binding.\u001b[0;m\n",
      "\u001b[1;33m[Open3D WARNING] [SimpleShaderForLineSet] Binding failed with empty geometry::LineSet.\u001b[0;m\n",
      "\u001b[1;33m[Open3D WARNING] [SimpleShaderForLineSet] Binding failed when preparing data.\u001b[0;m\n",
      "\u001b[1;33m[Open3D WARNING] [SimpleShaderForLineSet] Something is wrong in compiling or binding.\u001b[0;m\n",
      "\u001b[1;33m[Open3D WARNING] [SimpleShaderForLineSet] Binding failed with empty geometry::LineSet.\u001b[0;m\n",
      "\u001b[1;33m[Open3D WARNING] [SimpleShaderForLineSet] Binding failed when preparing data.\u001b[0;m\n",
      "\u001b[1;33m[Open3D WARNING] [SimpleShaderForLineSet] Something is wrong in compiling or binding.\u001b[0;m\n",
      "\u001b[1;33m[Open3D WARNING] [SimpleShaderForLineSet] Binding failed with empty geometry::LineSet.\u001b[0;m\n",
      "\u001b[1;33m[Open3D WARNING] [SimpleShaderForLineSet] Binding failed when preparing data.\u001b[0;m\n",
      "\u001b[1;33m[Open3D WARNING] [SimpleShaderForLineSet] Something is wrong in compiling or binding.\u001b[0;m\n",
      "\u001b[1;33m[Open3D WARNING] [SimpleShaderForLineSet] Binding failed with empty geometry::LineSet.\u001b[0;m\n",
      "\u001b[1;33m[Open3D WARNING] [SimpleShaderForLineSet] Binding failed when preparing data.\u001b[0;m\n",
      "\u001b[1;33m[Open3D WARNING] [SimpleShaderForLineSet] Something is wrong in compiling or binding.\u001b[0;m\n",
      "\u001b[1;33m[Open3D WARNING] [SimpleShaderForLineSet] Binding failed with empty geometry::LineSet.\u001b[0;m\n",
      "\u001b[1;33m[Open3D WARNING] [SimpleShaderForLineSet] Binding failed when preparing data.\u001b[0;m\n",
      "\u001b[1;33m[Open3D WARNING] [SimpleShaderForLineSet] Something is wrong in compiling or binding.\u001b[0;m\n",
      "\u001b[1;33m[Open3D WARNING] [SimpleShaderForLineSet] Binding failed with empty geometry::LineSet.\u001b[0;m\n",
      "\u001b[1;33m[Open3D WARNING] [SimpleShaderForLineSet] Binding failed when preparing data.\u001b[0;m\n",
      "\u001b[1;33m[Open3D WARNING] [SimpleShaderForLineSet] Something is wrong in compiling or binding.\u001b[0;m\n",
      "\u001b[1;33m[Open3D WARNING] [SimpleShaderForLineSet] Binding failed with empty geometry::LineSet.\u001b[0;m\n",
      "\u001b[1;33m[Open3D WARNING] [SimpleShaderForLineSet] Binding failed when preparing data.\u001b[0;m\n",
      "\u001b[1;33m[Open3D WARNING] [SimpleShaderForLineSet] Something is wrong in compiling or binding.\u001b[0;m\n",
      "\u001b[1;33m[Open3D WARNING] [SimpleShaderForLineSet] Binding failed with empty geometry::LineSet.\u001b[0;m\n",
      "\u001b[1;33m[Open3D WARNING] [SimpleShaderForLineSet] Binding failed when preparing data.\u001b[0;m\n",
      "\u001b[1;33m[Open3D WARNING] [SimpleShaderForLineSet] Something is wrong in compiling or binding.\u001b[0;m\n",
      "\u001b[1;33m[Open3D WARNING] [SimpleShaderForLineSet] Binding failed with empty geometry::LineSet.\u001b[0;m\n",
      "\u001b[1;33m[Open3D WARNING] [SimpleShaderForLineSet] Binding failed when preparing data.\u001b[0;m\n",
      "\u001b[1;33m[Open3D WARNING] [SimpleShaderForLineSet] Something is wrong in compiling or binding.\u001b[0;m\n",
      "\u001b[1;33m[Open3D WARNING] [SimpleShaderForLineSet] Binding failed with empty geometry::LineSet.\u001b[0;m\n",
      "\u001b[1;33m[Open3D WARNING] [SimpleShaderForLineSet] Binding failed when preparing data.\u001b[0;m\n",
      "\u001b[1;33m[Open3D WARNING] [SimpleShaderForLineSet] Something is wrong in compiling or binding.\u001b[0;m\n",
      "\u001b[1;33m[Open3D WARNING] [SimpleShaderForLineSet] Binding failed with empty geometry::LineSet.\u001b[0;m\n",
      "\u001b[1;33m[Open3D WARNING] [SimpleShaderForLineSet] Binding failed when preparing data.\u001b[0;m\n",
      "\u001b[1;33m[Open3D WARNING] [SimpleShaderForLineSet] Something is wrong in compiling or binding.\u001b[0;m\n",
      "\u001b[1;33m[Open3D WARNING] [SimpleShaderForLineSet] Binding failed with empty geometry::LineSet.\u001b[0;m\n",
      "\u001b[1;33m[Open3D WARNING] [SimpleShaderForLineSet] Binding failed when preparing data.\u001b[0;m\n",
      "\u001b[1;33m[Open3D WARNING] [SimpleShaderForLineSet] Something is wrong in compiling or binding.\u001b[0;m\n",
      "\u001b[1;33m[Open3D WARNING] [SimpleShaderForLineSet] Binding failed with empty geometry::LineSet.\u001b[0;m\n",
      "\u001b[1;33m[Open3D WARNING] [SimpleShaderForLineSet] Binding failed when preparing data.\u001b[0;m\n",
      "\u001b[1;33m[Open3D WARNING] [SimpleShaderForLineSet] Something is wrong in compiling or binding.\u001b[0;m\n",
      "\u001b[1;33m[Open3D WARNING] [SimpleShaderForLineSet] Binding failed with empty geometry::LineSet.\u001b[0;m\n",
      "\u001b[1;33m[Open3D WARNING] [SimpleShaderForLineSet] Binding failed when preparing data.\u001b[0;m\n",
      "\u001b[1;33m[Open3D WARNING] [SimpleShaderForLineSet] Something is wrong in compiling or binding.\u001b[0;m\n",
      "\u001b[1;33m[Open3D WARNING] [SimpleShaderForLineSet] Binding failed with empty geometry::LineSet.\u001b[0;m\n",
      "\u001b[1;33m[Open3D WARNING] [SimpleShaderForLineSet] Binding failed when preparing data.\u001b[0;m\n",
      "\u001b[1;33m[Open3D WARNING] [SimpleShaderForLineSet] Something is wrong in compiling or binding.\u001b[0;m\n",
      "\u001b[1;33m[Open3D WARNING] [SimpleShaderForLineSet] Binding failed with empty geometry::LineSet.\u001b[0;m\n",
      "\u001b[1;33m[Open3D WARNING] [SimpleShaderForLineSet] Binding failed when preparing data.\u001b[0;m\n",
      "\u001b[1;33m[Open3D WARNING] [SimpleShaderForLineSet] Something is wrong in compiling or binding.\u001b[0;m\n",
      "\u001b[1;33m[Open3D WARNING] [SimpleShaderForLineSet] Binding failed with empty geometry::LineSet.\u001b[0;m\n",
      "\u001b[1;33m[Open3D WARNING] [SimpleShaderForLineSet] Binding failed when preparing data.\u001b[0;m\n",
      "\u001b[1;33m[Open3D WARNING] [SimpleShaderForLineSet] Something is wrong in compiling or binding.\u001b[0;m\n",
      "\u001b[1;33m[Open3D WARNING] [SimpleShaderForLineSet] Binding failed with empty geometry::LineSet.\u001b[0;m\n",
      "\u001b[1;33m[Open3D WARNING] [SimpleShaderForLineSet] Binding failed when preparing data.\u001b[0;m\n",
      "\u001b[1;33m[Open3D WARNING] [SimpleShaderForLineSet] Something is wrong in compiling or binding.\u001b[0;m\n",
      "\u001b[1;33m[Open3D WARNING] [SimpleShaderForLineSet] Binding failed with empty geometry::LineSet.\u001b[0;m\n",
      "\u001b[1;33m[Open3D WARNING] [SimpleShaderForLineSet] Binding failed when preparing data.\u001b[0;m\n",
      "\u001b[1;33m[Open3D WARNING] [SimpleShaderForLineSet] Something is wrong in compiling or binding.\u001b[0;m\n",
      "\u001b[1;33m[Open3D WARNING] [SimpleShaderForLineSet] Binding failed with empty geometry::LineSet.\u001b[0;m\n",
      "\u001b[1;33m[Open3D WARNING] [SimpleShaderForLineSet] Binding failed when preparing data.\u001b[0;m\n",
      "\u001b[1;33m[Open3D WARNING] [SimpleShaderForLineSet] Something is wrong in compiling or binding.\u001b[0;m\n",
      "\u001b[1;33m[Open3D WARNING] [SimpleShaderForLineSet] Binding failed with empty geometry::LineSet.\u001b[0;m\n",
      "\u001b[1;33m[Open3D WARNING] [SimpleShaderForLineSet] Binding failed when preparing data.\u001b[0;m\n",
      "\u001b[1;33m[Open3D WARNING] [SimpleShaderForLineSet] Something is wrong in compiling or binding.\u001b[0;m\n",
      "\u001b[1;33m[Open3D WARNING] [SimpleShaderForLineSet] Binding failed with empty geometry::LineSet.\u001b[0;m\n",
      "\u001b[1;33m[Open3D WARNING] [SimpleShaderForLineSet] Binding failed when preparing data.\u001b[0;m\n",
      "\u001b[1;33m[Open3D WARNING] [SimpleShaderForLineSet] Something is wrong in compiling or binding.\u001b[0;m\n",
      "\u001b[1;33m[Open3D WARNING] [SimpleShaderForLineSet] Binding failed with empty geometry::LineSet.\u001b[0;m\n",
      "\u001b[1;33m[Open3D WARNING] [SimpleShaderForLineSet] Binding failed when preparing data.\u001b[0;m\n",
      "\u001b[1;33m[Open3D WARNING] [SimpleShaderForLineSet] Something is wrong in compiling or binding.\u001b[0;m\n",
      "\u001b[1;33m[Open3D WARNING] [SimpleShaderForLineSet] Binding failed with empty geometry::LineSet.\u001b[0;m\n",
      "\u001b[1;33m[Open3D WARNING] [SimpleShaderForLineSet] Binding failed when preparing data.\u001b[0;m\n",
      "\u001b[1;33m[Open3D WARNING] [SimpleShaderForLineSet] Something is wrong in compiling or binding.\u001b[0;m\n",
      "\u001b[1;33m[Open3D WARNING] [SimpleShaderForLineSet] Binding failed with empty geometry::LineSet.\u001b[0;m\n",
      "\u001b[1;33m[Open3D WARNING] [SimpleShaderForLineSet] Binding failed when preparing data.\u001b[0;m\n",
      "\u001b[1;33m[Open3D WARNING] [SimpleShaderForLineSet] Something is wrong in compiling or binding.\u001b[0;m\n",
      "\u001b[1;33m[Open3D WARNING] [SimpleShaderForLineSet] Binding failed with empty geometry::LineSet.\u001b[0;m\n",
      "\u001b[1;33m[Open3D WARNING] [SimpleShaderForLineSet] Binding failed when preparing data.\u001b[0;m\n",
      "\u001b[1;33m[Open3D WARNING] [SimpleShaderForLineSet] Something is wrong in compiling or binding.\u001b[0;m\n",
      "\u001b[1;33m[Open3D WARNING] [SimpleShaderForLineSet] Binding failed with empty geometry::LineSet.\u001b[0;m\n",
      "\u001b[1;33m[Open3D WARNING] [SimpleShaderForLineSet] Binding failed when preparing data.\u001b[0;m\n",
      "\u001b[1;33m[Open3D WARNING] [SimpleShaderForLineSet] Something is wrong in compiling or binding.\u001b[0;m\n",
      "\u001b[1;33m[Open3D WARNING] [SimpleShaderForLineSet] Binding failed with empty geometry::LineSet.\u001b[0;m\n",
      "\u001b[1;33m[Open3D WARNING] [SimpleShaderForLineSet] Binding failed when preparing data.\u001b[0;m\n",
      "\u001b[1;33m[Open3D WARNING] [SimpleShaderForLineSet] Something is wrong in compiling or binding.\u001b[0;m\n",
      "\u001b[1;33m[Open3D WARNING] [SimpleShaderForLineSet] Binding failed with empty geometry::LineSet.\u001b[0;m\n",
      "\u001b[1;33m[Open3D WARNING] [SimpleShaderForLineSet] Binding failed when preparing data.\u001b[0;m\n",
      "\u001b[1;33m[Open3D WARNING] [SimpleShaderForLineSet] Something is wrong in compiling or binding.\u001b[0;m\n",
      "\u001b[1;33m[Open3D WARNING] [SimpleShaderForLineSet] Binding failed with empty geometry::LineSet.\u001b[0;m\n",
      "\u001b[1;33m[Open3D WARNING] [SimpleShaderForLineSet] Binding failed when preparing data.\u001b[0;m\n",
      "\u001b[1;33m[Open3D WARNING] [SimpleShaderForLineSet] Something is wrong in compiling or binding.\u001b[0;m\n",
      "\u001b[1;33m[Open3D WARNING] [SimpleShaderForLineSet] Binding failed with empty geometry::LineSet.\u001b[0;m\n",
      "\u001b[1;33m[Open3D WARNING] [SimpleShaderForLineSet] Binding failed when preparing data.\u001b[0;m\n",
      "\u001b[1;33m[Open3D WARNING] [SimpleShaderForLineSet] Something is wrong in compiling or binding.\u001b[0;m\n",
      "\u001b[1;33m[Open3D WARNING] [SimpleShaderForLineSet] Binding failed with empty geometry::LineSet.\u001b[0;m\n",
      "\u001b[1;33m[Open3D WARNING] [SimpleShaderForLineSet] Binding failed when preparing data.\u001b[0;m\n",
      "\u001b[1;33m[Open3D WARNING] [SimpleShaderForLineSet] Something is wrong in compiling or binding.\u001b[0;m\n",
      "\u001b[1;33m[Open3D WARNING] [SimpleShaderForLineSet] Binding failed with empty geometry::LineSet.\u001b[0;m\n",
      "\u001b[1;33m[Open3D WARNING] [SimpleShaderForLineSet] Binding failed when preparing data.\u001b[0;m\n",
      "\u001b[1;33m[Open3D WARNING] [SimpleShaderForLineSet] Something is wrong in compiling or binding.\u001b[0;m\n",
      "\u001b[1;33m[Open3D WARNING] [SimpleShaderForLineSet] Binding failed with empty geometry::LineSet.\u001b[0;m\n",
      "\u001b[1;33m[Open3D WARNING] [SimpleShaderForLineSet] Binding failed when preparing data.\u001b[0;m\n",
      "\u001b[1;33m[Open3D WARNING] [SimpleShaderForLineSet] Something is wrong in compiling or binding.\u001b[0;m\n",
      "\u001b[1;33m[Open3D WARNING] [SimpleShaderForLineSet] Binding failed with empty geometry::LineSet.\u001b[0;m\n",
      "\u001b[1;33m[Open3D WARNING] [SimpleShaderForLineSet] Binding failed when preparing data.\u001b[0;m\n",
      "\u001b[1;33m[Open3D WARNING] [SimpleShaderForLineSet] Something is wrong in compiling or binding.\u001b[0;m\n",
      "\u001b[1;33m[Open3D WARNING] [SimpleShaderForLineSet] Binding failed with empty geometry::LineSet.\u001b[0;m\n",
      "\u001b[1;33m[Open3D WARNING] [SimpleShaderForLineSet] Binding failed when preparing data.\u001b[0;m\n",
      "\u001b[1;33m[Open3D WARNING] [SimpleShaderForLineSet] Something is wrong in compiling or binding.\u001b[0;m\n",
      "\u001b[1;33m[Open3D WARNING] [SimpleShaderForLineSet] Binding failed with empty geometry::LineSet.\u001b[0;m\n",
      "\u001b[1;33m[Open3D WARNING] [SimpleShaderForLineSet] Binding failed when preparing data.\u001b[0;m\n",
      "\u001b[1;33m[Open3D WARNING] [SimpleShaderForLineSet] Something is wrong in compiling or binding.\u001b[0;m\n",
      "\u001b[1;33m[Open3D WARNING] [SimpleShaderForLineSet] Binding failed with empty geometry::LineSet.\u001b[0;m\n",
      "\u001b[1;33m[Open3D WARNING] [SimpleShaderForLineSet] Binding failed when preparing data.\u001b[0;m\n",
      "\u001b[1;33m[Open3D WARNING] [SimpleShaderForLineSet] Something is wrong in compiling or binding.\u001b[0;m\n",
      "\u001b[1;33m[Open3D WARNING] [SimpleShaderForLineSet] Binding failed with empty geometry::LineSet.\u001b[0;m\n",
      "\u001b[1;33m[Open3D WARNING] [SimpleShaderForLineSet] Binding failed when preparing data.\u001b[0;m\n",
      "\u001b[1;33m[Open3D WARNING] [SimpleShaderForLineSet] Something is wrong in compiling or binding.\u001b[0;m\n",
      "\u001b[1;33m[Open3D WARNING] [SimpleShaderForLineSet] Binding failed with empty geometry::LineSet.\u001b[0;m\n",
      "\u001b[1;33m[Open3D WARNING] [SimpleShaderForLineSet] Binding failed when preparing data.\u001b[0;m\n",
      "\u001b[1;33m[Open3D WARNING] [SimpleShaderForLineSet] Something is wrong in compiling or binding.\u001b[0;m\n",
      "\u001b[1;33m[Open3D WARNING] [SimpleShaderForLineSet] Binding failed with empty geometry::LineSet.\u001b[0;m\n",
      "\u001b[1;33m[Open3D WARNING] [SimpleShaderForLineSet] Binding failed when preparing data.\u001b[0;m\n",
      "\u001b[1;33m[Open3D WARNING] [SimpleShaderForLineSet] Something is wrong in compiling or binding.\u001b[0;m\n",
      "\u001b[1;33m[Open3D WARNING] [SimpleShaderForLineSet] Binding failed with empty geometry::LineSet.\u001b[0;m\n",
      "\u001b[1;33m[Open3D WARNING] [SimpleShaderForLineSet] Binding failed when preparing data.\u001b[0;m\n",
      "\u001b[1;33m[Open3D WARNING] [SimpleShaderForLineSet] Something is wrong in compiling or binding.\u001b[0;m\n",
      "\u001b[1;33m[Open3D WARNING] [SimpleShaderForLineSet] Binding failed with empty geometry::LineSet.\u001b[0;m\n",
      "\u001b[1;33m[Open3D WARNING] [SimpleShaderForLineSet] Binding failed when preparing data.\u001b[0;m\n",
      "\u001b[1;33m[Open3D WARNING] [SimpleShaderForLineSet] Something is wrong in compiling or binding.\u001b[0;m\n"
     ]
    },
    {
     "name": "stderr",
     "output_type": "stream",
     "text": [
      "\r",
      "  2%|▊                                          | 2/100 [00:00<00:37,  2.61it/s]"
     ]
    },
    {
     "name": "stdout",
     "output_type": "stream",
     "text": [
      "\u001b[1;33m[Open3D WARNING] Read PNG failed: unable to parse header.\u001b[0;m\n",
      "\u001b[1;33m[Open3D WARNING] Read PNG failed: unable to parse header.\u001b[0;m\n"
     ]
    },
    {
     "name": "stderr",
     "output_type": "stream",
     "text": [
      "\r",
      "  3%|█▎                                         | 3/100 [00:01<00:37,  2.61it/s]"
     ]
    },
    {
     "name": "stdout",
     "output_type": "stream",
     "text": [
      "\u001b[1;33m[Open3D WARNING] Read PNG failed: unable to parse header.\u001b[0;m\n",
      "\u001b[1;33m[Open3D WARNING] Read PNG failed: unable to parse header.\u001b[0;m\n"
     ]
    },
    {
     "name": "stderr",
     "output_type": "stream",
     "text": [
      "\r",
      "  4%|█▋                                         | 4/100 [00:01<00:36,  2.61it/s]"
     ]
    },
    {
     "name": "stdout",
     "output_type": "stream",
     "text": [
      "\u001b[1;33m[Open3D WARNING] Read PNG failed: unable to parse header.\u001b[0;m\n",
      "\u001b[1;33m[Open3D WARNING] Read PNG failed: unable to parse header.\u001b[0;m\n",
      "\u001b[1;33m[Open3D WARNING] Read PNG failed: unable to parse header.\u001b[0;m"
     ]
    },
    {
     "name": "stderr",
     "output_type": "stream",
     "text": [
      "\r",
      "  5%|██▏                                        | 5/100 [00:01<00:36,  2.60it/s]"
     ]
    },
    {
     "name": "stdout",
     "output_type": "stream",
     "text": [
      "\n",
      "\u001b[1;33m[Open3D WARNING] Read PNG failed: unable to parse header.\u001b[0;m\n"
     ]
    },
    {
     "name": "stderr",
     "output_type": "stream",
     "text": [
      "\r",
      "  6%|██▌                                        | 6/100 [00:02<00:34,  2.76it/s]"
     ]
    },
    {
     "name": "stdout",
     "output_type": "stream",
     "text": [
      "\u001b[1;33m[Open3D WARNING] Read PNG failed: unable to parse header.\u001b[0;m\n",
      "\u001b[1;33m[Open3D WARNING] Read PNG failed: unable to parse header.\u001b[0;m\n"
     ]
    },
    {
     "name": "stderr",
     "output_type": "stream",
     "text": [
      "\r",
      "  7%|███                                        | 7/100 [00:02<00:33,  2.78it/s]"
     ]
    },
    {
     "name": "stdout",
     "output_type": "stream",
     "text": [
      "\u001b[1;33m[Open3D WARNING] Read PNG failed: unable to parse header.\u001b[0;m\n",
      "\u001b[1;33m[Open3D WARNING] Read PNG failed: unable to parse header.\u001b[0;m\n"
     ]
    },
    {
     "name": "stderr",
     "output_type": "stream",
     "text": [
      "\r",
      "  8%|███▍                                       | 8/100 [00:02<00:34,  2.67it/s]"
     ]
    },
    {
     "name": "stdout",
     "output_type": "stream",
     "text": [
      "\u001b[1;33m[Open3D WARNING] Read PNG failed: unable to parse header.\u001b[0;m\n",
      "\u001b[1;33m[Open3D WARNING] Read PNG failed: unable to parse header.\u001b[0;m\n"
     ]
    },
    {
     "name": "stderr",
     "output_type": "stream",
     "text": [
      "\r",
      "  9%|███▊                                       | 9/100 [00:03<00:34,  2.64it/s]"
     ]
    },
    {
     "name": "stdout",
     "output_type": "stream",
     "text": [
      "\u001b[1;33m[Open3D WARNING] Read PNG failed: unable to parse header.\u001b[0;m\n",
      "\u001b[1;33m[Open3D WARNING] Read PNG failed: unable to parse header.\u001b[0;m\n"
     ]
    },
    {
     "name": "stderr",
     "output_type": "stream",
     "text": [
      "\r",
      " 10%|████▏                                     | 10/100 [00:03<00:33,  2.67it/s]"
     ]
    },
    {
     "name": "stdout",
     "output_type": "stream",
     "text": [
      "\u001b[1;33m[Open3D WARNING] Read PNG failed: unable to parse header.\u001b[0;m\n",
      "\u001b[1;33m[Open3D WARNING] Read PNG failed: unable to parse header.\u001b[0;m\n"
     ]
    },
    {
     "name": "stderr",
     "output_type": "stream",
     "text": [
      "\r",
      " 11%|████▌                                     | 11/100 [00:04<00:33,  2.68it/s]"
     ]
    },
    {
     "name": "stdout",
     "output_type": "stream",
     "text": [
      "\u001b[1;33m[Open3D WARNING] Read PNG failed: unable to parse header.\u001b[0;m\n",
      "\u001b[1;33m[Open3D WARNING] Read PNG failed: unable to parse header.\u001b[0;m\n"
     ]
    },
    {
     "name": "stderr",
     "output_type": "stream",
     "text": [
      "\r",
      " 12%|█████                                     | 12/100 [00:04<00:31,  2.78it/s]"
     ]
    },
    {
     "name": "stdout",
     "output_type": "stream",
     "text": [
      "\u001b[1;33m[Open3D WARNING] Read PNG failed: unable to parse header.\u001b[0;m\n",
      "\u001b[1;33m[Open3D WARNING] Read PNG failed: unable to parse header.\u001b[0;m\n",
      "\u001b[1;33m[Open3D WARNING] Read PNG failed: unable to parse header.\u001b[0;m\n",
      "\u001b[1;33m[Open3D WARNING] Read PNG failed: unable to parse header.\u001b[0;m\n"
     ]
    },
    {
     "name": "stderr",
     "output_type": "stream",
     "text": [
      " 14%|█████▉                                    | 14/100 [00:05<00:30,  2.87it/s]"
     ]
    },
    {
     "name": "stdout",
     "output_type": "stream",
     "text": [
      "\u001b[1;33m[Open3D WARNING] Read PNG failed: unable to parse header.\u001b[0;m\n",
      "\u001b[1;33m[Open3D WARNING] Read PNG failed: unable to parse header.\u001b[0;m\n"
     ]
    },
    {
     "name": "stderr",
     "output_type": "stream",
     "text": [
      "\r",
      " 15%|██████▎                                   | 15/100 [00:05<00:30,  2.79it/s]"
     ]
    },
    {
     "name": "stdout",
     "output_type": "stream",
     "text": [
      "\u001b[1;33m[Open3D WARNING] Read PNG failed: unable to parse header.\u001b[0;m\n",
      "\u001b[1;33m[Open3D WARNING] Read PNG failed: unable to parse header.\u001b[0;m\n"
     ]
    },
    {
     "name": "stderr",
     "output_type": "stream",
     "text": [
      "\r",
      " 16%|██████▋                                   | 16/100 [00:05<00:30,  2.76it/s]"
     ]
    },
    {
     "name": "stdout",
     "output_type": "stream",
     "text": [
      "\u001b[1;33m[Open3D WARNING] Read PNG failed: unable to parse header.\u001b[0;m\n",
      "\u001b[1;33m[Open3D WARNING] Read PNG failed: unable to parse header.\u001b[0;m\n"
     ]
    },
    {
     "name": "stderr",
     "output_type": "stream",
     "text": [
      "\r",
      " 17%|███████▏                                  | 17/100 [00:06<00:30,  2.68it/s]"
     ]
    },
    {
     "name": "stdout",
     "output_type": "stream",
     "text": [
      "\u001b[1;33m[Open3D WARNING] Read PNG failed: unable to parse header.\u001b[0;m\n",
      "\u001b[1;33m[Open3D WARNING] Read PNG failed: unable to parse header.\u001b[0;m\n"
     ]
    },
    {
     "name": "stderr",
     "output_type": "stream",
     "text": [
      "\r",
      " 18%|███████▌                                  | 18/100 [00:06<00:29,  2.74it/s]"
     ]
    },
    {
     "name": "stdout",
     "output_type": "stream",
     "text": [
      "\u001b[1;33m[Open3D WARNING] Read PNG failed: unable to parse header.\u001b[0;m\n",
      "\u001b[1;33m[Open3D WARNING] Read PNG failed: unable to parse header.\u001b[0;m\n"
     ]
    },
    {
     "name": "stderr",
     "output_type": "stream",
     "text": [
      "\r",
      " 19%|███████▉                                  | 19/100 [00:06<00:29,  2.73it/s]"
     ]
    },
    {
     "name": "stdout",
     "output_type": "stream",
     "text": [
      "\u001b[1;33m[Open3D WARNING] Read PNG failed: unable to parse header.\u001b[0;m\n",
      "\u001b[1;33m[Open3D WARNING] Read PNG failed: unable to parse header.\u001b[0;m\n"
     ]
    },
    {
     "name": "stderr",
     "output_type": "stream",
     "text": [
      "\r",
      " 20%|████████▍                                 | 20/100 [00:07<00:30,  2.59it/s]"
     ]
    },
    {
     "name": "stdout",
     "output_type": "stream",
     "text": [
      "\u001b[1;33m[Open3D WARNING] Read PNG failed: unable to parse header.\u001b[0;m\n",
      "\u001b[1;33m[Open3D WARNING] Read PNG failed: unable to parse header.\u001b[0;m\n"
     ]
    },
    {
     "name": "stderr",
     "output_type": "stream",
     "text": [
      "\r",
      " 21%|████████▊                                 | 21/100 [00:07<00:30,  2.60it/s]"
     ]
    },
    {
     "name": "stdout",
     "output_type": "stream",
     "text": [
      "\u001b[1;33m[Open3D WARNING] Read PNG failed: unable to parse header.\u001b[0;m\n",
      "\u001b[1;33m[Open3D WARNING] Read PNG failed: unable to parse header.\u001b[0;m\n"
     ]
    },
    {
     "name": "stderr",
     "output_type": "stream",
     "text": [
      "\r",
      " 22%|█████████▏                                | 22/100 [00:08<00:30,  2.58it/s]"
     ]
    },
    {
     "name": "stdout",
     "output_type": "stream",
     "text": [
      "\u001b[1;33m[Open3D WARNING] Read PNG failed: unable to parse header.\u001b[0;m\n",
      "\u001b[1;33m[Open3D WARNING] Read PNG failed: unable to parse header.\u001b[0;m\n",
      "\u001b[1;33m[Open3D WARNING] Read PNG failed: unable to parse header.\u001b[0;m\n",
      "\u001b[1;33m[Open3D WARNING] Read PNG failed: unable to parse header.\u001b[0;m\n"
     ]
    },
    {
     "name": "stderr",
     "output_type": "stream",
     "text": [
      " 24%|██████████                                | 24/100 [00:08<00:28,  2.68it/s]"
     ]
    },
    {
     "name": "stdout",
     "output_type": "stream",
     "text": [
      "\u001b[1;33m[Open3D WARNING] Read PNG failed: unable to parse header.\u001b[0;m\n",
      "\u001b[1;33m[Open3D WARNING] Read PNG failed: unable to parse header.\u001b[0;m\n"
     ]
    },
    {
     "name": "stderr",
     "output_type": "stream",
     "text": [
      "\r",
      " 25%|██████████▌                               | 25/100 [00:09<00:27,  2.69it/s]"
     ]
    },
    {
     "name": "stdout",
     "output_type": "stream",
     "text": [
      "\u001b[1;33m[Open3D WARNING] Read PNG failed: unable to parse header.\u001b[0;m\n",
      "\u001b[1;33m[Open3D WARNING] Read PNG failed: unable to parse header.\u001b[0;m\n"
     ]
    },
    {
     "name": "stderr",
     "output_type": "stream",
     "text": [
      "\r",
      " 26%|██████████▉                               | 26/100 [00:09<00:26,  2.82it/s]"
     ]
    },
    {
     "name": "stdout",
     "output_type": "stream",
     "text": [
      "\u001b[1;33m[Open3D WARNING] Read PNG failed: unable to parse header.\u001b[0;m\n",
      "\u001b[1;33m[Open3D WARNING] Read PNG failed: unable to parse header.\u001b[0;m\n"
     ]
    },
    {
     "name": "stderr",
     "output_type": "stream",
     "text": [
      "\r",
      " 27%|███████████▎                              | 27/100 [00:09<00:26,  2.79it/s]"
     ]
    },
    {
     "name": "stdout",
     "output_type": "stream",
     "text": [
      "\u001b[1;33m[Open3D WARNING] Read PNG failed: unable to parse header.\u001b[0;m\n",
      "\u001b[1;33m[Open3D WARNING] Read PNG failed: unable to parse header.\u001b[0;m\n"
     ]
    },
    {
     "name": "stderr",
     "output_type": "stream",
     "text": [
      "\r",
      " 28%|███████████▊                              | 28/100 [00:10<00:25,  2.79it/s]"
     ]
    },
    {
     "name": "stdout",
     "output_type": "stream",
     "text": [
      "\u001b[1;33m[Open3D WARNING] Read PNG failed: unable to parse header.\u001b[0;m\n",
      "\u001b[1;33m[Open3D WARNING] Read PNG failed: unable to parse header.\u001b[0;m\n"
     ]
    },
    {
     "name": "stderr",
     "output_type": "stream",
     "text": [
      "\r",
      " 29%|████████████▏                             | 29/100 [00:10<00:24,  2.91it/s]"
     ]
    },
    {
     "name": "stdout",
     "output_type": "stream",
     "text": [
      "\u001b[1;33m[Open3D WARNING] Read PNG failed: unable to parse header.\u001b[0;m\n",
      "\u001b[1;33m[Open3D WARNING] Read PNG failed: unable to parse header.\u001b[0;m\n"
     ]
    },
    {
     "name": "stderr",
     "output_type": "stream",
     "text": [
      "\r",
      " 30%|████████████▌                             | 30/100 [00:11<00:25,  2.74it/s]"
     ]
    },
    {
     "name": "stdout",
     "output_type": "stream",
     "text": [
      "\u001b[1;33m[Open3D WARNING] Read PNG failed: unable to parse header.\u001b[0;m\n",
      "\u001b[1;33m[Open3D WARNING] Read PNG failed: unable to parse header.\u001b[0;m\n"
     ]
    },
    {
     "name": "stderr",
     "output_type": "stream",
     "text": [
      "\r",
      " 31%|█████████████                             | 31/100 [00:11<00:25,  2.69it/s]"
     ]
    },
    {
     "name": "stdout",
     "output_type": "stream",
     "text": [
      "\u001b[1;33m[Open3D WARNING] Read PNG failed: unable to parse header.\u001b[0;m\n",
      "\u001b[1;33m[Open3D WARNING] Read PNG failed: unable to parse header.\u001b[0;m\n"
     ]
    },
    {
     "name": "stderr",
     "output_type": "stream",
     "text": [
      "\r",
      " 32%|█████████████▍                            | 32/100 [00:11<00:25,  2.70it/s]"
     ]
    },
    {
     "name": "stdout",
     "output_type": "stream",
     "text": [
      "\u001b[1;33m[Open3D WARNING] Read PNG failed: unable to parse header.\u001b[0;m\n",
      "\u001b[1;33m[Open3D WARNING] Read PNG failed: unable to parse header.\u001b[0;m\n"
     ]
    },
    {
     "name": "stderr",
     "output_type": "stream",
     "text": [
      "\r",
      " 33%|█████████████▊                            | 33/100 [00:12<00:25,  2.67it/s]"
     ]
    },
    {
     "name": "stdout",
     "output_type": "stream",
     "text": [
      "\u001b[1;33m[Open3D WARNING] Read PNG failed: unable to parse header.\u001b[0;m\n",
      "\u001b[1;33m[Open3D WARNING] Read PNG failed: unable to parse header.\u001b[0;m\n"
     ]
    },
    {
     "name": "stderr",
     "output_type": "stream",
     "text": [
      "\r",
      " 34%|██████████████▎                           | 34/100 [00:12<00:24,  2.66it/s]"
     ]
    },
    {
     "name": "stdout",
     "output_type": "stream",
     "text": [
      "\u001b[1;33m[Open3D WARNING] Read PNG failed: unable to parse header.\u001b[0;m\n",
      "\u001b[1;33m[Open3D WARNING] Read PNG failed: unable to parse header.\u001b[0;m\n"
     ]
    },
    {
     "name": "stderr",
     "output_type": "stream",
     "text": [
      "\r",
      " 35%|██████████████▋                           | 35/100 [00:12<00:24,  2.61it/s]"
     ]
    },
    {
     "name": "stdout",
     "output_type": "stream",
     "text": [
      "\u001b[1;33m[Open3D WARNING] Read PNG failed: unable to parse header.\u001b[0;m\n",
      "\u001b[1;33m[Open3D WARNING] Read PNG failed: unable to parse header.\u001b[0;m\n"
     ]
    },
    {
     "name": "stderr",
     "output_type": "stream",
     "text": [
      "\r",
      " 36%|███████████████                           | 36/100 [00:13<00:24,  2.63it/s]"
     ]
    },
    {
     "name": "stdout",
     "output_type": "stream",
     "text": [
      "\u001b[1;33m[Open3D WARNING] Read PNG failed: unable to parse header.\u001b[0;m\n",
      "\u001b[1;33m[Open3D WARNING] Read PNG failed: unable to parse header.\u001b[0;m\n",
      "\u001b[1;33m[Open3D WARNING] Read PNG failed: unable to parse header.\u001b[0;m\n",
      "\u001b[1;33m[Open3D WARNING] Read PNG failed: unable to parse header.\u001b[0;m\n"
     ]
    },
    {
     "name": "stderr",
     "output_type": "stream",
     "text": [
      " 38%|███████████████▉                          | 38/100 [00:13<00:22,  2.79it/s]"
     ]
    },
    {
     "name": "stdout",
     "output_type": "stream",
     "text": [
      "\u001b[1;33m[Open3D WARNING] Read PNG failed: unable to parse header.\u001b[0;m\n",
      "\u001b[1;33m[Open3D WARNING] Read PNG failed: unable to parse header.\u001b[0;m\n",
      "\u001b[1;33m[Open3D WARNING] Read PNG failed: unable to parse header.\u001b[0;m\n",
      "\u001b[1;33m[Open3D WARNING] Read PNG failed: unable to parse header.\u001b[0;m\n"
     ]
    },
    {
     "name": "stderr",
     "output_type": "stream",
     "text": [
      " 40%|████████████████▊                         | 40/100 [00:14<00:22,  2.69it/s]"
     ]
    },
    {
     "name": "stdout",
     "output_type": "stream",
     "text": [
      "\u001b[1;33m[Open3D WARNING] Read PNG failed: unable to parse header.\u001b[0;m\n",
      "\u001b[1;33m[Open3D WARNING] Read PNG failed: unable to parse header.\u001b[0;m\n",
      "\u001b[1;33m[Open3D WARNING] Read PNG failed: unable to parse header.\u001b[0;m\n",
      "\u001b[1;33m[Open3D WARNING] Read PNG failed: unable to parse header.\u001b[0;m\n"
     ]
    },
    {
     "name": "stderr",
     "output_type": "stream",
     "text": [
      " 42%|█████████████████▋                        | 42/100 [00:15<00:22,  2.63it/s]"
     ]
    },
    {
     "name": "stdout",
     "output_type": "stream",
     "text": [
      "\u001b[1;33m[Open3D WARNING] Read PNG failed: unable to parse header.\u001b[0;m\n",
      "\u001b[1;33m[Open3D WARNING] Read PNG failed: unable to parse header.\u001b[0;m\n"
     ]
    },
    {
     "name": "stderr",
     "output_type": "stream",
     "text": [
      "\r",
      " 43%|██████████████████                        | 43/100 [00:15<00:22,  2.58it/s]"
     ]
    },
    {
     "name": "stdout",
     "output_type": "stream",
     "text": [
      "\u001b[1;33m[Open3D WARNING] Read PNG failed: unable to parse header.\u001b[0;m\n",
      "\u001b[1;33m[Open3D WARNING] Read PNG failed: unable to parse header.\u001b[0;m\n"
     ]
    },
    {
     "name": "stderr",
     "output_type": "stream",
     "text": [
      "\r",
      " 44%|██████████████████▍                       | 44/100 [00:16<00:21,  2.57it/s]"
     ]
    },
    {
     "name": "stdout",
     "output_type": "stream",
     "text": [
      "\u001b[1;33m[Open3D WARNING] Read PNG failed: unable to parse header.\u001b[0;m\n",
      "\u001b[1;33m[Open3D WARNING] Read PNG failed: unable to parse header.\u001b[0;m\n"
     ]
    },
    {
     "name": "stderr",
     "output_type": "stream",
     "text": [
      "\r",
      " 45%|██████████████████▉                       | 45/100 [00:16<00:21,  2.59it/s]"
     ]
    },
    {
     "name": "stdout",
     "output_type": "stream",
     "text": [
      "\u001b[1;33m[Open3D WARNING] Read PNG failed: unable to parse header.\u001b[0;m\n",
      "\u001b[1;33m[Open3D WARNING] Read PNG failed: unable to parse header.\u001b[0;m\n"
     ]
    },
    {
     "name": "stderr",
     "output_type": "stream",
     "text": [
      "\r",
      " 46%|███████████████████▎                      | 46/100 [00:17<00:19,  2.71it/s]"
     ]
    },
    {
     "name": "stdout",
     "output_type": "stream",
     "text": [
      "\u001b[1;33m[Open3D WARNING] Read PNG failed: unable to parse header.\u001b[0;m\n",
      "\u001b[1;33m[Open3D WARNING] Read PNG failed: unable to parse header.\u001b[0;m\n"
     ]
    },
    {
     "name": "stderr",
     "output_type": "stream",
     "text": [
      "\r",
      " 47%|███████████████████▋                      | 47/100 [00:17<00:19,  2.67it/s]"
     ]
    },
    {
     "name": "stdout",
     "output_type": "stream",
     "text": [
      "\u001b[1;33m[Open3D WARNING] Read PNG failed: unable to parse header.\u001b[0;m\n",
      "\u001b[1;33m[Open3D WARNING] Read PNG failed: unable to parse header.\u001b[0;m\n"
     ]
    },
    {
     "name": "stderr",
     "output_type": "stream",
     "text": [
      "\r",
      " 48%|████████████████████▏                     | 48/100 [00:17<00:18,  2.80it/s]"
     ]
    },
    {
     "name": "stdout",
     "output_type": "stream",
     "text": [
      "\u001b[1;33m[Open3D WARNING] Read PNG failed: unable to parse header.\u001b[0;m\n",
      "\u001b[1;33m[Open3D WARNING] Read PNG failed: unable to parse header.\u001b[0;m\n"
     ]
    },
    {
     "name": "stderr",
     "output_type": "stream",
     "text": [
      "\r",
      " 49%|████████████████████▌                     | 49/100 [00:18<00:18,  2.83it/s]"
     ]
    },
    {
     "name": "stdout",
     "output_type": "stream",
     "text": [
      "\u001b[1;33m[Open3D WARNING] Read PNG failed: unable to parse header.\u001b[0;m\n",
      "\u001b[1;33m[Open3D WARNING] Read PNG failed: unable to parse header.\u001b[0;m\n"
     ]
    },
    {
     "name": "stderr",
     "output_type": "stream",
     "text": [
      "\r",
      " 50%|█████████████████████                     | 50/100 [00:18<00:18,  2.70it/s]"
     ]
    },
    {
     "name": "stdout",
     "output_type": "stream",
     "text": [
      "\u001b[1;33m[Open3D WARNING] Read PNG failed: unable to parse header.\u001b[0;m\n",
      "\u001b[1;33m[Open3D WARNING] Read PNG failed: unable to parse header.\u001b[0;m\n"
     ]
    },
    {
     "name": "stderr",
     "output_type": "stream",
     "text": [
      "\r",
      " 51%|█████████████████████▍                    | 51/100 [00:18<00:18,  2.68it/s]"
     ]
    },
    {
     "name": "stdout",
     "output_type": "stream",
     "text": [
      "\u001b[1;33m[Open3D WARNING] Read PNG failed: unable to parse header.\u001b[0;m\n",
      "\u001b[1;33m[Open3D WARNING] Read PNG failed: unable to parse header.\u001b[0;m\n"
     ]
    },
    {
     "name": "stderr",
     "output_type": "stream",
     "text": [
      "\r",
      " 52%|█████████████████████▊                    | 52/100 [00:19<00:17,  2.79it/s]"
     ]
    },
    {
     "name": "stdout",
     "output_type": "stream",
     "text": [
      "\u001b[1;33m[Open3D WARNING] Read PNG failed: unable to parse header.\u001b[0;m\n",
      "\u001b[1;33m[Open3D WARNING] Read PNG failed: unable to parse header.\u001b[0;m\n"
     ]
    },
    {
     "name": "stderr",
     "output_type": "stream",
     "text": [
      "\r",
      " 53%|██████████████████████▎                   | 53/100 [00:19<00:16,  2.80it/s]"
     ]
    },
    {
     "name": "stdout",
     "output_type": "stream",
     "text": [
      "\u001b[1;33m[Open3D WARNING] Read PNG failed: unable to parse header.\u001b[0;m\n",
      "\u001b[1;33m[Open3D WARNING] Read PNG failed: unable to parse header.\u001b[0;m\n"
     ]
    },
    {
     "name": "stderr",
     "output_type": "stream",
     "text": [
      "\r",
      " 54%|██████████████████████▋                   | 54/100 [00:19<00:17,  2.70it/s]"
     ]
    },
    {
     "name": "stdout",
     "output_type": "stream",
     "text": [
      "\u001b[1;33m[Open3D WARNING] Read PNG failed: unable to parse header.\u001b[0;m\n",
      "\u001b[1;33m[Open3D WARNING] Read PNG failed: unable to parse header.\u001b[0;m\n"
     ]
    },
    {
     "name": "stderr",
     "output_type": "stream",
     "text": [
      "\r",
      " 55%|███████████████████████                   | 55/100 [00:20<00:16,  2.65it/s]"
     ]
    },
    {
     "name": "stdout",
     "output_type": "stream",
     "text": [
      "\u001b[1;33m[Open3D WARNING] Read PNG failed: unable to parse header.\u001b[0;m\n",
      "\u001b[1;33m[Open3D WARNING] Read PNG failed: unable to parse header.\u001b[0;m\n"
     ]
    },
    {
     "name": "stderr",
     "output_type": "stream",
     "text": [
      "\r",
      " 56%|███████████████████████▌                  | 56/100 [00:20<00:15,  2.76it/s]"
     ]
    },
    {
     "name": "stdout",
     "output_type": "stream",
     "text": [
      "\u001b[1;33m[Open3D WARNING] Read PNG failed: unable to parse header.\u001b[0;m\n",
      "\u001b[1;33m[Open3D WARNING] Read PNG failed: unable to parse header.\u001b[0;m\n"
     ]
    },
    {
     "name": "stderr",
     "output_type": "stream",
     "text": [
      "\r",
      " 57%|███████████████████████▉                  | 57/100 [00:21<00:15,  2.82it/s]"
     ]
    },
    {
     "name": "stdout",
     "output_type": "stream",
     "text": [
      "\u001b[1;33m[Open3D WARNING] Read PNG failed: unable to parse header.\u001b[0;m\n",
      "\u001b[1;33m[Open3D WARNING] Read PNG failed: unable to parse header.\u001b[0;m\n"
     ]
    },
    {
     "name": "stderr",
     "output_type": "stream",
     "text": [
      "\r",
      " 58%|████████████████████████▎                 | 58/100 [00:21<00:14,  2.99it/s]"
     ]
    },
    {
     "name": "stdout",
     "output_type": "stream",
     "text": [
      "\u001b[1;33m[Open3D WARNING] Read PNG failed: unable to parse header.\u001b[0;m\n",
      "\u001b[1;33m[Open3D WARNING] Read PNG failed: unable to parse header.\u001b[0;m\n"
     ]
    },
    {
     "name": "stderr",
     "output_type": "stream",
     "text": [
      "\r",
      " 59%|████████████████████████▊                 | 59/100 [00:21<00:13,  3.06it/s]"
     ]
    },
    {
     "name": "stdout",
     "output_type": "stream",
     "text": [
      "\u001b[1;33m[Open3D WARNING] Read PNG failed: unable to parse header.\u001b[0;m\n",
      "\u001b[1;33m[Open3D WARNING] Read PNG failed: unable to parse header.\u001b[0;m\n"
     ]
    },
    {
     "name": "stderr",
     "output_type": "stream",
     "text": [
      "\r",
      " 60%|█████████████████████████▏                | 60/100 [00:21<00:12,  3.11it/s]"
     ]
    },
    {
     "name": "stdout",
     "output_type": "stream",
     "text": [
      "\u001b[1;33m[Open3D WARNING] Read PNG failed: unable to parse header.\u001b[0;m\n",
      "\u001b[1;33m[Open3D WARNING] Read PNG failed: unable to parse header.\u001b[0;m\n"
     ]
    },
    {
     "name": "stderr",
     "output_type": "stream",
     "text": [
      "\r",
      " 61%|█████████████████████████▌                | 61/100 [00:22<00:13,  2.98it/s]"
     ]
    },
    {
     "name": "stdout",
     "output_type": "stream",
     "text": [
      "\u001b[1;33m[Open3D WARNING] Read PNG failed: unable to parse header.\u001b[0;m\n",
      "\u001b[1;33m[Open3D WARNING] Read PNG failed: unable to parse header.\u001b[0;m\n"
     ]
    },
    {
     "name": "stderr",
     "output_type": "stream",
     "text": [
      "\r",
      " 62%|██████████████████████████                | 62/100 [00:22<00:13,  2.86it/s]"
     ]
    },
    {
     "name": "stdout",
     "output_type": "stream",
     "text": [
      "\u001b[1;33m[Open3D WARNING] Read PNG failed: unable to parse header.\u001b[0;m\n",
      "\u001b[1;33m[Open3D WARNING] Read PNG failed: unable to parse header.\u001b[0;m\n"
     ]
    },
    {
     "name": "stderr",
     "output_type": "stream",
     "text": [
      "\r",
      " 63%|██████████████████████████▍               | 63/100 [00:23<00:13,  2.81it/s]"
     ]
    },
    {
     "name": "stdout",
     "output_type": "stream",
     "text": [
      "\u001b[1;33m[Open3D WARNING] Read PNG failed: unable to parse header.\u001b[0;m\n",
      "\u001b[1;33m[Open3D WARNING] Read PNG failed: unable to parse header.\u001b[0;m\n"
     ]
    },
    {
     "name": "stderr",
     "output_type": "stream",
     "text": [
      "\r",
      " 64%|██████████████████████████▉               | 64/100 [00:23<00:13,  2.73it/s]"
     ]
    },
    {
     "name": "stdout",
     "output_type": "stream",
     "text": [
      "\u001b[1;33m[Open3D WARNING] Read PNG failed: unable to parse header.\u001b[0;m\n",
      "\u001b[1;33m[Open3D WARNING] Read PNG failed: unable to parse header.\u001b[0;m\n"
     ]
    },
    {
     "name": "stderr",
     "output_type": "stream",
     "text": [
      "\r",
      " 65%|███████████████████████████▎              | 65/100 [00:23<00:12,  2.78it/s]"
     ]
    },
    {
     "name": "stdout",
     "output_type": "stream",
     "text": [
      "\u001b[1;33m[Open3D WARNING] Read PNG failed: unable to parse header.\u001b[0;m\n",
      "\u001b[1;33m[Open3D WARNING] Read PNG failed: unable to parse header.\u001b[0;m\n"
     ]
    },
    {
     "name": "stderr",
     "output_type": "stream",
     "text": [
      "\r",
      " 66%|███████████████████████████▋              | 66/100 [00:24<00:12,  2.72it/s]"
     ]
    },
    {
     "name": "stdout",
     "output_type": "stream",
     "text": [
      "\u001b[1;33m[Open3D WARNING] Read PNG failed: unable to parse header.\u001b[0;m\n",
      "\u001b[1;33m[Open3D WARNING] Read PNG failed: unable to parse header.\u001b[0;m\n"
     ]
    },
    {
     "name": "stderr",
     "output_type": "stream",
     "text": [
      "\r",
      " 67%|████████████████████████████▏             | 67/100 [00:24<00:12,  2.75it/s]"
     ]
    },
    {
     "name": "stdout",
     "output_type": "stream",
     "text": [
      "\u001b[1;33m[Open3D WARNING] Read PNG failed: unable to parse header.\u001b[0;m\n",
      "\u001b[1;33m[Open3D WARNING] Read PNG failed: unable to parse header.\u001b[0;m\n"
     ]
    },
    {
     "name": "stderr",
     "output_type": "stream",
     "text": [
      "\r",
      " 68%|████████████████████████████▌             | 68/100 [00:24<00:11,  2.83it/s]"
     ]
    },
    {
     "name": "stdout",
     "output_type": "stream",
     "text": [
      "\u001b[1;33m[Open3D WARNING] Read PNG failed: unable to parse header.\u001b[0;m\n",
      "\u001b[1;33m[Open3D WARNING] Read PNG failed: unable to parse header.\u001b[0;m\n"
     ]
    },
    {
     "name": "stderr",
     "output_type": "stream",
     "text": [
      "\r",
      " 69%|████████████████████████████▉             | 69/100 [00:25<00:11,  2.81it/s]"
     ]
    },
    {
     "name": "stdout",
     "output_type": "stream",
     "text": [
      "\u001b[1;33m[Open3D WARNING] Read PNG failed: unable to parse header.\u001b[0;m\n",
      "\u001b[1;33m[Open3D WARNING] Read PNG failed: unable to parse header.\u001b[0;m\n"
     ]
    },
    {
     "name": "stderr",
     "output_type": "stream",
     "text": [
      "\r",
      " 70%|█████████████████████████████▍            | 70/100 [00:25<00:11,  2.71it/s]"
     ]
    },
    {
     "name": "stdout",
     "output_type": "stream",
     "text": [
      "\u001b[1;33m[Open3D WARNING] Read PNG failed: unable to parse header.\u001b[0;m\n",
      "\u001b[1;33m[Open3D WARNING] Read PNG failed: unable to parse header.\u001b[0;m\n"
     ]
    },
    {
     "name": "stderr",
     "output_type": "stream",
     "text": [
      "\r",
      " 71%|█████████████████████████████▊            | 71/100 [00:25<00:10,  2.68it/s]"
     ]
    },
    {
     "name": "stdout",
     "output_type": "stream",
     "text": [
      "\u001b[1;33m[Open3D WARNING] Read PNG failed: unable to parse header.\u001b[0;m\n",
      "\u001b[1;33m[Open3D WARNING] Read PNG failed: unable to parse header.\u001b[0;m\n"
     ]
    },
    {
     "name": "stderr",
     "output_type": "stream",
     "text": [
      "\r",
      " 72%|██████████████████████████████▏           | 72/100 [00:26<00:10,  2.62it/s]"
     ]
    },
    {
     "name": "stdout",
     "output_type": "stream",
     "text": [
      "\u001b[1;33m[Open3D WARNING] Read PNG failed: unable to parse header.\u001b[0;m\n",
      "\u001b[1;33m[Open3D WARNING] Read PNG failed: unable to parse header.\u001b[0;m\n"
     ]
    },
    {
     "name": "stderr",
     "output_type": "stream",
     "text": [
      "\r",
      " 73%|██████████████████████████████▋           | 73/100 [00:26<00:09,  2.75it/s]"
     ]
    },
    {
     "name": "stdout",
     "output_type": "stream",
     "text": [
      "\u001b[1;33m[Open3D WARNING] Read PNG failed: unable to parse header.\u001b[0;m\n",
      "\u001b[1;33m[Open3D WARNING] Read PNG failed: unable to parse header.\u001b[0;m\n"
     ]
    },
    {
     "name": "stderr",
     "output_type": "stream",
     "text": [
      "\r",
      " 74%|███████████████████████████████           | 74/100 [00:27<00:09,  2.71it/s]"
     ]
    },
    {
     "name": "stdout",
     "output_type": "stream",
     "text": [
      "\u001b[1;33m[Open3D WARNING] Read PNG failed: unable to parse header.\u001b[0;m\n",
      "\u001b[1;33m[Open3D WARNING] Read PNG failed: unable to parse header.\u001b[0;m\n"
     ]
    },
    {
     "name": "stderr",
     "output_type": "stream",
     "text": [
      "\r",
      " 75%|███████████████████████████████▌          | 75/100 [00:27<00:09,  2.70it/s]"
     ]
    },
    {
     "name": "stdout",
     "output_type": "stream",
     "text": [
      "\u001b[1;33m[Open3D WARNING] Read PNG failed: unable to parse header.\u001b[0;m\n",
      "\u001b[1;33m[Open3D WARNING] Read PNG failed: unable to parse header.\u001b[0;m\n"
     ]
    },
    {
     "name": "stderr",
     "output_type": "stream",
     "text": [
      "\r",
      " 76%|███████████████████████████████▉          | 76/100 [00:27<00:08,  2.70it/s]"
     ]
    },
    {
     "name": "stdout",
     "output_type": "stream",
     "text": [
      "\u001b[1;33m[Open3D WARNING] Read PNG failed: unable to parse header.\u001b[0;m\n",
      "\u001b[1;33m[Open3D WARNING] Read PNG failed: unable to parse header.\u001b[0;m\n"
     ]
    },
    {
     "name": "stderr",
     "output_type": "stream",
     "text": [
      "\r",
      " 77%|████████████████████████████████▎         | 77/100 [00:28<00:08,  2.70it/s]"
     ]
    },
    {
     "name": "stdout",
     "output_type": "stream",
     "text": [
      "\u001b[1;33m[Open3D WARNING] Read PNG failed: unable to parse header.\u001b[0;m\n",
      "\u001b[1;33m[Open3D WARNING] Read PNG failed: unable to parse header.\u001b[0;m\n"
     ]
    },
    {
     "name": "stderr",
     "output_type": "stream",
     "text": [
      "\r",
      " 78%|████████████████████████████████▊         | 78/100 [00:28<00:07,  2.80it/s]"
     ]
    },
    {
     "name": "stdout",
     "output_type": "stream",
     "text": [
      "\u001b[1;33m[Open3D WARNING] Read PNG failed: unable to parse header.\u001b[0;m\n",
      "\u001b[1;33m[Open3D WARNING] Read PNG failed: unable to parse header.\u001b[0;m\n"
     ]
    },
    {
     "name": "stderr",
     "output_type": "stream",
     "text": [
      "\r",
      " 79%|█████████████████████████████████▏        | 79/100 [00:28<00:07,  2.73it/s]"
     ]
    },
    {
     "name": "stdout",
     "output_type": "stream",
     "text": [
      "\u001b[1;33m[Open3D WARNING] Read PNG failed: unable to parse header.\u001b[0;m\n",
      "\u001b[1;33m[Open3D WARNING] Read PNG failed: unable to parse header.\u001b[0;m\n"
     ]
    },
    {
     "name": "stderr",
     "output_type": "stream",
     "text": [
      "\r",
      " 80%|█████████████████████████████████▌        | 80/100 [00:29<00:07,  2.66it/s]"
     ]
    },
    {
     "name": "stdout",
     "output_type": "stream",
     "text": [
      "\u001b[1;33m[Open3D WARNING] Read PNG failed: unable to parse header.\u001b[0;m\n",
      "\u001b[1;33m[Open3D WARNING] Read PNG failed: unable to parse header.\u001b[0;m\n"
     ]
    },
    {
     "name": "stderr",
     "output_type": "stream",
     "text": [
      "\r",
      " 81%|██████████████████████████████████        | 81/100 [00:29<00:07,  2.64it/s]"
     ]
    },
    {
     "name": "stdout",
     "output_type": "stream",
     "text": [
      "\u001b[1;33m[Open3D WARNING] Read PNG failed: unable to parse header.\u001b[0;m\n",
      "\u001b[1;33m[Open3D WARNING] Read PNG failed: unable to parse header.\u001b[0;m\n"
     ]
    },
    {
     "name": "stderr",
     "output_type": "stream",
     "text": [
      "\r",
      " 82%|██████████████████████████████████▍       | 82/100 [00:30<00:06,  2.66it/s]"
     ]
    },
    {
     "name": "stdout",
     "output_type": "stream",
     "text": [
      "\u001b[1;33m[Open3D WARNING] Read PNG failed: unable to parse header.\u001b[0;m\n",
      "\u001b[1;33m[Open3D WARNING] Read PNG failed: unable to parse header.\u001b[0;m\n"
     ]
    },
    {
     "name": "stderr",
     "output_type": "stream",
     "text": [
      "\r",
      " 83%|██████████████████████████████████▊       | 83/100 [00:30<00:06,  2.65it/s]"
     ]
    },
    {
     "name": "stdout",
     "output_type": "stream",
     "text": [
      "\u001b[1;33m[Open3D WARNING] Read PNG failed: unable to parse header.\u001b[0;m\n",
      "\u001b[1;33m[Open3D WARNING] Read PNG failed: unable to parse header.\u001b[0;m\n"
     ]
    },
    {
     "name": "stderr",
     "output_type": "stream",
     "text": [
      "\r",
      " 84%|███████████████████████████████████▎      | 84/100 [00:30<00:06,  2.58it/s]"
     ]
    },
    {
     "name": "stdout",
     "output_type": "stream",
     "text": [
      "\u001b[1;33m[Open3D WARNING] Read PNG failed: unable to parse header.\u001b[0;m\n",
      "\u001b[1;33m[Open3D WARNING] Read PNG failed: unable to parse header.\u001b[0;m\n"
     ]
    },
    {
     "name": "stderr",
     "output_type": "stream",
     "text": [
      "\r",
      " 85%|███████████████████████████████████▋      | 85/100 [00:31<00:05,  2.60it/s]"
     ]
    },
    {
     "name": "stdout",
     "output_type": "stream",
     "text": [
      "\u001b[1;33m[Open3D WARNING] Read PNG failed: unable to parse header.\u001b[0;m\n",
      "\u001b[1;33m[Open3D WARNING] Read PNG failed: unable to parse header.\u001b[0;m\n"
     ]
    },
    {
     "name": "stderr",
     "output_type": "stream",
     "text": [
      "\r",
      " 86%|████████████████████████████████████      | 86/100 [00:31<00:05,  2.55it/s]"
     ]
    },
    {
     "name": "stdout",
     "output_type": "stream",
     "text": [
      "\u001b[1;33m[Open3D WARNING] Read PNG failed: unable to parse header.\u001b[0;m\n",
      "\u001b[1;33m[Open3D WARNING] Read PNG failed: unable to parse header.\u001b[0;m\n"
     ]
    },
    {
     "name": "stderr",
     "output_type": "stream",
     "text": [
      "\r",
      " 87%|████████████████████████████████████▌     | 87/100 [00:32<00:05,  2.59it/s]"
     ]
    },
    {
     "name": "stdout",
     "output_type": "stream",
     "text": [
      "\u001b[1;33m[Open3D WARNING] Read PNG failed: unable to parse header.\u001b[0;m\n",
      "\u001b[1;33m[Open3D WARNING] Read PNG failed: unable to parse header.\u001b[0;m\n",
      "\u001b[1;33m[Open3D WARNING] Read PNG failed: unable to parse header.\u001b[0;m\n",
      "\u001b[1;33m[Open3D WARNING] Read PNG failed: unable to parse header.\u001b[0;m\n"
     ]
    },
    {
     "name": "stderr",
     "output_type": "stream",
     "text": [
      " 89%|█████████████████████████████████████▍    | 89/100 [00:32<00:04,  2.69it/s]"
     ]
    },
    {
     "name": "stdout",
     "output_type": "stream",
     "text": [
      "\u001b[1;33m[Open3D WARNING] Read PNG failed: unable to parse header.\u001b[0;m\n",
      "\u001b[1;33m[Open3D WARNING] Read PNG failed: unable to parse header.\u001b[0;m\n"
     ]
    },
    {
     "name": "stderr",
     "output_type": "stream",
     "text": [
      "\r",
      " 90%|█████████████████████████████████████▊    | 90/100 [00:33<00:03,  2.63it/s]"
     ]
    },
    {
     "name": "stdout",
     "output_type": "stream",
     "text": [
      "\u001b[1;33m[Open3D WARNING] Read PNG failed: unable to parse header.\u001b[0;m\n",
      "\u001b[1;33m[Open3D WARNING] Read PNG failed: unable to parse header.\u001b[0;m\n"
     ]
    },
    {
     "name": "stderr",
     "output_type": "stream",
     "text": [
      "\r",
      " 91%|██████████████████████████████████████▏   | 91/100 [00:33<00:03,  2.61it/s]"
     ]
    },
    {
     "name": "stdout",
     "output_type": "stream",
     "text": [
      "\u001b[1;33m[Open3D WARNING] Read PNG failed: unable to parse header.\u001b[0;m\n",
      "\u001b[1;33m[Open3D WARNING] Read PNG failed: unable to parse header.\u001b[0;m\n"
     ]
    },
    {
     "name": "stderr",
     "output_type": "stream",
     "text": [
      "\r",
      " 92%|██████████████████████████████████████▋   | 92/100 [00:33<00:02,  2.70it/s]"
     ]
    },
    {
     "name": "stdout",
     "output_type": "stream",
     "text": [
      "\u001b[1;33m[Open3D WARNING] Read PNG failed: unable to parse header.\u001b[0;m\n",
      "\u001b[1;33m[Open3D WARNING] Read PNG failed: unable to parse header.\u001b[0;m\n"
     ]
    },
    {
     "name": "stderr",
     "output_type": "stream",
     "text": [
      "\r",
      " 93%|███████████████████████████████████████   | 93/100 [00:34<00:02,  2.66it/s]"
     ]
    },
    {
     "name": "stdout",
     "output_type": "stream",
     "text": [
      "\u001b[1;33m[Open3D WARNING] Read PNG failed: unable to parse header.\u001b[0;m\n",
      "\u001b[1;33m[Open3D WARNING] Read PNG failed: unable to parse header.\u001b[0;m\n",
      "\u001b[1;33m[Open3D WARNING] Read PNG failed: unable to parse header.\u001b[0;m\n",
      "\u001b[1;33m[Open3D WARNING] Read PNG failed: unable to parse header.\u001b[0;m\n"
     ]
    },
    {
     "name": "stderr",
     "output_type": "stream",
     "text": [
      " 95%|███████████████████████████████████████▉  | 95/100 [00:35<00:01,  2.62it/s]"
     ]
    },
    {
     "name": "stdout",
     "output_type": "stream",
     "text": [
      "\u001b[1;33m[Open3D WARNING] Read PNG failed: unable to parse header.\u001b[0;m\n",
      "\u001b[1;33m[Open3D WARNING] Read PNG failed: unable to parse header.\u001b[0;m\n"
     ]
    },
    {
     "name": "stderr",
     "output_type": "stream",
     "text": [
      "\r",
      " 96%|████████████████████████████████████████▎ | 96/100 [00:35<00:01,  2.62it/s]"
     ]
    },
    {
     "name": "stdout",
     "output_type": "stream",
     "text": [
      "\u001b[1;33m[Open3D WARNING] Read PNG failed: unable to parse header.\u001b[0;m\n",
      "\u001b[1;33m[Open3D WARNING] Read PNG failed: unable to parse header.\u001b[0;m\n"
     ]
    },
    {
     "name": "stderr",
     "output_type": "stream",
     "text": [
      "\r",
      " 97%|████████████████████████████████████████▋ | 97/100 [00:35<00:01,  2.67it/s]"
     ]
    },
    {
     "name": "stdout",
     "output_type": "stream",
     "text": [
      "\u001b[1;33m[Open3D WARNING] Read PNG failed: unable to parse header.\u001b[0;m\n",
      "\u001b[1;33m[Open3D WARNING] Read PNG failed: unable to parse header.\u001b[0;m\n"
     ]
    },
    {
     "name": "stderr",
     "output_type": "stream",
     "text": [
      "\r",
      " 98%|█████████████████████████████████████████▏| 98/100 [00:36<00:00,  2.71it/s]"
     ]
    },
    {
     "name": "stdout",
     "output_type": "stream",
     "text": [
      "\u001b[1;33m[Open3D WARNING] Read PNG failed: unable to parse header.\u001b[0;m\n",
      "\u001b[1;33m[Open3D WARNING] Read PNG failed: unable to parse header.\u001b[0;m\n"
     ]
    },
    {
     "name": "stderr",
     "output_type": "stream",
     "text": [
      "\r",
      " 99%|█████████████████████████████████████████▌| 99/100 [00:36<00:00,  2.73it/s]"
     ]
    },
    {
     "name": "stdout",
     "output_type": "stream",
     "text": [
      "\u001b[1;33m[Open3D WARNING] Read PNG failed: unable to parse header.\u001b[0;m\n",
      "\u001b[1;33m[Open3D WARNING] Read PNG failed: unable to parse header.\u001b[0;m\n"
     ]
    },
    {
     "name": "stderr",
     "output_type": "stream",
     "text": [
      "100%|█████████████████████████████████████████| 100/100 [00:36<00:00,  2.71it/s]"
     ]
    },
    {
     "name": "stdout",
     "output_type": "stream",
     "text": [
      "\u001b[1;33m[Open3D WARNING] Read PNG failed: unable to parse header.\u001b[0;m\n",
      "\u001b[1;33m[Open3D WARNING] Read PNG failed: unable to parse header.\u001b[0;m\n"
     ]
    },
    {
     "name": "stderr",
     "output_type": "stream",
     "text": [
      "\n"
     ]
    }
   ],
   "source": [
    "for i in tqdm(range(100)):\n",
    "    image = test_show(i+1)\n",
    "    img = Image.fromarray(image)\n",
    "    if not os.path.exists('./pic_{}'.format(animal_name)):\n",
    "        os.makedirs('./pic_{}'.format(animal_name))\n",
    "    img.save('./pic_{}/{}.png'.format(animal_name,i+1))"
   ]
  },
  {
   "cell_type": "code",
   "execution_count": null,
   "id": "db621c3c",
   "metadata": {},
   "outputs": [],
   "source": []
  }
 ],
 "metadata": {
  "interpreter": {
   "hash": "e72e4651659ee74c456ed58d60eb41d782e0860a47f05e8e225d334f58c03108"
  },
  "kernelspec": {
   "display_name": "Python 3 (ipykernel)",
   "language": "python",
   "name": "python3"
  },
  "language_info": {
   "codemirror_mode": {
    "name": "ipython",
    "version": 3
   },
   "file_extension": ".py",
   "mimetype": "text/x-python",
   "name": "python",
   "nbconvert_exporter": "python",
   "pygments_lexer": "ipython3",
   "version": "3.8.10"
  }
 },
 "nbformat": 4,
 "nbformat_minor": 5
}
