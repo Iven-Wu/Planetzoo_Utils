{
 "cells": [
  {
   "cell_type": "code",
   "execution_count": 1,
   "id": "f7e6c3dd",
   "metadata": {
    "scrolled": true
   },
   "outputs": [
    {
     "name": "stdout",
     "output_type": "stream",
     "text": [
      "Jupyter environment detected. Enabling Open3D WebVisualizer.\n",
      "[Open3D INFO] WebRTC GUI backend enabled.\n",
      "[Open3D INFO] WebRTCWindowSystem: HTTP handshake server disabled.\n"
     ]
    }
   ],
   "source": [
    "import open3d as o3d\n",
    "import numpy as np\n",
    "import trimesh \n",
    "import os"
   ]
  },
  {
   "cell_type": "code",
   "execution_count": 61,
   "id": "4e1dff10",
   "metadata": {},
   "outputs": [],
   "source": [
    "mesh_file = 'mesh_file'\n",
    "info_file = 'mesh_lbs'"
   ]
  },
  {
   "cell_type": "code",
   "execution_count": 62,
   "id": "0b38b323",
   "metadata": {},
   "outputs": [],
   "source": [
    "a = o3d.io.read_triangle_mesh(os.path.join(mesh_file,'Frame1.obj'))"
   ]
  },
  {
   "cell_type": "code",
   "execution_count": 63,
   "id": "e146a671",
   "metadata": {},
   "outputs": [],
   "source": [
    "color_array = np.random.random((40,3))"
   ]
  },
  {
   "cell_type": "code",
   "execution_count": 65,
   "id": "07125d46",
   "metadata": {},
   "outputs": [
    {
     "data": {
      "text/plain": [
       "(5430, 40)"
      ]
     },
     "execution_count": 65,
     "metadata": {},
     "output_type": "execute_result"
    }
   ],
   "source": [
    "W1.shape"
   ]
  },
  {
   "cell_type": "code",
   "execution_count": 66,
   "id": "39f0a55f",
   "metadata": {},
   "outputs": [],
   "source": [
    "R = np.load(os.path.join(info_file,'R.npy'))\n",
    "W1 = np.load(os.path.join(info_file,'W1.npy'))\n",
    "old_mesh = np.load(os.path.join(info_file,'old_mesh.npy'))"
   ]
  },
  {
   "cell_type": "code",
   "execution_count": 72,
   "id": "da89acaa",
   "metadata": {},
   "outputs": [],
   "source": [
    "assert np.array(a.vertices).shape[0]==W1.shape[0]"
   ]
  },
  {
   "cell_type": "code",
   "execution_count": 67,
   "id": "744ff165",
   "metadata": {},
   "outputs": [
    {
     "data": {
      "text/plain": [
       "(2216, 3)"
      ]
     },
     "execution_count": 67,
     "metadata": {},
     "output_type": "execute_result"
    }
   ],
   "source": [
    "(W1@color_array).shape"
   ]
  },
  {
   "cell_type": "code",
   "execution_count": 68,
   "id": "c549b6e6",
   "metadata": {},
   "outputs": [],
   "source": [
    "a.vertex_colors = o3d.utility.Vector3dVector((W1@color_array))"
   ]
  },
  {
   "cell_type": "code",
   "execution_count": 55,
   "id": "74f544f7",
   "metadata": {},
   "outputs": [
    {
     "data": {
      "text/plain": [
       "std::vector<Eigen::Vector3d> with 5430 elements.\n",
       "Use numpy.asarray() to access data."
      ]
     },
     "execution_count": 55,
     "metadata": {},
     "output_type": "execute_result"
    }
   ],
   "source": [
    "a.vertex_colors = o3d.utility.Vector3dVector"
   ]
  },
  {
   "cell_type": "code",
   "execution_count": 69,
   "id": "93571f93",
   "metadata": {},
   "outputs": [],
   "source": [
    "o3d.visualization.draw_geometries([a])"
   ]
  }
 ],
 "metadata": {
  "kernelspec": {
   "display_name": "Python 3 (ipykernel)",
   "language": "python",
   "name": "python3"
  },
  "language_info": {
   "codemirror_mode": {
    "name": "ipython",
    "version": 3
   },
   "file_extension": ".py",
   "mimetype": "text/x-python",
   "name": "python",
   "nbconvert_exporter": "python",
   "pygments_lexer": "ipython3",
   "version": "3.8.10"
  }
 },
 "nbformat": 4,
 "nbformat_minor": 5
}
